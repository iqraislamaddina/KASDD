{
  "nbformat": 4,
  "nbformat_minor": 0,
  "metadata": {
    "colab": {
      "provenance": []
    },
    "kernelspec": {
      "display_name": "Python 3",
      "name": "python3"
    },
    "language_info": {
      "name": "python"
    }
  },
  "cells": [
    {
      "cell_type": "markdown",
      "metadata": {
        "id": "JnRUE1Ul62_R"
      },
      "source": [
        "## **Introduction to Data Science Tools**\n",
        "\n",
        "This is the introduction of data science tools and the fundamentals of the things I will be working with in data science. This lab will teach me the basic libraries such as; Pandas, Numpy, and Scikit-learn.\n",
        "\n",
        "Reference: [\"https://scikit-learn.org/stable/modules/generated/sklearn.metrics.pairwise.paired_euclidean_distances.html\"]"
      ]
    },
    {
      "cell_type": "markdown",
      "metadata": {
        "id": "H6diV1LENqvU"
      },
      "source": [
        "# **A. Pandas**"
      ]
    },
    {
      "cell_type": "markdown",
      "metadata": {
        "id": "BhkYN7lVNqvU"
      },
      "source": [
        "[__Pandas__](https://pandas.pydata.org/docs/) is a _library_ for the Python language that provides data structures and functions that simplify data processing and analysis."
      ]
    },
    {
      "cell_type": "code",
      "metadata": {
        "id": "JRTxbTF3NqvU"
      },
      "source": [
        "# import library\n",
        "import pandas as pd"
      ],
      "execution_count": null,
      "outputs": []
    },
    {
      "cell_type": "markdown",
      "metadata": {
        "id": "TzHytk03NqvV"
      },
      "source": [
        "## Objek _DataFrame_"
      ]
    },
    {
      "cell_type": "markdown",
      "metadata": {
        "id": "HdT5krrhNqvV"
      },
      "source": [
        "_DataFrame_ is the main data structure in Pandas. This data structure can be used to store 2-dimensional table data. The rows of a _DataFrame_ are ordered starting from 0. If column names are not given, then the columns will also be ordered from 0. You can create a _DataFrame_ from a generic collection such as _list_ or read a file (such as CSV, JSON, XML) as a _DataFrame_."
      ]
    },
    {
      "cell_type": "code",
      "metadata": {
        "colab": {
          "base_uri": "https://localhost:8080/",
          "height": 423
        },
        "id": "fNBiAXNINqvW",
        "outputId": "bee6bfe5-c808-4411-df50-716537e48607"
      },
      "source": [
        "#Creates Dataframe\n",
        "df = pd.read_csv(\n",
        "    'https://archive.ics.uci.edu/ml/machine-learning-databases/car/car.data', # Path menuju berkas dataset, dapat berupa path lokal maupun remote\n",
        "    header=None # First line of dataset is not a header\n",
        ")\n",
        "display(df) # Shows Dataframe"
      ],
      "execution_count": null,
      "outputs": [
        {
          "output_type": "display_data",
          "data": {
            "text/html": [
              "<div>\n",
              "<style scoped>\n",
              "    .dataframe tbody tr th:only-of-type {\n",
              "        vertical-align: middle;\n",
              "    }\n",
              "\n",
              "    .dataframe tbody tr th {\n",
              "        vertical-align: top;\n",
              "    }\n",
              "\n",
              "    .dataframe thead th {\n",
              "        text-align: right;\n",
              "    }\n",
              "</style>\n",
              "<table border=\"1\" class=\"dataframe\">\n",
              "  <thead>\n",
              "    <tr style=\"text-align: right;\">\n",
              "      <th></th>\n",
              "      <th>0</th>\n",
              "      <th>1</th>\n",
              "      <th>2</th>\n",
              "      <th>3</th>\n",
              "      <th>4</th>\n",
              "      <th>5</th>\n",
              "      <th>6</th>\n",
              "    </tr>\n",
              "  </thead>\n",
              "  <tbody>\n",
              "    <tr>\n",
              "      <th>0</th>\n",
              "      <td>vhigh</td>\n",
              "      <td>vhigh</td>\n",
              "      <td>2</td>\n",
              "      <td>2</td>\n",
              "      <td>small</td>\n",
              "      <td>low</td>\n",
              "      <td>unacc</td>\n",
              "    </tr>\n",
              "    <tr>\n",
              "      <th>1</th>\n",
              "      <td>vhigh</td>\n",
              "      <td>vhigh</td>\n",
              "      <td>2</td>\n",
              "      <td>2</td>\n",
              "      <td>small</td>\n",
              "      <td>med</td>\n",
              "      <td>unacc</td>\n",
              "    </tr>\n",
              "    <tr>\n",
              "      <th>2</th>\n",
              "      <td>vhigh</td>\n",
              "      <td>vhigh</td>\n",
              "      <td>2</td>\n",
              "      <td>2</td>\n",
              "      <td>small</td>\n",
              "      <td>high</td>\n",
              "      <td>unacc</td>\n",
              "    </tr>\n",
              "    <tr>\n",
              "      <th>3</th>\n",
              "      <td>vhigh</td>\n",
              "      <td>vhigh</td>\n",
              "      <td>2</td>\n",
              "      <td>2</td>\n",
              "      <td>med</td>\n",
              "      <td>low</td>\n",
              "      <td>unacc</td>\n",
              "    </tr>\n",
              "    <tr>\n",
              "      <th>4</th>\n",
              "      <td>vhigh</td>\n",
              "      <td>vhigh</td>\n",
              "      <td>2</td>\n",
              "      <td>2</td>\n",
              "      <td>med</td>\n",
              "      <td>med</td>\n",
              "      <td>unacc</td>\n",
              "    </tr>\n",
              "    <tr>\n",
              "      <th>...</th>\n",
              "      <td>...</td>\n",
              "      <td>...</td>\n",
              "      <td>...</td>\n",
              "      <td>...</td>\n",
              "      <td>...</td>\n",
              "      <td>...</td>\n",
              "      <td>...</td>\n",
              "    </tr>\n",
              "    <tr>\n",
              "      <th>1723</th>\n",
              "      <td>low</td>\n",
              "      <td>low</td>\n",
              "      <td>5more</td>\n",
              "      <td>more</td>\n",
              "      <td>med</td>\n",
              "      <td>med</td>\n",
              "      <td>good</td>\n",
              "    </tr>\n",
              "    <tr>\n",
              "      <th>1724</th>\n",
              "      <td>low</td>\n",
              "      <td>low</td>\n",
              "      <td>5more</td>\n",
              "      <td>more</td>\n",
              "      <td>med</td>\n",
              "      <td>high</td>\n",
              "      <td>vgood</td>\n",
              "    </tr>\n",
              "    <tr>\n",
              "      <th>1725</th>\n",
              "      <td>low</td>\n",
              "      <td>low</td>\n",
              "      <td>5more</td>\n",
              "      <td>more</td>\n",
              "      <td>big</td>\n",
              "      <td>low</td>\n",
              "      <td>unacc</td>\n",
              "    </tr>\n",
              "    <tr>\n",
              "      <th>1726</th>\n",
              "      <td>low</td>\n",
              "      <td>low</td>\n",
              "      <td>5more</td>\n",
              "      <td>more</td>\n",
              "      <td>big</td>\n",
              "      <td>med</td>\n",
              "      <td>good</td>\n",
              "    </tr>\n",
              "    <tr>\n",
              "      <th>1727</th>\n",
              "      <td>low</td>\n",
              "      <td>low</td>\n",
              "      <td>5more</td>\n",
              "      <td>more</td>\n",
              "      <td>big</td>\n",
              "      <td>high</td>\n",
              "      <td>vgood</td>\n",
              "    </tr>\n",
              "  </tbody>\n",
              "</table>\n",
              "<p>1728 rows × 7 columns</p>\n",
              "</div>"
            ],
            "text/plain": [
              "          0      1      2     3      4     5      6\n",
              "0     vhigh  vhigh      2     2  small   low  unacc\n",
              "1     vhigh  vhigh      2     2  small   med  unacc\n",
              "2     vhigh  vhigh      2     2  small  high  unacc\n",
              "3     vhigh  vhigh      2     2    med   low  unacc\n",
              "4     vhigh  vhigh      2     2    med   med  unacc\n",
              "...     ...    ...    ...   ...    ...   ...    ...\n",
              "1723    low    low  5more  more    med   med   good\n",
              "1724    low    low  5more  more    med  high  vgood\n",
              "1725    low    low  5more  more    big   low  unacc\n",
              "1726    low    low  5more  more    big   med   good\n",
              "1727    low    low  5more  more    big  high  vgood\n",
              "\n",
              "[1728 rows x 7 columns]"
            ]
          },
          "metadata": {}
        }
      ]
    },
    {
      "cell_type": "markdown",
      "metadata": {
        "id": "Eo9HM0n9NqvX"
      },
      "source": [
        "Give column names to the _DataFrame_ to make them more meaningful"
      ]
    },
    {
      "cell_type": "code",
      "metadata": {
        "colab": {
          "base_uri": "https://localhost:8080/",
          "height": 423
        },
        "id": "5Qul6TbLNqvX",
        "outputId": "c8a33e0a-b0c6-4747-91c2-43cf106a7f2d"
      },
      "source": [
        "df.columns = ['buying', 'maint', 'doors', 'persons', 'lug_boot', 'safety', 'label']\n",
        "df"
      ],
      "execution_count": null,
      "outputs": [
        {
          "output_type": "execute_result",
          "data": {
            "text/html": [
              "<div>\n",
              "<style scoped>\n",
              "    .dataframe tbody tr th:only-of-type {\n",
              "        vertical-align: middle;\n",
              "    }\n",
              "\n",
              "    .dataframe tbody tr th {\n",
              "        vertical-align: top;\n",
              "    }\n",
              "\n",
              "    .dataframe thead th {\n",
              "        text-align: right;\n",
              "    }\n",
              "</style>\n",
              "<table border=\"1\" class=\"dataframe\">\n",
              "  <thead>\n",
              "    <tr style=\"text-align: right;\">\n",
              "      <th></th>\n",
              "      <th>buying</th>\n",
              "      <th>maint</th>\n",
              "      <th>doors</th>\n",
              "      <th>persons</th>\n",
              "      <th>lug_boot</th>\n",
              "      <th>safety</th>\n",
              "      <th>label</th>\n",
              "    </tr>\n",
              "  </thead>\n",
              "  <tbody>\n",
              "    <tr>\n",
              "      <th>0</th>\n",
              "      <td>vhigh</td>\n",
              "      <td>vhigh</td>\n",
              "      <td>2</td>\n",
              "      <td>2</td>\n",
              "      <td>small</td>\n",
              "      <td>low</td>\n",
              "      <td>unacc</td>\n",
              "    </tr>\n",
              "    <tr>\n",
              "      <th>1</th>\n",
              "      <td>vhigh</td>\n",
              "      <td>vhigh</td>\n",
              "      <td>2</td>\n",
              "      <td>2</td>\n",
              "      <td>small</td>\n",
              "      <td>med</td>\n",
              "      <td>unacc</td>\n",
              "    </tr>\n",
              "    <tr>\n",
              "      <th>2</th>\n",
              "      <td>vhigh</td>\n",
              "      <td>vhigh</td>\n",
              "      <td>2</td>\n",
              "      <td>2</td>\n",
              "      <td>small</td>\n",
              "      <td>high</td>\n",
              "      <td>unacc</td>\n",
              "    </tr>\n",
              "    <tr>\n",
              "      <th>3</th>\n",
              "      <td>vhigh</td>\n",
              "      <td>vhigh</td>\n",
              "      <td>2</td>\n",
              "      <td>2</td>\n",
              "      <td>med</td>\n",
              "      <td>low</td>\n",
              "      <td>unacc</td>\n",
              "    </tr>\n",
              "    <tr>\n",
              "      <th>4</th>\n",
              "      <td>vhigh</td>\n",
              "      <td>vhigh</td>\n",
              "      <td>2</td>\n",
              "      <td>2</td>\n",
              "      <td>med</td>\n",
              "      <td>med</td>\n",
              "      <td>unacc</td>\n",
              "    </tr>\n",
              "    <tr>\n",
              "      <th>...</th>\n",
              "      <td>...</td>\n",
              "      <td>...</td>\n",
              "      <td>...</td>\n",
              "      <td>...</td>\n",
              "      <td>...</td>\n",
              "      <td>...</td>\n",
              "      <td>...</td>\n",
              "    </tr>\n",
              "    <tr>\n",
              "      <th>1723</th>\n",
              "      <td>low</td>\n",
              "      <td>low</td>\n",
              "      <td>5more</td>\n",
              "      <td>more</td>\n",
              "      <td>med</td>\n",
              "      <td>med</td>\n",
              "      <td>good</td>\n",
              "    </tr>\n",
              "    <tr>\n",
              "      <th>1724</th>\n",
              "      <td>low</td>\n",
              "      <td>low</td>\n",
              "      <td>5more</td>\n",
              "      <td>more</td>\n",
              "      <td>med</td>\n",
              "      <td>high</td>\n",
              "      <td>vgood</td>\n",
              "    </tr>\n",
              "    <tr>\n",
              "      <th>1725</th>\n",
              "      <td>low</td>\n",
              "      <td>low</td>\n",
              "      <td>5more</td>\n",
              "      <td>more</td>\n",
              "      <td>big</td>\n",
              "      <td>low</td>\n",
              "      <td>unacc</td>\n",
              "    </tr>\n",
              "    <tr>\n",
              "      <th>1726</th>\n",
              "      <td>low</td>\n",
              "      <td>low</td>\n",
              "      <td>5more</td>\n",
              "      <td>more</td>\n",
              "      <td>big</td>\n",
              "      <td>med</td>\n",
              "      <td>good</td>\n",
              "    </tr>\n",
              "    <tr>\n",
              "      <th>1727</th>\n",
              "      <td>low</td>\n",
              "      <td>low</td>\n",
              "      <td>5more</td>\n",
              "      <td>more</td>\n",
              "      <td>big</td>\n",
              "      <td>high</td>\n",
              "      <td>vgood</td>\n",
              "    </tr>\n",
              "  </tbody>\n",
              "</table>\n",
              "<p>1728 rows × 7 columns</p>\n",
              "</div>"
            ],
            "text/plain": [
              "     buying  maint  doors persons lug_boot safety  label\n",
              "0     vhigh  vhigh      2       2    small    low  unacc\n",
              "1     vhigh  vhigh      2       2    small    med  unacc\n",
              "2     vhigh  vhigh      2       2    small   high  unacc\n",
              "3     vhigh  vhigh      2       2      med    low  unacc\n",
              "4     vhigh  vhigh      2       2      med    med  unacc\n",
              "...     ...    ...    ...     ...      ...    ...    ...\n",
              "1723    low    low  5more    more      med    med   good\n",
              "1724    low    low  5more    more      med   high  vgood\n",
              "1725    low    low  5more    more      big    low  unacc\n",
              "1726    low    low  5more    more      big    med   good\n",
              "1727    low    low  5more    more      big   high  vgood\n",
              "\n",
              "[1728 rows x 7 columns]"
            ]
          },
          "metadata": {},
          "execution_count": 5
        }
      ]
    },
    {
      "cell_type": "markdown",
      "metadata": {
        "id": "0gLGlnTDIx-E"
      },
      "source": [
        "**Data Set \"Car Evaluation\"**\n",
        "\n",
        "* `buying`: buying price\n",
        "* `maint`: price of the maintenance\n",
        "* `doors`: number of doors\n",
        "* `persons`: capacity in terms of persons to carry\n",
        "* `lug_boot`: the size of luggage boot\n",
        "* `safety`: estimated safety of the car\n",
        "* `label`: car acceptability (target)\n",
        "\n",
        "Data set source: https://archive.ics.uci.edu/ml/datasets/car+evaluation"
      ]
    },
    {
      "cell_type": "markdown",
      "metadata": {
        "id": "Y_FQ6iLENqvX"
      },
      "source": [
        "Use _method_ <code>head()</code> to view only the first 5 rows of the _DataFrame_. The parameters in <code>head()</code> can also be changed according to the number of lines you want to display. Use <code>tail()</code> to view the last 5 lines."
      ]
    },
    {
      "cell_type": "code",
      "metadata": {
        "colab": {
          "base_uri": "https://localhost:8080/",
          "height": 206
        },
        "id": "ZF5MEviDNqvY",
        "outputId": "5342fb6e-d4e6-4082-d2f5-b9c96349e17e"
      },
      "source": [
        "df.head()"
      ],
      "execution_count": null,
      "outputs": [
        {
          "output_type": "execute_result",
          "data": {
            "text/html": [
              "<div>\n",
              "<style scoped>\n",
              "    .dataframe tbody tr th:only-of-type {\n",
              "        vertical-align: middle;\n",
              "    }\n",
              "\n",
              "    .dataframe tbody tr th {\n",
              "        vertical-align: top;\n",
              "    }\n",
              "\n",
              "    .dataframe thead th {\n",
              "        text-align: right;\n",
              "    }\n",
              "</style>\n",
              "<table border=\"1\" class=\"dataframe\">\n",
              "  <thead>\n",
              "    <tr style=\"text-align: right;\">\n",
              "      <th></th>\n",
              "      <th>buying</th>\n",
              "      <th>maint</th>\n",
              "      <th>doors</th>\n",
              "      <th>persons</th>\n",
              "      <th>lug_boot</th>\n",
              "      <th>safety</th>\n",
              "      <th>label</th>\n",
              "    </tr>\n",
              "  </thead>\n",
              "  <tbody>\n",
              "    <tr>\n",
              "      <th>0</th>\n",
              "      <td>vhigh</td>\n",
              "      <td>vhigh</td>\n",
              "      <td>2</td>\n",
              "      <td>2</td>\n",
              "      <td>small</td>\n",
              "      <td>low</td>\n",
              "      <td>unacc</td>\n",
              "    </tr>\n",
              "    <tr>\n",
              "      <th>1</th>\n",
              "      <td>vhigh</td>\n",
              "      <td>vhigh</td>\n",
              "      <td>2</td>\n",
              "      <td>2</td>\n",
              "      <td>small</td>\n",
              "      <td>med</td>\n",
              "      <td>unacc</td>\n",
              "    </tr>\n",
              "    <tr>\n",
              "      <th>2</th>\n",
              "      <td>vhigh</td>\n",
              "      <td>vhigh</td>\n",
              "      <td>2</td>\n",
              "      <td>2</td>\n",
              "      <td>small</td>\n",
              "      <td>high</td>\n",
              "      <td>unacc</td>\n",
              "    </tr>\n",
              "    <tr>\n",
              "      <th>3</th>\n",
              "      <td>vhigh</td>\n",
              "      <td>vhigh</td>\n",
              "      <td>2</td>\n",
              "      <td>2</td>\n",
              "      <td>med</td>\n",
              "      <td>low</td>\n",
              "      <td>unacc</td>\n",
              "    </tr>\n",
              "    <tr>\n",
              "      <th>4</th>\n",
              "      <td>vhigh</td>\n",
              "      <td>vhigh</td>\n",
              "      <td>2</td>\n",
              "      <td>2</td>\n",
              "      <td>med</td>\n",
              "      <td>med</td>\n",
              "      <td>unacc</td>\n",
              "    </tr>\n",
              "  </tbody>\n",
              "</table>\n",
              "</div>"
            ],
            "text/plain": [
              "  buying  maint doors persons lug_boot safety  label\n",
              "0  vhigh  vhigh     2       2    small    low  unacc\n",
              "1  vhigh  vhigh     2       2    small    med  unacc\n",
              "2  vhigh  vhigh     2       2    small   high  unacc\n",
              "3  vhigh  vhigh     2       2      med    low  unacc\n",
              "4  vhigh  vhigh     2       2      med    med  unacc"
            ]
          },
          "metadata": {},
          "execution_count": 6
        }
      ]
    },
    {
      "cell_type": "markdown",
      "metadata": {
        "id": "0eRn7VO4NqvY"
      },
      "source": [
        "## Displays the attributes of the _DataFrame_ object"
      ]
    },
    {
      "cell_type": "markdown",
      "metadata": {
        "id": "QQNsGdFTNqvZ"
      },
      "source": [
        "Returns the dimensions of a _DataFrame_ with the <code>shape</code> attribute"
      ]
    },
    {
      "cell_type": "code",
      "metadata": {
        "colab": {
          "base_uri": "https://localhost:8080/"
        },
        "id": "jyKvEOu6NqvZ",
        "outputId": "514ada45-faf2-43d4-9aa0-04e19238d4d9"
      },
      "source": [
        "print(\"Dimension of df: \", df.shape)\n",
        "print(\"df consists of {} rows and {} columns.\".format(df.shape[0], df.shape[1]))"
      ],
      "execution_count": null,
      "outputs": [
        {
          "output_type": "stream",
          "name": "stdout",
          "text": [
            "Dimensi dari df adalah (1728, 7)\n",
            "df terdiri atas 1728 baris dan 7 kolom.\n"
          ]
        }
      ]
    },
    {
      "cell_type": "markdown",
      "metadata": {
        "id": "V6U_1aoSNqvZ"
      },
      "source": [
        "Displays the data type for each column with the <code>dtypes</code> attribute"
      ]
    },
    {
      "cell_type": "code",
      "metadata": {
        "colab": {
          "base_uri": "https://localhost:8080/"
        },
        "id": "_0IoXSRkNqvZ",
        "outputId": "225504fe-dc73-4ab7-aa3a-b0ebbdff025d"
      },
      "source": [
        "df.dtypes"
      ],
      "execution_count": null,
      "outputs": [
        {
          "output_type": "execute_result",
          "data": {
            "text/plain": [
              "buying      object\n",
              "maint       object\n",
              "doors       object\n",
              "persons     object\n",
              "lug_boot    object\n",
              "safety      object\n",
              "label       object\n",
              "dtype: object"
            ]
          },
          "metadata": {},
          "execution_count": 8
        }
      ]
    },
    {
      "cell_type": "markdown",
      "metadata": {
        "id": "TJr7myGkNqva"
      },
      "source": [
        "Display general statistics for each column with _method_ <code>describe()</code>"
      ]
    },
    {
      "cell_type": "code",
      "metadata": {
        "colab": {
          "base_uri": "https://localhost:8080/",
          "height": 175
        },
        "id": "hTA7W5J3Nqva",
        "outputId": "e5ddc6af-da23-4514-cd04-3f421d54c3e9"
      },
      "source": [
        "df.describe()"
      ],
      "execution_count": null,
      "outputs": [
        {
          "output_type": "execute_result",
          "data": {
            "text/html": [
              "<div>\n",
              "<style scoped>\n",
              "    .dataframe tbody tr th:only-of-type {\n",
              "        vertical-align: middle;\n",
              "    }\n",
              "\n",
              "    .dataframe tbody tr th {\n",
              "        vertical-align: top;\n",
              "    }\n",
              "\n",
              "    .dataframe thead th {\n",
              "        text-align: right;\n",
              "    }\n",
              "</style>\n",
              "<table border=\"1\" class=\"dataframe\">\n",
              "  <thead>\n",
              "    <tr style=\"text-align: right;\">\n",
              "      <th></th>\n",
              "      <th>buying</th>\n",
              "      <th>maint</th>\n",
              "      <th>doors</th>\n",
              "      <th>persons</th>\n",
              "      <th>lug_boot</th>\n",
              "      <th>safety</th>\n",
              "      <th>label</th>\n",
              "    </tr>\n",
              "  </thead>\n",
              "  <tbody>\n",
              "    <tr>\n",
              "      <th>count</th>\n",
              "      <td>1728</td>\n",
              "      <td>1728</td>\n",
              "      <td>1728</td>\n",
              "      <td>1728</td>\n",
              "      <td>1728</td>\n",
              "      <td>1728</td>\n",
              "      <td>1728</td>\n",
              "    </tr>\n",
              "    <tr>\n",
              "      <th>unique</th>\n",
              "      <td>4</td>\n",
              "      <td>4</td>\n",
              "      <td>4</td>\n",
              "      <td>3</td>\n",
              "      <td>3</td>\n",
              "      <td>3</td>\n",
              "      <td>4</td>\n",
              "    </tr>\n",
              "    <tr>\n",
              "      <th>top</th>\n",
              "      <td>low</td>\n",
              "      <td>low</td>\n",
              "      <td>5more</td>\n",
              "      <td>more</td>\n",
              "      <td>small</td>\n",
              "      <td>low</td>\n",
              "      <td>unacc</td>\n",
              "    </tr>\n",
              "    <tr>\n",
              "      <th>freq</th>\n",
              "      <td>432</td>\n",
              "      <td>432</td>\n",
              "      <td>432</td>\n",
              "      <td>576</td>\n",
              "      <td>576</td>\n",
              "      <td>576</td>\n",
              "      <td>1210</td>\n",
              "    </tr>\n",
              "  </tbody>\n",
              "</table>\n",
              "</div>"
            ],
            "text/plain": [
              "       buying maint  doors persons lug_boot safety  label\n",
              "count    1728  1728   1728    1728     1728   1728   1728\n",
              "unique      4     4      4       3        3      3      4\n",
              "top       low   low  5more    more    small    low  unacc\n",
              "freq      432   432    432     576      576    576   1210"
            ]
          },
          "metadata": {},
          "execution_count": 9
        }
      ]
    },
    {
      "cell_type": "code",
      "metadata": {
        "colab": {
          "base_uri": "https://localhost:8080/"
        },
        "id": "DmmrBE9nNqva",
        "outputId": "e5c4262a-7ea5-46de-c692-7156b76b5484"
      },
      "source": [
        "# Statistical description for the desired column\n",
        "df['buying'].describe()"
      ],
      "execution_count": null,
      "outputs": [
        {
          "output_type": "execute_result",
          "data": {
            "text/plain": [
              "count     1728\n",
              "unique       4\n",
              "top        low\n",
              "freq       432\n",
              "Name: buying, dtype: object"
            ]
          },
          "metadata": {},
          "execution_count": 10
        }
      ]
    },
    {
      "cell_type": "markdown",
      "metadata": {
        "id": "Puq7pSc1Nqvb"
      },
      "source": [
        "Count the number of non-null elements per column with __method__ <code>count()</code>"
      ]
    },
    {
      "cell_type": "code",
      "metadata": {
        "colab": {
          "base_uri": "https://localhost:8080/"
        },
        "id": "LJOWrFffNqvb",
        "outputId": "57f6f13b-ba15-4634-ce04-aeb52b99e489"
      },
      "source": [
        "print(\"Count for df\\n\", df.count())"
      ],
      "execution_count": null,
      "outputs": [
        {
          "output_type": "stream",
          "name": "stdout",
          "text": [
            "Count untuk df\n",
            " buying      1728\n",
            "maint       1728\n",
            "doors       1728\n",
            "persons     1728\n",
            "lug_boot    1728\n",
            "safety      1728\n",
            "label       1728\n",
            "dtype: int64\n"
          ]
        }
      ]
    },
    {
      "cell_type": "markdown",
      "metadata": {
        "id": "JqO4tPlCNqve"
      },
      "source": [
        "It can be seen above that the total df counts for 1728 rows, but this does not absolutely mean there are no _null_ values. Checking and handling _null_ values is discussed in the subsection \"__Handling _missing values___\"."
      ]
    },
    {
      "cell_type": "markdown",
      "metadata": {
        "id": "0qQIDs2CNqve"
      },
      "source": [
        "## Access _DataFrame_ rows and columns"
      ]
    },
    {
      "cell_type": "markdown",
      "metadata": {
        "id": "_kFdwzq8Nqvf"
      },
      "source": [
        "We can access _DataFrame_ columns like accessing indexes on an array or list, either as a Series or a new DataFrame."
      ]
    },
    {
      "cell_type": "code",
      "metadata": {
        "colab": {
          "base_uri": "https://localhost:8080/"
        },
        "id": "2t2Fy6xUNqvf",
        "outputId": "b8f1e064-2012-4f31-86cf-b16c4fdab8e9"
      },
      "source": [
        "# Access column as Series\n",
        "df_buying = df['buying']\n",
        "print(type(df_buying))\n",
        "df_buying"
      ],
      "execution_count": null,
      "outputs": [
        {
          "output_type": "stream",
          "name": "stdout",
          "text": [
            "<class 'pandas.core.series.Series'>\n"
          ]
        },
        {
          "output_type": "execute_result",
          "data": {
            "text/plain": [
              "0       vhigh\n",
              "1       vhigh\n",
              "2       vhigh\n",
              "3       vhigh\n",
              "4       vhigh\n",
              "        ...  \n",
              "1723      low\n",
              "1724      low\n",
              "1725      low\n",
              "1726      low\n",
              "1727      low\n",
              "Name: buying, Length: 1728, dtype: object"
            ]
          },
          "metadata": {},
          "execution_count": 12
        }
      ]
    },
    {
      "cell_type": "code",
      "metadata": {
        "colab": {
          "base_uri": "https://localhost:8080/",
          "height": 441
        },
        "id": "4KKUn9MXNqvg",
        "outputId": "161ec4b2-4593-4a16-b523-1ce98a1c0da3"
      },
      "source": [
        "# Access column as Dataframe\n",
        "df_buying_2 = df[['buying']]\n",
        "print(type(df_buying_2))\n",
        "df_buying_2"
      ],
      "execution_count": null,
      "outputs": [
        {
          "output_type": "stream",
          "name": "stdout",
          "text": [
            "<class 'pandas.core.frame.DataFrame'>\n"
          ]
        },
        {
          "output_type": "execute_result",
          "data": {
            "text/html": [
              "<div>\n",
              "<style scoped>\n",
              "    .dataframe tbody tr th:only-of-type {\n",
              "        vertical-align: middle;\n",
              "    }\n",
              "\n",
              "    .dataframe tbody tr th {\n",
              "        vertical-align: top;\n",
              "    }\n",
              "\n",
              "    .dataframe thead th {\n",
              "        text-align: right;\n",
              "    }\n",
              "</style>\n",
              "<table border=\"1\" class=\"dataframe\">\n",
              "  <thead>\n",
              "    <tr style=\"text-align: right;\">\n",
              "      <th></th>\n",
              "      <th>buying</th>\n",
              "    </tr>\n",
              "  </thead>\n",
              "  <tbody>\n",
              "    <tr>\n",
              "      <th>0</th>\n",
              "      <td>vhigh</td>\n",
              "    </tr>\n",
              "    <tr>\n",
              "      <th>1</th>\n",
              "      <td>vhigh</td>\n",
              "    </tr>\n",
              "    <tr>\n",
              "      <th>2</th>\n",
              "      <td>vhigh</td>\n",
              "    </tr>\n",
              "    <tr>\n",
              "      <th>3</th>\n",
              "      <td>vhigh</td>\n",
              "    </tr>\n",
              "    <tr>\n",
              "      <th>4</th>\n",
              "      <td>vhigh</td>\n",
              "    </tr>\n",
              "    <tr>\n",
              "      <th>...</th>\n",
              "      <td>...</td>\n",
              "    </tr>\n",
              "    <tr>\n",
              "      <th>1723</th>\n",
              "      <td>low</td>\n",
              "    </tr>\n",
              "    <tr>\n",
              "      <th>1724</th>\n",
              "      <td>low</td>\n",
              "    </tr>\n",
              "    <tr>\n",
              "      <th>1725</th>\n",
              "      <td>low</td>\n",
              "    </tr>\n",
              "    <tr>\n",
              "      <th>1726</th>\n",
              "      <td>low</td>\n",
              "    </tr>\n",
              "    <tr>\n",
              "      <th>1727</th>\n",
              "      <td>low</td>\n",
              "    </tr>\n",
              "  </tbody>\n",
              "</table>\n",
              "<p>1728 rows × 1 columns</p>\n",
              "</div>"
            ],
            "text/plain": [
              "     buying\n",
              "0     vhigh\n",
              "1     vhigh\n",
              "2     vhigh\n",
              "3     vhigh\n",
              "4     vhigh\n",
              "...     ...\n",
              "1723    low\n",
              "1724    low\n",
              "1725    low\n",
              "1726    low\n",
              "1727    low\n",
              "\n",
              "[1728 rows x 1 columns]"
            ]
          },
          "metadata": {},
          "execution_count": 13
        }
      ]
    },
    {
      "cell_type": "code",
      "metadata": {
        "colab": {
          "base_uri": "https://localhost:8080/",
          "height": 423
        },
        "id": "qO_yVEZNNqvg",
        "outputId": "bff6b5fe-691f-4848-e48a-0d1231d73a31"
      },
      "source": [
        "# Access more than 1 column as a DataFrame\n",
        "df_buying_maint = df[['buying', 'maint']]\n",
        "df_buying_maint"
      ],
      "execution_count": null,
      "outputs": [
        {
          "output_type": "execute_result",
          "data": {
            "text/html": [
              "<div>\n",
              "<style scoped>\n",
              "    .dataframe tbody tr th:only-of-type {\n",
              "        vertical-align: middle;\n",
              "    }\n",
              "\n",
              "    .dataframe tbody tr th {\n",
              "        vertical-align: top;\n",
              "    }\n",
              "\n",
              "    .dataframe thead th {\n",
              "        text-align: right;\n",
              "    }\n",
              "</style>\n",
              "<table border=\"1\" class=\"dataframe\">\n",
              "  <thead>\n",
              "    <tr style=\"text-align: right;\">\n",
              "      <th></th>\n",
              "      <th>buying</th>\n",
              "      <th>maint</th>\n",
              "    </tr>\n",
              "  </thead>\n",
              "  <tbody>\n",
              "    <tr>\n",
              "      <th>0</th>\n",
              "      <td>vhigh</td>\n",
              "      <td>vhigh</td>\n",
              "    </tr>\n",
              "    <tr>\n",
              "      <th>1</th>\n",
              "      <td>vhigh</td>\n",
              "      <td>vhigh</td>\n",
              "    </tr>\n",
              "    <tr>\n",
              "      <th>2</th>\n",
              "      <td>vhigh</td>\n",
              "      <td>vhigh</td>\n",
              "    </tr>\n",
              "    <tr>\n",
              "      <th>3</th>\n",
              "      <td>vhigh</td>\n",
              "      <td>vhigh</td>\n",
              "    </tr>\n",
              "    <tr>\n",
              "      <th>4</th>\n",
              "      <td>vhigh</td>\n",
              "      <td>vhigh</td>\n",
              "    </tr>\n",
              "    <tr>\n",
              "      <th>...</th>\n",
              "      <td>...</td>\n",
              "      <td>...</td>\n",
              "    </tr>\n",
              "    <tr>\n",
              "      <th>1723</th>\n",
              "      <td>low</td>\n",
              "      <td>low</td>\n",
              "    </tr>\n",
              "    <tr>\n",
              "      <th>1724</th>\n",
              "      <td>low</td>\n",
              "      <td>low</td>\n",
              "    </tr>\n",
              "    <tr>\n",
              "      <th>1725</th>\n",
              "      <td>low</td>\n",
              "      <td>low</td>\n",
              "    </tr>\n",
              "    <tr>\n",
              "      <th>1726</th>\n",
              "      <td>low</td>\n",
              "      <td>low</td>\n",
              "    </tr>\n",
              "    <tr>\n",
              "      <th>1727</th>\n",
              "      <td>low</td>\n",
              "      <td>low</td>\n",
              "    </tr>\n",
              "  </tbody>\n",
              "</table>\n",
              "<p>1728 rows × 2 columns</p>\n",
              "</div>"
            ],
            "text/plain": [
              "     buying  maint\n",
              "0     vhigh  vhigh\n",
              "1     vhigh  vhigh\n",
              "2     vhigh  vhigh\n",
              "3     vhigh  vhigh\n",
              "4     vhigh  vhigh\n",
              "...     ...    ...\n",
              "1723    low    low\n",
              "1724    low    low\n",
              "1725    low    low\n",
              "1726    low    low\n",
              "1727    low    low\n",
              "\n",
              "[1728 rows x 2 columns]"
            ]
          },
          "metadata": {},
          "execution_count": 14
        }
      ]
    },
    {
      "cell_type": "markdown",
      "metadata": {
        "id": "WnGBP_2k8hKe"
      },
      "source": [
        "Access to __exactly one__ column can also be done with the __dot__ (.) operator provided the column has a name (does not use the _default_ number index). Column names must not use attribute names of the _DataFrame_ object. Column names that can be accessed with __dot__ must also not contain characters that are prohibited in Python variable names."
      ]
    },
    {
      "cell_type": "code",
      "metadata": {
        "colab": {
          "base_uri": "https://localhost:8080/",
          "height": 225
        },
        "id": "Cn0fW_CJ9n_E",
        "outputId": "822255cc-adef-40e1-9f06-797db17b3860"
      },
      "source": [
        "# Access a column with the dot operator\n",
        "display(df.label)"
      ],
      "execution_count": null,
      "outputs": [
        {
          "output_type": "display_data",
          "data": {
            "text/plain": [
              "0       unacc\n",
              "1       unacc\n",
              "2       unacc\n",
              "3       unacc\n",
              "4       unacc\n",
              "        ...  \n",
              "1723     good\n",
              "1724    vgood\n",
              "1725    unacc\n",
              "1726     good\n",
              "1727    vgood\n",
              "Name: label, Length: 1728, dtype: object"
            ]
          },
          "metadata": {}
        }
      ]
    },
    {
      "cell_type": "markdown",
      "metadata": {
        "id": "-7_lz6lhNqvg"
      },
      "source": [
        "We can access the rows (and columns) of the _DataFrame_ using <code>__loc__</code> or <code>__iloc__</code>. <code>loc</code> accesses the index based on the label of the row or column, while <code>iloc</code> accesses the index based on the position in an integer. <code>loc</code> also accepts _range_ inclusively."
      ]
    },
    {
      "cell_type": "code",
      "metadata": {
        "colab": {
          "base_uri": "https://localhost:8080/",
          "height": 175
        },
        "id": "-H9J1cq9Nqvh",
        "outputId": "f413b4c7-2d57-4937-baf1-f2370a8f4cbd"
      },
      "source": [
        "# Access rows 0 to 3 using loc\n",
        "df.loc[0:3]  # range inclusive"
      ],
      "execution_count": null,
      "outputs": [
        {
          "output_type": "execute_result",
          "data": {
            "text/html": [
              "<div>\n",
              "<style scoped>\n",
              "    .dataframe tbody tr th:only-of-type {\n",
              "        vertical-align: middle;\n",
              "    }\n",
              "\n",
              "    .dataframe tbody tr th {\n",
              "        vertical-align: top;\n",
              "    }\n",
              "\n",
              "    .dataframe thead th {\n",
              "        text-align: right;\n",
              "    }\n",
              "</style>\n",
              "<table border=\"1\" class=\"dataframe\">\n",
              "  <thead>\n",
              "    <tr style=\"text-align: right;\">\n",
              "      <th></th>\n",
              "      <th>buying</th>\n",
              "      <th>maint</th>\n",
              "      <th>doors</th>\n",
              "      <th>persons</th>\n",
              "      <th>lug_boot</th>\n",
              "      <th>safety</th>\n",
              "      <th>label</th>\n",
              "    </tr>\n",
              "  </thead>\n",
              "  <tbody>\n",
              "    <tr>\n",
              "      <th>0</th>\n",
              "      <td>vhigh</td>\n",
              "      <td>vhigh</td>\n",
              "      <td>2</td>\n",
              "      <td>2</td>\n",
              "      <td>small</td>\n",
              "      <td>low</td>\n",
              "      <td>unacc</td>\n",
              "    </tr>\n",
              "    <tr>\n",
              "      <th>1</th>\n",
              "      <td>vhigh</td>\n",
              "      <td>vhigh</td>\n",
              "      <td>2</td>\n",
              "      <td>2</td>\n",
              "      <td>small</td>\n",
              "      <td>med</td>\n",
              "      <td>unacc</td>\n",
              "    </tr>\n",
              "    <tr>\n",
              "      <th>2</th>\n",
              "      <td>vhigh</td>\n",
              "      <td>vhigh</td>\n",
              "      <td>2</td>\n",
              "      <td>2</td>\n",
              "      <td>small</td>\n",
              "      <td>high</td>\n",
              "      <td>unacc</td>\n",
              "    </tr>\n",
              "    <tr>\n",
              "      <th>3</th>\n",
              "      <td>vhigh</td>\n",
              "      <td>vhigh</td>\n",
              "      <td>2</td>\n",
              "      <td>2</td>\n",
              "      <td>med</td>\n",
              "      <td>low</td>\n",
              "      <td>unacc</td>\n",
              "    </tr>\n",
              "  </tbody>\n",
              "</table>\n",
              "</div>"
            ],
            "text/plain": [
              "  buying  maint doors persons lug_boot safety  label\n",
              "0  vhigh  vhigh     2       2    small    low  unacc\n",
              "1  vhigh  vhigh     2       2    small    med  unacc\n",
              "2  vhigh  vhigh     2       2    small   high  unacc\n",
              "3  vhigh  vhigh     2       2      med    low  unacc"
            ]
          },
          "metadata": {},
          "execution_count": 16
        }
      ]
    },
    {
      "cell_type": "code",
      "metadata": {
        "colab": {
          "base_uri": "https://localhost:8080/",
          "height": 175
        },
        "id": "miKSXEBtNqvh",
        "outputId": "3860168c-c9b0-4103-f911-e465c1cc7a64"
      },
      "source": [
        "# Access rows 0 to 3 using iloc\n",
        "df.iloc[0:4] # range exclusive"
      ],
      "execution_count": null,
      "outputs": [
        {
          "output_type": "execute_result",
          "data": {
            "text/html": [
              "<div>\n",
              "<style scoped>\n",
              "    .dataframe tbody tr th:only-of-type {\n",
              "        vertical-align: middle;\n",
              "    }\n",
              "\n",
              "    .dataframe tbody tr th {\n",
              "        vertical-align: top;\n",
              "    }\n",
              "\n",
              "    .dataframe thead th {\n",
              "        text-align: right;\n",
              "    }\n",
              "</style>\n",
              "<table border=\"1\" class=\"dataframe\">\n",
              "  <thead>\n",
              "    <tr style=\"text-align: right;\">\n",
              "      <th></th>\n",
              "      <th>buying</th>\n",
              "      <th>maint</th>\n",
              "      <th>doors</th>\n",
              "      <th>persons</th>\n",
              "      <th>lug_boot</th>\n",
              "      <th>safety</th>\n",
              "      <th>label</th>\n",
              "    </tr>\n",
              "  </thead>\n",
              "  <tbody>\n",
              "    <tr>\n",
              "      <th>0</th>\n",
              "      <td>vhigh</td>\n",
              "      <td>vhigh</td>\n",
              "      <td>2</td>\n",
              "      <td>2</td>\n",
              "      <td>small</td>\n",
              "      <td>low</td>\n",
              "      <td>unacc</td>\n",
              "    </tr>\n",
              "    <tr>\n",
              "      <th>1</th>\n",
              "      <td>vhigh</td>\n",
              "      <td>vhigh</td>\n",
              "      <td>2</td>\n",
              "      <td>2</td>\n",
              "      <td>small</td>\n",
              "      <td>med</td>\n",
              "      <td>unacc</td>\n",
              "    </tr>\n",
              "    <tr>\n",
              "      <th>2</th>\n",
              "      <td>vhigh</td>\n",
              "      <td>vhigh</td>\n",
              "      <td>2</td>\n",
              "      <td>2</td>\n",
              "      <td>small</td>\n",
              "      <td>high</td>\n",
              "      <td>unacc</td>\n",
              "    </tr>\n",
              "    <tr>\n",
              "      <th>3</th>\n",
              "      <td>vhigh</td>\n",
              "      <td>vhigh</td>\n",
              "      <td>2</td>\n",
              "      <td>2</td>\n",
              "      <td>med</td>\n",
              "      <td>low</td>\n",
              "      <td>unacc</td>\n",
              "    </tr>\n",
              "  </tbody>\n",
              "</table>\n",
              "</div>"
            ],
            "text/plain": [
              "  buying  maint doors persons lug_boot safety  label\n",
              "0  vhigh  vhigh     2       2    small    low  unacc\n",
              "1  vhigh  vhigh     2       2    small    med  unacc\n",
              "2  vhigh  vhigh     2       2    small   high  unacc\n",
              "3  vhigh  vhigh     2       2      med    low  unacc"
            ]
          },
          "metadata": {},
          "execution_count": 17
        }
      ]
    },
    {
      "cell_type": "code",
      "metadata": {
        "colab": {
          "base_uri": "https://localhost:8080/",
          "height": 175
        },
        "id": "MD97BX9UNqvh",
        "outputId": "dbf115f2-5bf4-4aef-e32f-184653ef069e"
      },
      "source": [
        "# Access rows 0 - 3, but only the maint and doors columns, using loc\n",
        "df.loc[0:3, [\"maint\", \"doors\"]]"
      ],
      "execution_count": null,
      "outputs": [
        {
          "output_type": "execute_result",
          "data": {
            "text/html": [
              "<div>\n",
              "<style scoped>\n",
              "    .dataframe tbody tr th:only-of-type {\n",
              "        vertical-align: middle;\n",
              "    }\n",
              "\n",
              "    .dataframe tbody tr th {\n",
              "        vertical-align: top;\n",
              "    }\n",
              "\n",
              "    .dataframe thead th {\n",
              "        text-align: right;\n",
              "    }\n",
              "</style>\n",
              "<table border=\"1\" class=\"dataframe\">\n",
              "  <thead>\n",
              "    <tr style=\"text-align: right;\">\n",
              "      <th></th>\n",
              "      <th>maint</th>\n",
              "      <th>doors</th>\n",
              "    </tr>\n",
              "  </thead>\n",
              "  <tbody>\n",
              "    <tr>\n",
              "      <th>0</th>\n",
              "      <td>vhigh</td>\n",
              "      <td>2</td>\n",
              "    </tr>\n",
              "    <tr>\n",
              "      <th>1</th>\n",
              "      <td>vhigh</td>\n",
              "      <td>2</td>\n",
              "    </tr>\n",
              "    <tr>\n",
              "      <th>2</th>\n",
              "      <td>vhigh</td>\n",
              "      <td>2</td>\n",
              "    </tr>\n",
              "    <tr>\n",
              "      <th>3</th>\n",
              "      <td>vhigh</td>\n",
              "      <td>2</td>\n",
              "    </tr>\n",
              "  </tbody>\n",
              "</table>\n",
              "</div>"
            ],
            "text/plain": [
              "   maint doors\n",
              "0  vhigh     2\n",
              "1  vhigh     2\n",
              "2  vhigh     2\n",
              "3  vhigh     2"
            ]
          },
          "metadata": {},
          "execution_count": 18
        }
      ]
    },
    {
      "cell_type": "code",
      "metadata": {
        "colab": {
          "base_uri": "https://localhost:8080/",
          "height": 175
        },
        "id": "xPH4A_hfNqvi",
        "outputId": "2c1b756c-0dc0-4040-d49d-bb59ef710989"
      },
      "source": [
        "# Access rows 0 - 3, but only the main and doors columns, using iloc\n",
        "df.iloc[0:4, 1:3]"
      ],
      "execution_count": null,
      "outputs": [
        {
          "output_type": "execute_result",
          "data": {
            "text/html": [
              "<div>\n",
              "<style scoped>\n",
              "    .dataframe tbody tr th:only-of-type {\n",
              "        vertical-align: middle;\n",
              "    }\n",
              "\n",
              "    .dataframe tbody tr th {\n",
              "        vertical-align: top;\n",
              "    }\n",
              "\n",
              "    .dataframe thead th {\n",
              "        text-align: right;\n",
              "    }\n",
              "</style>\n",
              "<table border=\"1\" class=\"dataframe\">\n",
              "  <thead>\n",
              "    <tr style=\"text-align: right;\">\n",
              "      <th></th>\n",
              "      <th>maint</th>\n",
              "      <th>doors</th>\n",
              "    </tr>\n",
              "  </thead>\n",
              "  <tbody>\n",
              "    <tr>\n",
              "      <th>0</th>\n",
              "      <td>vhigh</td>\n",
              "      <td>2</td>\n",
              "    </tr>\n",
              "    <tr>\n",
              "      <th>1</th>\n",
              "      <td>vhigh</td>\n",
              "      <td>2</td>\n",
              "    </tr>\n",
              "    <tr>\n",
              "      <th>2</th>\n",
              "      <td>vhigh</td>\n",
              "      <td>2</td>\n",
              "    </tr>\n",
              "    <tr>\n",
              "      <th>3</th>\n",
              "      <td>vhigh</td>\n",
              "      <td>2</td>\n",
              "    </tr>\n",
              "  </tbody>\n",
              "</table>\n",
              "</div>"
            ],
            "text/plain": [
              "   maint doors\n",
              "0  vhigh     2\n",
              "1  vhigh     2\n",
              "2  vhigh     2\n",
              "3  vhigh     2"
            ]
          },
          "metadata": {},
          "execution_count": 19
        }
      ]
    },
    {
      "cell_type": "code",
      "metadata": {
        "id": "xMPgM9UDNqvi",
        "colab": {
          "base_uri": "https://localhost:8080/"
        },
        "outputId": "b6d764ff-10bc-4014-ca3c-f47ff90b5d52"
      },
      "source": [
        "# Insert specific indexes using loc and iloc\n",
        "print(df.loc[1,\"label\"])\n",
        "print(df.iloc[1,6])"
      ],
      "execution_count": null,
      "outputs": [
        {
          "output_type": "stream",
          "name": "stdout",
          "text": [
            "unacc\n",
            "unacc\n"
          ]
        }
      ]
    },
    {
      "cell_type": "markdown",
      "metadata": {
        "id": "Q_xfkzauNqvi"
      },
      "source": [
        "Indexing can also be done without using <code>loc</code> or <code>iloc</code>, with the index sequence starting from the column, then the index from the row."
      ]
    },
    {
      "cell_type": "code",
      "metadata": {
        "id": "7MMvG2XMNqvi",
        "colab": {
          "base_uri": "https://localhost:8080/"
        },
        "outputId": "c0642a8f-e6ad-42d4-eff5-847af6c285d4"
      },
      "source": [
        "# Indexing withour loc nor iloc\n",
        "print(df[\"label\"][0])"
      ],
      "execution_count": null,
      "outputs": [
        {
          "output_type": "stream",
          "name": "stdout",
          "text": [
            "unacc\n"
          ]
        }
      ]
    },
    {
      "cell_type": "markdown",
      "metadata": {
        "id": "GYBWa8EjNqvj"
      },
      "source": [
        "## Handling Missing Values"
      ]
    },
    {
      "cell_type": "markdown",
      "metadata": {
        "id": "digdd8YzNqvj"
      },
      "source": [
        "_null_ values or \"_missing values_\" are information that is filled in with _null_ or not filled in. This can happen because the information is not provided (but is available), is difficult to find, or simply does not exist. _Missing values_ can also be stored as \"NA\" or \"NaN\"."
      ]
    },
    {
      "cell_type": "code",
      "metadata": {
        "id": "oIztc7IQNqvj",
        "colab": {
          "base_uri": "https://localhost:8080/"
        },
        "outputId": "f61fc86b-03c9-46b0-c15c-4c2b9e0e18b5"
      },
      "source": [
        "# Displays the number of missing values for each column\n",
        "print(\"Count missing values untuk df\\n\", df.isnull().sum())"
      ],
      "execution_count": null,
      "outputs": [
        {
          "output_type": "stream",
          "name": "stdout",
          "text": [
            "Count missing values untuk df\n",
            " buying      0\n",
            "maint       0\n",
            "doors       0\n",
            "persons     0\n",
            "lug_boot    0\n",
            "safety      0\n",
            "label       0\n",
            "dtype: int64\n"
          ]
        }
      ]
    },
    {
      "cell_type": "markdown",
      "metadata": {
        "id": "FRzOcG1iNqvj"
      },
      "source": [
        "It can be seen above that in df no _null_ values were found. Next, we try to read the new dataset in the file '<code>MELBOURNE_HOUSE_PRICES_LITE.csv</code>' attached to SCELE."
      ]
    },
    {
      "cell_type": "markdown",
      "metadata": {
        "id": "8soB8wYQM03Q"
      },
      "source": [
        "**Data Set of \"Melbourne House Prices\"**\n",
        "* `Suburb`: Suburb\n",
        "* `Address`: Address\n",
        "* `Rooms`: Number of rooms\n",
        "* `Type`:\n",
        "    <br> br - bedroom(s);\n",
        "    <br> h - house, cottage, villa, semi, terrace;\n",
        "    <br> u - unit, duplex;\n",
        "    <br> t - townhouse;\n",
        "    <br> dev site - development site;\n",
        "    <br> o res - other residential;\n",
        "\n",
        "* `Price`: Price in Australian dollars\n",
        "* `Method`:\n",
        "    <br> S - property sold;\n",
        "    <br> SP - property sold prior;\n",
        "    <br> PI - property passed in;\n",
        "    <br> PN - sold prior not disclosed;\n",
        "    <br> SN - sold not disclosed;\n",
        "    <br> NB - no bid;\n",
        "    <br> VB - vendor bid;\n",
        "    <br> W - withdrawn prior to auction;\n",
        "    <br> SA - sold after auction;\n",
        "    <br> SS - sold after auction price not disclosed.\n",
        "    <br> N/A - price or highest bid not available.\n",
        "\n",
        "* `SellerG`: Real Estate Agent\n",
        "* `Date`: Date sold\n",
        "* `Postcode`: Postcode\n",
        "* `Regionname`: General Region (West, North West, North, North East, etc.)\n",
        "* `Propertycount`: Number of properties that exist in the suburb\n",
        "* `Distance`: Distance from CBD in Kilometres\n",
        "* `CouncilArea`: Governing council for the area\n",
        "\n",
        "Source of data set: https://www.kaggle.com/anthonypino/melbourne-housing-market\n"
      ]
    },
    {
      "cell_type": "code",
      "metadata": {
        "id": "DWgjye15Nqvk",
        "colab": {
          "base_uri": "https://localhost:8080/"
        },
        "outputId": "bef5173f-2231-4ab5-fde3-5f0f50bead22"
      },
      "source": [
        "df2 = pd.read_csv('https://raw.githubusercontent.com/iqrafarhan/KASDD/main/MELBOURNE_HOUSE_PRICES_LITE.csv')\n",
        "\n",
        "# Displays the number of missing values for each column\n",
        "print(\"Count missing values untuk df2\\n\", df2.isnull().sum())"
      ],
      "execution_count": null,
      "outputs": [
        {
          "output_type": "stream",
          "name": "stdout",
          "text": [
            "Count missing values untuk df2\n",
            " Suburb            0\n",
            "Address           0\n",
            "Rooms             0\n",
            "Type              0\n",
            "Price            76\n",
            "Method            0\n",
            "SellerG           0\n",
            "Date              0\n",
            "Postcode          0\n",
            "Regionname        0\n",
            "Propertycount     0\n",
            "Distance          0\n",
            "CouncilArea       0\n",
            "dtype: int64\n"
          ]
        }
      ]
    },
    {
      "cell_type": "markdown",
      "metadata": {
        "id": "nlkQRz7ANqvk"
      },
      "source": [
        "It can be seen above that there is a column \"Price\" which has a _null_ value. It is marked as \"NaN\" in the _DataFrame_ if displayed as below."
      ]
    },
    {
      "cell_type": "code",
      "metadata": {
        "colab": {
          "base_uri": "https://localhost:8080/",
          "height": 293
        },
        "id": "PLq2Ss3dNqvk",
        "outputId": "6f217e03-fe05-49c4-bbbd-135301e212db"
      },
      "source": [
        "# Shows DataFrame df2\n",
        "df2.head()"
      ],
      "execution_count": null,
      "outputs": [
        {
          "output_type": "execute_result",
          "data": {
            "text/html": [
              "<div>\n",
              "<style scoped>\n",
              "    .dataframe tbody tr th:only-of-type {\n",
              "        vertical-align: middle;\n",
              "    }\n",
              "\n",
              "    .dataframe tbody tr th {\n",
              "        vertical-align: top;\n",
              "    }\n",
              "\n",
              "    .dataframe thead th {\n",
              "        text-align: right;\n",
              "    }\n",
              "</style>\n",
              "<table border=\"1\" class=\"dataframe\">\n",
              "  <thead>\n",
              "    <tr style=\"text-align: right;\">\n",
              "      <th></th>\n",
              "      <th>Suburb</th>\n",
              "      <th>Address</th>\n",
              "      <th>Rooms</th>\n",
              "      <th>Type</th>\n",
              "      <th>Price</th>\n",
              "      <th>Method</th>\n",
              "      <th>SellerG</th>\n",
              "      <th>Date</th>\n",
              "      <th>Postcode</th>\n",
              "      <th>Regionname</th>\n",
              "      <th>Propertycount</th>\n",
              "      <th>Distance</th>\n",
              "      <th>CouncilArea</th>\n",
              "    </tr>\n",
              "  </thead>\n",
              "  <tbody>\n",
              "    <tr>\n",
              "      <th>0</th>\n",
              "      <td>Chintin</td>\n",
              "      <td>24 Porcupine Ct</td>\n",
              "      <td>5</td>\n",
              "      <td>h</td>\n",
              "      <td>NaN</td>\n",
              "      <td>PN</td>\n",
              "      <td>LJ</td>\n",
              "      <td>1/04/2017</td>\n",
              "      <td>3756</td>\n",
              "      <td>Northern Victoria</td>\n",
              "      <td>39</td>\n",
              "      <td>44.2</td>\n",
              "      <td>Macedon Ranges Shire Council</td>\n",
              "    </tr>\n",
              "    <tr>\n",
              "      <th>1</th>\n",
              "      <td>Strathmore Heights</td>\n",
              "      <td>5 Avro Ct</td>\n",
              "      <td>3</td>\n",
              "      <td>h</td>\n",
              "      <td>900000.0</td>\n",
              "      <td>PI</td>\n",
              "      <td>Considine</td>\n",
              "      <td>1/04/2017</td>\n",
              "      <td>3041</td>\n",
              "      <td>Western Metropolitan</td>\n",
              "      <td>389</td>\n",
              "      <td>8.2</td>\n",
              "      <td>Moonee Valley City Council</td>\n",
              "    </tr>\n",
              "    <tr>\n",
              "      <th>2</th>\n",
              "      <td>Caulfield East</td>\n",
              "      <td>15 Grange Rd</td>\n",
              "      <td>3</td>\n",
              "      <td>h</td>\n",
              "      <td>1400000.0</td>\n",
              "      <td>S</td>\n",
              "      <td>Gary</td>\n",
              "      <td>1/04/2017</td>\n",
              "      <td>3145</td>\n",
              "      <td>Southern Metropolitan</td>\n",
              "      <td>608</td>\n",
              "      <td>8.4</td>\n",
              "      <td>Glen Eira City Council</td>\n",
              "    </tr>\n",
              "    <tr>\n",
              "      <th>3</th>\n",
              "      <td>Huntingdale</td>\n",
              "      <td>31 Berkeley St</td>\n",
              "      <td>3</td>\n",
              "      <td>h</td>\n",
              "      <td>1145000.0</td>\n",
              "      <td>S</td>\n",
              "      <td>Ray</td>\n",
              "      <td>1/04/2017</td>\n",
              "      <td>3166</td>\n",
              "      <td>Southern Metropolitan</td>\n",
              "      <td>768</td>\n",
              "      <td>12.3</td>\n",
              "      <td>Monash City Council</td>\n",
              "    </tr>\n",
              "    <tr>\n",
              "      <th>4</th>\n",
              "      <td>Essendon West</td>\n",
              "      <td>32 Garnet St</td>\n",
              "      <td>3</td>\n",
              "      <td>h</td>\n",
              "      <td>1430000.0</td>\n",
              "      <td>S</td>\n",
              "      <td>Nelson</td>\n",
              "      <td>1/04/2017</td>\n",
              "      <td>3040</td>\n",
              "      <td>Western Metropolitan</td>\n",
              "      <td>588</td>\n",
              "      <td>7.5</td>\n",
              "      <td>Moonee Valley City Council</td>\n",
              "    </tr>\n",
              "  </tbody>\n",
              "</table>\n",
              "</div>"
            ],
            "text/plain": [
              "               Suburb          Address  ...  Distance                   CouncilArea\n",
              "0             Chintin  24 Porcupine Ct  ...      44.2  Macedon Ranges Shire Council\n",
              "1  Strathmore Heights        5 Avro Ct  ...       8.2    Moonee Valley City Council\n",
              "2      Caulfield East     15 Grange Rd  ...       8.4        Glen Eira City Council\n",
              "3         Huntingdale   31 Berkeley St  ...      12.3           Monash City Council\n",
              "4       Essendon West     32 Garnet St  ...       7.5    Moonee Valley City Council\n",
              "\n",
              "[5 rows x 13 columns]"
            ]
          },
          "metadata": {},
          "execution_count": 24
        }
      ]
    },
    {
      "cell_type": "markdown",
      "metadata": {
        "id": "zQx4isYwNqvl"
      },
      "source": [
        "There are several approaches to dealing with _missing values_, here are the commonly used approaches:\n",
        "* Fill in _missing values_ with certain values using _method_ <code>fillna()</code>\n",
        "* Delete (_drop_) rows or columns that contain _missing values_. Use <code>dropna()</code> to delete __rows__ that contain _missing values_, and <code>dropna(axis='columns')</code> to delete __columns__ that contain missing values.\n",
        "\n",
        "The examples below will focus on the \"Price\" column."
      ]
    },
    {
      "cell_type": "code",
      "metadata": {
        "colab": {
          "base_uri": "https://localhost:8080/",
          "height": 310
        },
        "id": "DDIgoP_ONqvl",
        "outputId": "7e35e7ee-66cf-4555-b24d-ab741e1cec59"
      },
      "source": [
        "# fillna() with average score\n",
        "mean = df2.Price.mean() # gets nilai average Price\n",
        "df2_fill_mean = df2.copy()\n",
        "df2_fill_mean.Price.fillna(mean,inplace=True)\n",
        "df2_fill_mean.head(5)"
      ],
      "execution_count": null,
      "outputs": [
        {
          "output_type": "execute_result",
          "data": {
            "text/html": [
              "<div>\n",
              "<style scoped>\n",
              "    .dataframe tbody tr th:only-of-type {\n",
              "        vertical-align: middle;\n",
              "    }\n",
              "\n",
              "    .dataframe tbody tr th {\n",
              "        vertical-align: top;\n",
              "    }\n",
              "\n",
              "    .dataframe thead th {\n",
              "        text-align: right;\n",
              "    }\n",
              "</style>\n",
              "<table border=\"1\" class=\"dataframe\">\n",
              "  <thead>\n",
              "    <tr style=\"text-align: right;\">\n",
              "      <th></th>\n",
              "      <th>Suburb</th>\n",
              "      <th>Address</th>\n",
              "      <th>Rooms</th>\n",
              "      <th>Type</th>\n",
              "      <th>Price</th>\n",
              "      <th>Method</th>\n",
              "      <th>SellerG</th>\n",
              "      <th>Date</th>\n",
              "      <th>Postcode</th>\n",
              "      <th>Regionname</th>\n",
              "      <th>Propertycount</th>\n",
              "      <th>Distance</th>\n",
              "      <th>CouncilArea</th>\n",
              "    </tr>\n",
              "  </thead>\n",
              "  <tbody>\n",
              "    <tr>\n",
              "      <th>0</th>\n",
              "      <td>Chintin</td>\n",
              "      <td>24 Porcupine Ct</td>\n",
              "      <td>5</td>\n",
              "      <td>h</td>\n",
              "      <td>1.032403e+06</td>\n",
              "      <td>PN</td>\n",
              "      <td>LJ</td>\n",
              "      <td>1/04/2017</td>\n",
              "      <td>3756</td>\n",
              "      <td>Northern Victoria</td>\n",
              "      <td>39</td>\n",
              "      <td>44.2</td>\n",
              "      <td>Macedon Ranges Shire Council</td>\n",
              "    </tr>\n",
              "    <tr>\n",
              "      <th>1</th>\n",
              "      <td>Strathmore Heights</td>\n",
              "      <td>5 Avro Ct</td>\n",
              "      <td>3</td>\n",
              "      <td>h</td>\n",
              "      <td>9.000000e+05</td>\n",
              "      <td>PI</td>\n",
              "      <td>Considine</td>\n",
              "      <td>1/04/2017</td>\n",
              "      <td>3041</td>\n",
              "      <td>Western Metropolitan</td>\n",
              "      <td>389</td>\n",
              "      <td>8.2</td>\n",
              "      <td>Moonee Valley City Council</td>\n",
              "    </tr>\n",
              "    <tr>\n",
              "      <th>2</th>\n",
              "      <td>Caulfield East</td>\n",
              "      <td>15 Grange Rd</td>\n",
              "      <td>3</td>\n",
              "      <td>h</td>\n",
              "      <td>1.400000e+06</td>\n",
              "      <td>S</td>\n",
              "      <td>Gary</td>\n",
              "      <td>1/04/2017</td>\n",
              "      <td>3145</td>\n",
              "      <td>Southern Metropolitan</td>\n",
              "      <td>608</td>\n",
              "      <td>8.4</td>\n",
              "      <td>Glen Eira City Council</td>\n",
              "    </tr>\n",
              "    <tr>\n",
              "      <th>3</th>\n",
              "      <td>Huntingdale</td>\n",
              "      <td>31 Berkeley St</td>\n",
              "      <td>3</td>\n",
              "      <td>h</td>\n",
              "      <td>1.145000e+06</td>\n",
              "      <td>S</td>\n",
              "      <td>Ray</td>\n",
              "      <td>1/04/2017</td>\n",
              "      <td>3166</td>\n",
              "      <td>Southern Metropolitan</td>\n",
              "      <td>768</td>\n",
              "      <td>12.3</td>\n",
              "      <td>Monash City Council</td>\n",
              "    </tr>\n",
              "    <tr>\n",
              "      <th>4</th>\n",
              "      <td>Essendon West</td>\n",
              "      <td>32 Garnet St</td>\n",
              "      <td>3</td>\n",
              "      <td>h</td>\n",
              "      <td>1.430000e+06</td>\n",
              "      <td>S</td>\n",
              "      <td>Nelson</td>\n",
              "      <td>1/04/2017</td>\n",
              "      <td>3040</td>\n",
              "      <td>Western Metropolitan</td>\n",
              "      <td>588</td>\n",
              "      <td>7.5</td>\n",
              "      <td>Moonee Valley City Council</td>\n",
              "    </tr>\n",
              "  </tbody>\n",
              "</table>\n",
              "</div>"
            ],
            "text/plain": [
              "               Suburb          Address  ...  Distance                   CouncilArea\n",
              "0             Chintin  24 Porcupine Ct  ...      44.2  Macedon Ranges Shire Council\n",
              "1  Strathmore Heights        5 Avro Ct  ...       8.2    Moonee Valley City Council\n",
              "2      Caulfield East     15 Grange Rd  ...       8.4        Glen Eira City Council\n",
              "3         Huntingdale   31 Berkeley St  ...      12.3           Monash City Council\n",
              "4       Essendon West     32 Garnet St  ...       7.5    Moonee Valley City Council\n",
              "\n",
              "[5 rows x 13 columns]"
            ]
          },
          "metadata": {},
          "execution_count": 25
        }
      ]
    },
    {
      "cell_type": "code",
      "metadata": {
        "colab": {
          "base_uri": "https://localhost:8080/",
          "height": 293
        },
        "id": "13qZ8AqjNqvm",
        "outputId": "fcbf51c1-4d37-4bdd-d319-0a262d4432ce"
      },
      "source": [
        "# dropna to delete rows containing missing values\n",
        "df2_drop_row = df2.dropna()\n",
        "df2_drop_row.head(5)"
      ],
      "execution_count": null,
      "outputs": [
        {
          "output_type": "execute_result",
          "data": {
            "text/html": [
              "<div>\n",
              "<style scoped>\n",
              "    .dataframe tbody tr th:only-of-type {\n",
              "        vertical-align: middle;\n",
              "    }\n",
              "\n",
              "    .dataframe tbody tr th {\n",
              "        vertical-align: top;\n",
              "    }\n",
              "\n",
              "    .dataframe thead th {\n",
              "        text-align: right;\n",
              "    }\n",
              "</style>\n",
              "<table border=\"1\" class=\"dataframe\">\n",
              "  <thead>\n",
              "    <tr style=\"text-align: right;\">\n",
              "      <th></th>\n",
              "      <th>Suburb</th>\n",
              "      <th>Address</th>\n",
              "      <th>Rooms</th>\n",
              "      <th>Type</th>\n",
              "      <th>Price</th>\n",
              "      <th>Method</th>\n",
              "      <th>SellerG</th>\n",
              "      <th>Date</th>\n",
              "      <th>Postcode</th>\n",
              "      <th>Regionname</th>\n",
              "      <th>Propertycount</th>\n",
              "      <th>Distance</th>\n",
              "      <th>CouncilArea</th>\n",
              "    </tr>\n",
              "  </thead>\n",
              "  <tbody>\n",
              "    <tr>\n",
              "      <th>1</th>\n",
              "      <td>Strathmore Heights</td>\n",
              "      <td>5 Avro Ct</td>\n",
              "      <td>3</td>\n",
              "      <td>h</td>\n",
              "      <td>900000.0</td>\n",
              "      <td>PI</td>\n",
              "      <td>Considine</td>\n",
              "      <td>1/04/2017</td>\n",
              "      <td>3041</td>\n",
              "      <td>Western Metropolitan</td>\n",
              "      <td>389</td>\n",
              "      <td>8.2</td>\n",
              "      <td>Moonee Valley City Council</td>\n",
              "    </tr>\n",
              "    <tr>\n",
              "      <th>2</th>\n",
              "      <td>Caulfield East</td>\n",
              "      <td>15 Grange Rd</td>\n",
              "      <td>3</td>\n",
              "      <td>h</td>\n",
              "      <td>1400000.0</td>\n",
              "      <td>S</td>\n",
              "      <td>Gary</td>\n",
              "      <td>1/04/2017</td>\n",
              "      <td>3145</td>\n",
              "      <td>Southern Metropolitan</td>\n",
              "      <td>608</td>\n",
              "      <td>8.4</td>\n",
              "      <td>Glen Eira City Council</td>\n",
              "    </tr>\n",
              "    <tr>\n",
              "      <th>3</th>\n",
              "      <td>Huntingdale</td>\n",
              "      <td>31 Berkeley St</td>\n",
              "      <td>3</td>\n",
              "      <td>h</td>\n",
              "      <td>1145000.0</td>\n",
              "      <td>S</td>\n",
              "      <td>Ray</td>\n",
              "      <td>1/04/2017</td>\n",
              "      <td>3166</td>\n",
              "      <td>Southern Metropolitan</td>\n",
              "      <td>768</td>\n",
              "      <td>12.3</td>\n",
              "      <td>Monash City Council</td>\n",
              "    </tr>\n",
              "    <tr>\n",
              "      <th>4</th>\n",
              "      <td>Essendon West</td>\n",
              "      <td>32 Garnet St</td>\n",
              "      <td>3</td>\n",
              "      <td>h</td>\n",
              "      <td>1430000.0</td>\n",
              "      <td>S</td>\n",
              "      <td>Nelson</td>\n",
              "      <td>1/04/2017</td>\n",
              "      <td>3040</td>\n",
              "      <td>Western Metropolitan</td>\n",
              "      <td>588</td>\n",
              "      <td>7.5</td>\n",
              "      <td>Moonee Valley City Council</td>\n",
              "    </tr>\n",
              "    <tr>\n",
              "      <th>5</th>\n",
              "      <td>Strathmore Heights</td>\n",
              "      <td>2/1 De Havilland Av</td>\n",
              "      <td>2</td>\n",
              "      <td>h</td>\n",
              "      <td>635500.0</td>\n",
              "      <td>S</td>\n",
              "      <td>Considine</td>\n",
              "      <td>1/07/2017</td>\n",
              "      <td>3041</td>\n",
              "      <td>Western Metropolitan</td>\n",
              "      <td>389</td>\n",
              "      <td>8.2</td>\n",
              "      <td>Moonee Valley City Council</td>\n",
              "    </tr>\n",
              "  </tbody>\n",
              "</table>\n",
              "</div>"
            ],
            "text/plain": [
              "               Suburb  ...                 CouncilArea\n",
              "1  Strathmore Heights  ...  Moonee Valley City Council\n",
              "2      Caulfield East  ...      Glen Eira City Council\n",
              "3         Huntingdale  ...         Monash City Council\n",
              "4       Essendon West  ...  Moonee Valley City Council\n",
              "5  Strathmore Heights  ...  Moonee Valley City Council\n",
              "\n",
              "[5 rows x 13 columns]"
            ]
          },
          "metadata": {},
          "execution_count": 26
        }
      ]
    },
    {
      "cell_type": "markdown",
      "metadata": {
        "id": "QhSyjLOhqzhv"
      },
      "source": [
        "\n",
        "\n",
        "## Exercise"
      ]
    },
    {
      "cell_type": "code",
      "metadata": {
        "id": "pYRny2H2rqND"
      },
      "source": [
        "# Imports\n",
        "import pandas as pd"
      ],
      "execution_count": null,
      "outputs": []
    },
    {
      "cell_type": "markdown",
      "metadata": {
        "id": "iUxnpbIwqzhv"
      },
      "source": [
        "1. Open the dataset <code>MELBOURNE\\_HOUSE\\_PRICES\\_LITE.csv</code> as a _DataFrame_ and display the first __15 rows__."
      ]
    },
    {
      "cell_type": "code",
      "metadata": {
        "id": "84a6ty5wqzhw",
        "colab": {
          "base_uri": "https://localhost:8080/",
          "height": 779
        },
        "outputId": "f4469ef0-239b-4858-a4f0-230e38f8b7f0"
      },
      "source": [
        "dfsatu = pd.read_csv('https://raw.githubusercontent.com/iqrafarhan/KASDD/main/MELBOURNE_HOUSE_PRICES_LITE.csv')\n",
        "dfsatu.head(15)"
      ],
      "execution_count": null,
      "outputs": [
        {
          "output_type": "execute_result",
          "data": {
            "text/html": [
              "<div>\n",
              "<style scoped>\n",
              "    .dataframe tbody tr th:only-of-type {\n",
              "        vertical-align: middle;\n",
              "    }\n",
              "\n",
              "    .dataframe tbody tr th {\n",
              "        vertical-align: top;\n",
              "    }\n",
              "\n",
              "    .dataframe thead th {\n",
              "        text-align: right;\n",
              "    }\n",
              "</style>\n",
              "<table border=\"1\" class=\"dataframe\">\n",
              "  <thead>\n",
              "    <tr style=\"text-align: right;\">\n",
              "      <th></th>\n",
              "      <th>Suburb</th>\n",
              "      <th>Address</th>\n",
              "      <th>Rooms</th>\n",
              "      <th>Type</th>\n",
              "      <th>Price</th>\n",
              "      <th>Method</th>\n",
              "      <th>SellerG</th>\n",
              "      <th>Date</th>\n",
              "      <th>Postcode</th>\n",
              "      <th>Regionname</th>\n",
              "      <th>Propertycount</th>\n",
              "      <th>Distance</th>\n",
              "      <th>CouncilArea</th>\n",
              "    </tr>\n",
              "  </thead>\n",
              "  <tbody>\n",
              "    <tr>\n",
              "      <th>0</th>\n",
              "      <td>Chintin</td>\n",
              "      <td>24 Porcupine Ct</td>\n",
              "      <td>5</td>\n",
              "      <td>h</td>\n",
              "      <td>NaN</td>\n",
              "      <td>PN</td>\n",
              "      <td>LJ</td>\n",
              "      <td>1/04/2017</td>\n",
              "      <td>3756</td>\n",
              "      <td>Northern Victoria</td>\n",
              "      <td>39</td>\n",
              "      <td>44.2</td>\n",
              "      <td>Macedon Ranges Shire Council</td>\n",
              "    </tr>\n",
              "    <tr>\n",
              "      <th>1</th>\n",
              "      <td>Strathmore Heights</td>\n",
              "      <td>5 Avro Ct</td>\n",
              "      <td>3</td>\n",
              "      <td>h</td>\n",
              "      <td>900000.0</td>\n",
              "      <td>PI</td>\n",
              "      <td>Considine</td>\n",
              "      <td>1/04/2017</td>\n",
              "      <td>3041</td>\n",
              "      <td>Western Metropolitan</td>\n",
              "      <td>389</td>\n",
              "      <td>8.2</td>\n",
              "      <td>Moonee Valley City Council</td>\n",
              "    </tr>\n",
              "    <tr>\n",
              "      <th>2</th>\n",
              "      <td>Caulfield East</td>\n",
              "      <td>15 Grange Rd</td>\n",
              "      <td>3</td>\n",
              "      <td>h</td>\n",
              "      <td>1400000.0</td>\n",
              "      <td>S</td>\n",
              "      <td>Gary</td>\n",
              "      <td>1/04/2017</td>\n",
              "      <td>3145</td>\n",
              "      <td>Southern Metropolitan</td>\n",
              "      <td>608</td>\n",
              "      <td>8.4</td>\n",
              "      <td>Glen Eira City Council</td>\n",
              "    </tr>\n",
              "    <tr>\n",
              "      <th>3</th>\n",
              "      <td>Huntingdale</td>\n",
              "      <td>31 Berkeley St</td>\n",
              "      <td>3</td>\n",
              "      <td>h</td>\n",
              "      <td>1145000.0</td>\n",
              "      <td>S</td>\n",
              "      <td>Ray</td>\n",
              "      <td>1/04/2017</td>\n",
              "      <td>3166</td>\n",
              "      <td>Southern Metropolitan</td>\n",
              "      <td>768</td>\n",
              "      <td>12.3</td>\n",
              "      <td>Monash City Council</td>\n",
              "    </tr>\n",
              "    <tr>\n",
              "      <th>4</th>\n",
              "      <td>Essendon West</td>\n",
              "      <td>32 Garnet St</td>\n",
              "      <td>3</td>\n",
              "      <td>h</td>\n",
              "      <td>1430000.0</td>\n",
              "      <td>S</td>\n",
              "      <td>Nelson</td>\n",
              "      <td>1/04/2017</td>\n",
              "      <td>3040</td>\n",
              "      <td>Western Metropolitan</td>\n",
              "      <td>588</td>\n",
              "      <td>7.5</td>\n",
              "      <td>Moonee Valley City Council</td>\n",
              "    </tr>\n",
              "    <tr>\n",
              "      <th>5</th>\n",
              "      <td>Strathmore Heights</td>\n",
              "      <td>2/1 De Havilland Av</td>\n",
              "      <td>2</td>\n",
              "      <td>h</td>\n",
              "      <td>635500.0</td>\n",
              "      <td>S</td>\n",
              "      <td>Considine</td>\n",
              "      <td>1/07/2017</td>\n",
              "      <td>3041</td>\n",
              "      <td>Western Metropolitan</td>\n",
              "      <td>389</td>\n",
              "      <td>8.2</td>\n",
              "      <td>Moonee Valley City Council</td>\n",
              "    </tr>\n",
              "    <tr>\n",
              "      <th>6</th>\n",
              "      <td>Essendon West</td>\n",
              "      <td>24 Clydebank Rd</td>\n",
              "      <td>4</td>\n",
              "      <td>h</td>\n",
              "      <td>NaN</td>\n",
              "      <td>SP</td>\n",
              "      <td>Barry</td>\n",
              "      <td>1/07/2017</td>\n",
              "      <td>3040</td>\n",
              "      <td>Western Metropolitan</td>\n",
              "      <td>588</td>\n",
              "      <td>7.5</td>\n",
              "      <td>Moonee Valley City Council</td>\n",
              "    </tr>\n",
              "    <tr>\n",
              "      <th>7</th>\n",
              "      <td>Essendon West</td>\n",
              "      <td>6 Bourke St</td>\n",
              "      <td>3</td>\n",
              "      <td>h</td>\n",
              "      <td>750000.0</td>\n",
              "      <td>VB</td>\n",
              "      <td>Brad</td>\n",
              "      <td>1/07/2017</td>\n",
              "      <td>3040</td>\n",
              "      <td>Western Metropolitan</td>\n",
              "      <td>588</td>\n",
              "      <td>7.5</td>\n",
              "      <td>Moonee Valley City Council</td>\n",
              "    </tr>\n",
              "    <tr>\n",
              "      <th>8</th>\n",
              "      <td>Huntingdale</td>\n",
              "      <td>9/220 Huntingdale Rd</td>\n",
              "      <td>3</td>\n",
              "      <td>h</td>\n",
              "      <td>750000.0</td>\n",
              "      <td>S</td>\n",
              "      <td>Ray</td>\n",
              "      <td>1/07/2017</td>\n",
              "      <td>3166</td>\n",
              "      <td>Southern Metropolitan</td>\n",
              "      <td>768</td>\n",
              "      <td>12.3</td>\n",
              "      <td>Monash City Council</td>\n",
              "    </tr>\n",
              "    <tr>\n",
              "      <th>9</th>\n",
              "      <td>Keilor Lodge</td>\n",
              "      <td>8 Turin Pl</td>\n",
              "      <td>4</td>\n",
              "      <td>h</td>\n",
              "      <td>640000.0</td>\n",
              "      <td>PI</td>\n",
              "      <td>Barry</td>\n",
              "      <td>1/07/2017</td>\n",
              "      <td>3038</td>\n",
              "      <td>Western Metropolitan</td>\n",
              "      <td>570</td>\n",
              "      <td>15.5</td>\n",
              "      <td>Brimbank City Council</td>\n",
              "    </tr>\n",
              "    <tr>\n",
              "      <th>10</th>\n",
              "      <td>Essendon West</td>\n",
              "      <td>36 Emerald St</td>\n",
              "      <td>5</td>\n",
              "      <td>h</td>\n",
              "      <td>2200000.0</td>\n",
              "      <td>VB</td>\n",
              "      <td>Nelson</td>\n",
              "      <td>1/07/2017</td>\n",
              "      <td>3040</td>\n",
              "      <td>Western Metropolitan</td>\n",
              "      <td>588</td>\n",
              "      <td>7.5</td>\n",
              "      <td>Moonee Valley City Council</td>\n",
              "    </tr>\n",
              "    <tr>\n",
              "      <th>11</th>\n",
              "      <td>Rockbank</td>\n",
              "      <td>2013 Western Hwy</td>\n",
              "      <td>2</td>\n",
              "      <td>h</td>\n",
              "      <td>340000.0</td>\n",
              "      <td>SP</td>\n",
              "      <td>YPA</td>\n",
              "      <td>1/07/2017</td>\n",
              "      <td>3335</td>\n",
              "      <td>Western Metropolitan</td>\n",
              "      <td>538</td>\n",
              "      <td>23.8</td>\n",
              "      <td>Melton City Council</td>\n",
              "    </tr>\n",
              "    <tr>\n",
              "      <th>12</th>\n",
              "      <td>Essendon West</td>\n",
              "      <td>4/25 Hampton Rd</td>\n",
              "      <td>2</td>\n",
              "      <td>u</td>\n",
              "      <td>460000.0</td>\n",
              "      <td>VB</td>\n",
              "      <td>Nelson</td>\n",
              "      <td>1/09/2018</td>\n",
              "      <td>3040</td>\n",
              "      <td>Western Metropolitan</td>\n",
              "      <td>588</td>\n",
              "      <td>7.5</td>\n",
              "      <td>Moonee Valley City Council</td>\n",
              "    </tr>\n",
              "    <tr>\n",
              "      <th>13</th>\n",
              "      <td>Essendon West</td>\n",
              "      <td>18A Emerald St</td>\n",
              "      <td>4</td>\n",
              "      <td>h</td>\n",
              "      <td>1450000.0</td>\n",
              "      <td>S</td>\n",
              "      <td>Frank</td>\n",
              "      <td>1/09/2018</td>\n",
              "      <td>3040</td>\n",
              "      <td>Western Metropolitan</td>\n",
              "      <td>588</td>\n",
              "      <td>7.5</td>\n",
              "      <td>Moonee Valley City Council</td>\n",
              "    </tr>\n",
              "    <tr>\n",
              "      <th>14</th>\n",
              "      <td>Essendon West</td>\n",
              "      <td>20 Prospect St</td>\n",
              "      <td>3</td>\n",
              "      <td>h</td>\n",
              "      <td>NaN</td>\n",
              "      <td>S</td>\n",
              "      <td>Brad</td>\n",
              "      <td>1/09/2018</td>\n",
              "      <td>3040</td>\n",
              "      <td>Western Metropolitan</td>\n",
              "      <td>588</td>\n",
              "      <td>7.5</td>\n",
              "      <td>Moonee Valley City Council</td>\n",
              "    </tr>\n",
              "  </tbody>\n",
              "</table>\n",
              "</div>"
            ],
            "text/plain": [
              "                Suburb  ...                   CouncilArea\n",
              "0              Chintin  ...  Macedon Ranges Shire Council\n",
              "1   Strathmore Heights  ...    Moonee Valley City Council\n",
              "2       Caulfield East  ...        Glen Eira City Council\n",
              "3          Huntingdale  ...           Monash City Council\n",
              "4        Essendon West  ...    Moonee Valley City Council\n",
              "5   Strathmore Heights  ...    Moonee Valley City Council\n",
              "6        Essendon West  ...    Moonee Valley City Council\n",
              "7        Essendon West  ...    Moonee Valley City Council\n",
              "8          Huntingdale  ...           Monash City Council\n",
              "9         Keilor Lodge  ...         Brimbank City Council\n",
              "10       Essendon West  ...    Moonee Valley City Council\n",
              "11            Rockbank  ...           Melton City Council\n",
              "12       Essendon West  ...    Moonee Valley City Council\n",
              "13       Essendon West  ...    Moonee Valley City Council\n",
              "14       Essendon West  ...    Moonee Valley City Council\n",
              "\n",
              "[15 rows x 13 columns]"
            ]
          },
          "metadata": {},
          "execution_count": 36
        }
      ]
    },
    {
      "cell_type": "markdown",
      "metadata": {
        "id": "cPUnk8ziqzhw"
      },
      "source": [
        "2. Show __how many__ unique _CouncilArea_ are in the dataset. Then what _CouncilArea_ __appears the most__ and __how many appearances__?"
      ]
    },
    {
      "cell_type": "code",
      "metadata": {
        "id": "cSTf4GQyqzhw",
        "colab": {
          "base_uri": "https://localhost:8080/"
        },
        "outputId": "ac89feeb-1684-4a07-e8d2-a103cf3067df"
      },
      "source": [
        "# Jawaban no. 2\n",
        "dfsatu['CouncilArea'].describe()"
      ],
      "execution_count": null,
      "outputs": [
        {
          "output_type": "execute_result",
          "data": {
            "text/plain": [
              "count                            335\n",
              "unique                            17\n",
              "top       Moonee Valley City Council\n",
              "freq                              84\n",
              "Name: CouncilArea, dtype: object"
            ]
          },
          "metadata": {},
          "execution_count": 37
        }
      ]
    },
    {
      "cell_type": "markdown",
      "metadata": {
        "id": "iozxOzaOQ2S8"
      },
      "source": [
        "From the results above, it can be seen that there are 17 unique CouncilAreas. The council area that appeared the most was Moonee Valley City Council with a total of 84."
      ]
    },
    {
      "cell_type": "markdown",
      "metadata": {
        "id": "F8iEWV2wqzhx"
      },
      "source": [
        "3. __Create a new _DataFrame__ containing only the _Regionname_, _Rooms_, and _Price_ columns for the first 50 rows. __Display the _shape_ and first 5 rows__ of the new _DataFrame_."
      ]
    },
    {
      "cell_type": "code",
      "metadata": {
        "id": "QBhdFqtFqzhx",
        "colab": {
          "base_uri": "https://localhost:8080/",
          "height": 223
        },
        "outputId": "c6a8a3ce-9901-4324-fcc8-be597331ce6d"
      },
      "source": [
        "dfdua = dfsatu.loc[0:50, ['Regionname', 'Rooms', 'Price']]\n",
        "display(dfdua.shape)\n",
        "dfdua.head(5)"
      ],
      "execution_count": null,
      "outputs": [
        {
          "output_type": "display_data",
          "data": {
            "text/plain": [
              "(51, 3)"
            ]
          },
          "metadata": {}
        },
        {
          "output_type": "execute_result",
          "data": {
            "text/html": [
              "<div>\n",
              "<style scoped>\n",
              "    .dataframe tbody tr th:only-of-type {\n",
              "        vertical-align: middle;\n",
              "    }\n",
              "\n",
              "    .dataframe tbody tr th {\n",
              "        vertical-align: top;\n",
              "    }\n",
              "\n",
              "    .dataframe thead th {\n",
              "        text-align: right;\n",
              "    }\n",
              "</style>\n",
              "<table border=\"1\" class=\"dataframe\">\n",
              "  <thead>\n",
              "    <tr style=\"text-align: right;\">\n",
              "      <th></th>\n",
              "      <th>Regionname</th>\n",
              "      <th>Rooms</th>\n",
              "      <th>Price</th>\n",
              "    </tr>\n",
              "  </thead>\n",
              "  <tbody>\n",
              "    <tr>\n",
              "      <th>0</th>\n",
              "      <td>Northern Victoria</td>\n",
              "      <td>5</td>\n",
              "      <td>NaN</td>\n",
              "    </tr>\n",
              "    <tr>\n",
              "      <th>1</th>\n",
              "      <td>Western Metropolitan</td>\n",
              "      <td>3</td>\n",
              "      <td>900000.0</td>\n",
              "    </tr>\n",
              "    <tr>\n",
              "      <th>2</th>\n",
              "      <td>Southern Metropolitan</td>\n",
              "      <td>3</td>\n",
              "      <td>1400000.0</td>\n",
              "    </tr>\n",
              "    <tr>\n",
              "      <th>3</th>\n",
              "      <td>Southern Metropolitan</td>\n",
              "      <td>3</td>\n",
              "      <td>1145000.0</td>\n",
              "    </tr>\n",
              "    <tr>\n",
              "      <th>4</th>\n",
              "      <td>Western Metropolitan</td>\n",
              "      <td>3</td>\n",
              "      <td>1430000.0</td>\n",
              "    </tr>\n",
              "  </tbody>\n",
              "</table>\n",
              "</div>"
            ],
            "text/plain": [
              "              Regionname  Rooms      Price\n",
              "0      Northern Victoria      5        NaN\n",
              "1   Western Metropolitan      3   900000.0\n",
              "2  Southern Metropolitan      3  1400000.0\n",
              "3  Southern Metropolitan      3  1145000.0\n",
              "4   Western Metropolitan      3  1430000.0"
            ]
          },
          "metadata": {},
          "execution_count": 40
        }
      ]
    },
    {
      "cell_type": "markdown",
      "metadata": {
        "id": "eMr1yhD1qzhy"
      },
      "source": [
        "4. __Display all Regionnames__ of the initial _DataFrame_, __as _Pandas Series___, which have a _Propertycount_ __greater than or equal to 400__. (_Hint_: Please explore how to access _DataFrame_ rows with _boolean_ conditions using <code>loc</code>, <code>iloc</code>, or other means.)"
      ]
    },
    {
      "cell_type": "code",
      "metadata": {
        "id": "F7O6LZkwqzhy",
        "colab": {
          "base_uri": "https://localhost:8080/",
          "height": 225
        },
        "outputId": "29515fce-5d7b-40ce-83f1-8f6c38111f6f"
      },
      "source": [
        "dftiga = dfsatu.loc[dfsatu['Propertycount'] >= 400]\n",
        "dfempat = dftiga['Regionname']\n",
        "display(dfempat)"
      ],
      "execution_count": null,
      "outputs": [
        {
          "output_type": "display_data",
          "data": {
            "text/plain": [
              "2           Southern Metropolitan\n",
              "3           Southern Metropolitan\n",
              "4            Western Metropolitan\n",
              "6            Western Metropolitan\n",
              "7            Western Metropolitan\n",
              "                  ...            \n",
              "329    South-Eastern Metropolitan\n",
              "330          Western Metropolitan\n",
              "331         Southern Metropolitan\n",
              "332         Southern Metropolitan\n",
              "334          Western Metropolitan\n",
              "Name: Regionname, Length: 250, dtype: object"
            ]
          },
          "metadata": {}
        }
      ]
    },
    {
      "cell_type": "markdown",
      "metadata": {
        "id": "m45Rjz5gqzhz"
      },
      "source": [
        "5. Create a new _DataFrame_ from the initial _DataFrame_ by __deleting all rows__ that have _null_ values. __Display the average price__ of houses in the new _DataFrame_."
      ]
    },
    {
      "cell_type": "code",
      "metadata": {
        "id": "LJPaOjOrqzhz",
        "colab": {
          "base_uri": "https://localhost:8080/"
        },
        "outputId": "1d3d151a-c73a-45b7-c88c-48e0805a05ab"
      },
      "source": [
        "dfdrop = dfsatu.dropna()\n",
        "mean = dfdrop.Price.mean()\n",
        "mean"
      ],
      "execution_count": null,
      "outputs": [
        {
          "output_type": "execute_result",
          "data": {
            "text/plain": [
              "1032402.749034749"
            ]
          },
          "metadata": {},
          "execution_count": 48
        }
      ]
    },
    {
      "cell_type": "markdown",
      "metadata": {
        "id": "u2QwWxp7qzh0"
      },
      "source": [
        "6. Create a new _DataFrame_ from the initial _DataFrame_ by __filling all null values__ in the _Price_ column with the minimum value. __Display the average price__ of houses in the new _DataFrame_."
      ]
    },
    {
      "cell_type": "code",
      "metadata": {
        "id": "q_UX9mwrqzh0",
        "colab": {
          "base_uri": "https://localhost:8080/"
        },
        "outputId": "0a236ae2-25ea-4ec2-e0dc-b405d3d9f657"
      },
      "source": [
        "min = dfsatu.Price.min()\n",
        "df2_fill_mean = dfsatu.copy()\n",
        "df2_fill_mean.Price.fillna(min,inplace=True)\n",
        "mean1 = df2_fill_mean.Price.mean()\n",
        "mean1"
      ],
      "execution_count": null,
      "outputs": [
        {
          "output_type": "execute_result",
          "data": {
            "text/plain": [
              "857171.080597015"
            ]
          },
          "metadata": {},
          "execution_count": 51
        }
      ]
    },
    {
      "cell_type": "markdown",
      "metadata": {
        "id": "C6f18wVPqzh0"
      },
      "source": [
        "7. Is there __ difference __ new average scores in numbers 5 and 6? __Why is that?__"
      ]
    },
    {
      "cell_type": "markdown",
      "metadata": {
        "id": "vZaRH9FEqzh0"
      },
      "source": [
        "Yes, because in number 5, missing values are simply removed, while in number 6, missing values are replaced with minimum values. So, when calculating the average, it has a different value."
      ]
    },
    {
      "cell_type": "markdown",
      "metadata": {
        "id": "AwN5NSw0hQ46"
      },
      "source": [
        "# **B. NumPy**"
      ]
    },
    {
      "cell_type": "markdown",
      "metadata": {
        "id": "7nfxPaTRhQ47"
      },
      "source": [
        "[NumPy](https://numpy.org/) (Numerical Python) is a Python library focused on <i>Scientific computing</i>. NumPy is similar to Lists in Python, only it has several advantages such as smaller memory usage, faster runtime, and makes it easier for us to perform vector and matrix operations. This causes NumPy to become one of the libraries that is widely used in the data analysis process."
      ]
    },
    {
      "cell_type": "code",
      "metadata": {
        "id": "okY6L78ShQ47"
      },
      "source": [
        "# import library NumPy\n",
        "import numpy as np"
      ],
      "execution_count": null,
      "outputs": []
    },
    {
      "cell_type": "markdown",
      "metadata": {
        "id": "Ihb7n9fthQ47"
      },
      "source": [
        "## Array NumPy"
      ]
    },
    {
      "cell_type": "markdown",
      "metadata": {
        "id": "r5eyeZR-hQ48"
      },
      "source": [
        "To create a new array, we can create a python List then convert it into a NumPy array using the <code>array()</code> function in NumPy"
      ]
    },
    {
      "cell_type": "code",
      "metadata": {
        "colab": {
          "base_uri": "https://localhost:8080/"
        },
        "id": "7EQxVXKrhQ49",
        "outputId": "4544b8aa-b429-44d2-8084-505af45ed417"
      },
      "source": [
        "# Creating numpy array\n",
        "arr = np.array([10,20,30,40,50])\n",
        "arr"
      ],
      "execution_count": null,
      "outputs": [
        {
          "output_type": "execute_result",
          "data": {
            "text/plain": [
              "array([10, 20, 30, 40, 50])"
            ]
          },
          "metadata": {},
          "execution_count": 55
        }
      ]
    },
    {
      "cell_type": "markdown",
      "metadata": {
        "id": "SA_ZNvpdhQ4-"
      },
      "source": [
        "There are several built-in functions that can be used to create arrays"
      ]
    },
    {
      "cell_type": "code",
      "metadata": {
        "colab": {
          "base_uri": "https://localhost:8080/"
        },
        "id": "m87ZpDumhQ4-",
        "outputId": "22be295c-90ca-42dc-8378-0bbed4b3d50f"
      },
      "source": [
        "# Create an array with the value 0 as many as 5\n",
        "print(\"np.zeros(5) : \",np.zeros(5))\n",
        "\n",
        "# Create an array with the value 1 as many as 5\n",
        "print(\"np.ones(5) : \",np.ones(5))\n",
        "\n",
        "# Create an array with values in the range 1 to 10 with a step of 2\n",
        "print(\"np.arange(1,10,2) : \",np.arange(1,10,2))\n",
        "\n",
        "# Create an array with 4 values in the range 1 to 10 at the same interval\n",
        "print(\"np.linspace(1,10,4) : \",np.linspace(1,10,4))"
      ],
      "execution_count": null,
      "outputs": [
        {
          "output_type": "stream",
          "name": "stdout",
          "text": [
            "np.zeros(5) :  [0. 0. 0. 0. 0.]\n",
            "np.ones(5) :  [1. 1. 1. 1. 1.]\n",
            "np.arange(1,10,2) :  [1 3 5 7 9]\n",
            "np.linspace(1,10,4) :  [ 1.  4.  7. 10.]\n"
          ]
        }
      ]
    },
    {
      "cell_type": "markdown",
      "metadata": {
        "id": "n96smvk6hQ4-"
      },
      "source": [
        "## Array Multidimention"
      ]
    },
    {
      "cell_type": "markdown",
      "metadata": {
        "id": "L5w2wl8-hQ4-"
      },
      "source": [
        "Apart from 1-dimensional arrays, NumPy also has the ability to create and manipulate multidimensional arrays easily"
      ]
    },
    {
      "cell_type": "code",
      "metadata": {
        "colab": {
          "base_uri": "https://localhost:8080/"
        },
        "id": "_D8VfLPMhQ4_",
        "outputId": "911a267d-0974-44b6-bf64-f4a0bba290df"
      },
      "source": [
        "# Creating numpy array multidimention / matrix\n",
        "mult_arr = np.array([[1,2,3],[4,5,6],[10,20,30]])\n",
        "mult_arr"
      ],
      "execution_count": null,
      "outputs": [
        {
          "output_type": "execute_result",
          "data": {
            "text/plain": [
              "array([[ 1,  2,  3],\n",
              "       [ 4,  5,  6],\n",
              "       [10, 20, 30]])"
            ]
          },
          "metadata": {},
          "execution_count": 57
        }
      ]
    },
    {
      "cell_type": "markdown",
      "metadata": {
        "id": "Z79slr7ihQ4_"
      },
      "source": [
        "## Displays the Attributes of an Array"
      ]
    },
    {
      "cell_type": "markdown",
      "metadata": {
        "id": "D2F1qOurhQ4_"
      },
      "source": [
        "There are several functions that can be used to display the attributes of an array"
      ]
    },
    {
      "cell_type": "code",
      "metadata": {
        "colab": {
          "base_uri": "https://localhost:8080/"
        },
        "id": "jEz_Uie6hQ5A",
        "outputId": "25a3801d-606f-489c-f561-d9ea49153562"
      },
      "source": [
        "print(mult_arr)\n",
        "\n",
        "print()\n",
        "\n",
        "# Indicates the size of the array\n",
        "print(\"mult_arr.size:\", mult_arr.size)\n",
        "\n",
        "# Indicates the number of dimensions or rank of an array\n",
        "print(\"mult_arr.ndim:\", mult_arr.ndim)\n",
        "\n",
        "# Know the size of each dimension of the array\n",
        "print(\"mult_arr.shape:\", mult_arr.shape)"
      ],
      "execution_count": null,
      "outputs": [
        {
          "output_type": "stream",
          "name": "stdout",
          "text": [
            "[[ 1  2  3]\n",
            " [ 4  5  6]\n",
            " [10 20 30]]\n",
            "\n",
            "mult_arr.size: 9\n",
            "mult_arr.ndim: 2\n",
            "mult_arr.shape: (3, 3)\n"
          ]
        }
      ]
    },
    {
      "cell_type": "markdown",
      "metadata": {
        "id": "HsQKEiM7hQ5B"
      },
      "source": [
        "## Check Type"
      ]
    },
    {
      "cell_type": "markdown",
      "metadata": {
        "id": "gf58sK2vhQ5C"
      },
      "source": [
        "We can find out the type of an object using the <code>type()</code> function"
      ]
    },
    {
      "cell_type": "code",
      "metadata": {
        "colab": {
          "base_uri": "https://localhost:8080/",
          "height": 104
        },
        "id": "KhnPsBqzhQ5C",
        "outputId": "09798bcd-fbc6-4d14-fd66-78dac8903d48"
      },
      "source": [
        "# Checking the list type\n",
        "py_lst = [1,2,3,4,5]\n",
        "print(\"type(py_list): \")\n",
        "display(type(py_lst))\n",
        "\n",
        "print()\n",
        "\n",
        "# Check the type of array\n",
        "print(\"type(mult_arr): \")\n",
        "display(type(mult_arr))"
      ],
      "execution_count": null,
      "outputs": [
        {
          "output_type": "stream",
          "name": "stdout",
          "text": [
            "type(py_list): \n"
          ]
        },
        {
          "output_type": "display_data",
          "data": {
            "text/plain": [
              "list"
            ]
          },
          "metadata": {}
        },
        {
          "output_type": "stream",
          "name": "stdout",
          "text": [
            "\n",
            "type(mult_arr): \n"
          ]
        },
        {
          "output_type": "display_data",
          "data": {
            "text/plain": [
              "numpy.ndarray"
            ]
          },
          "metadata": {}
        }
      ]
    },
    {
      "cell_type": "markdown",
      "metadata": {
        "id": "4mYwFjIYhQ5D"
      },
      "source": [
        "To check the data type in a numpy array, you can use <code>dtype()</code>"
      ]
    },
    {
      "cell_type": "code",
      "metadata": {
        "colab": {
          "base_uri": "https://localhost:8080/"
        },
        "id": "2cdhWrSOhQ5D",
        "outputId": "4d5df961-78e7-4d40-e811-2a6f1e72f575"
      },
      "source": [
        "# Check the data type of the array\n",
        "mult_arr.dtype"
      ],
      "execution_count": null,
      "outputs": [
        {
          "output_type": "execute_result",
          "data": {
            "text/plain": [
              "dtype('int64')"
            ]
          },
          "metadata": {},
          "execution_count": 60
        }
      ]
    },
    {
      "cell_type": "markdown",
      "metadata": {
        "id": "SWUt2ischQ5D"
      },
      "source": [
        "## Indexing, Slicing, and Assigning Values to Arrays"
      ]
    },
    {
      "cell_type": "code",
      "metadata": {
        "colab": {
          "base_uri": "https://localhost:8080/"
        },
        "id": "HoOFhPKghQ5D",
        "outputId": "79cc8adc-9ff8-4e0c-9f25-3197330f6738"
      },
      "source": [
        "arr"
      ],
      "execution_count": null,
      "outputs": [
        {
          "output_type": "execute_result",
          "data": {
            "text/plain": [
              "array([10, 20, 30, 40, 50])"
            ]
          },
          "metadata": {},
          "execution_count": 61
        }
      ]
    },
    {
      "cell_type": "markdown",
      "metadata": {
        "id": "YptC-zskhQ5E"
      },
      "source": [
        "Accesses the first element of the array"
      ]
    },
    {
      "cell_type": "code",
      "metadata": {
        "colab": {
          "base_uri": "https://localhost:8080/"
        },
        "id": "DzCjG_jJhQ5E",
        "outputId": "468bc902-fd45-4add-d09d-9c2cb1e01f9c"
      },
      "source": [
        "arr[0]"
      ],
      "execution_count": null,
      "outputs": [
        {
          "output_type": "execute_result",
          "data": {
            "text/plain": [
              "10"
            ]
          },
          "metadata": {},
          "execution_count": 62
        }
      ]
    },
    {
      "cell_type": "code",
      "metadata": {
        "colab": {
          "base_uri": "https://localhost:8080/"
        },
        "id": "34EqczMGhQ5E",
        "outputId": "b91fea03-f888-4833-81f4-2b5fe039e894"
      },
      "source": [
        "mult_arr"
      ],
      "execution_count": null,
      "outputs": [
        {
          "output_type": "execute_result",
          "data": {
            "text/plain": [
              "array([[ 1,  2,  3],\n",
              "       [ 4,  5,  6],\n",
              "       [10, 20, 30]])"
            ]
          },
          "metadata": {},
          "execution_count": 63
        }
      ]
    },
    {
      "cell_type": "code",
      "metadata": {
        "colab": {
          "base_uri": "https://localhost:8080/",
          "height": 52
        },
        "id": "JWmLRZmphQ5E",
        "outputId": "0b2e1581-4e97-4ab8-ff9c-d90aa751ae08"
      },
      "source": [
        "# Access elements of the second row, third column of a multidimensional array\n",
        "display(mult_arr[1,2])\n",
        "\n",
        "# Another way\n",
        "display(mult_arr[1][2])"
      ],
      "execution_count": null,
      "outputs": [
        {
          "output_type": "display_data",
          "data": {
            "text/plain": [
              "6"
            ]
          },
          "metadata": {}
        },
        {
          "output_type": "display_data",
          "data": {
            "text/plain": [
              "6"
            ]
          },
          "metadata": {}
        }
      ]
    },
    {
      "cell_type": "markdown",
      "metadata": {
        "id": "O4K8DnUdhQ5F"
      },
      "source": [
        "We can perform slicing on numpy arrays like Lists"
      ]
    },
    {
      "cell_type": "code",
      "metadata": {
        "colab": {
          "base_uri": "https://localhost:8080/"
        },
        "id": "hSzAcAFhdJEr",
        "outputId": "2d097bec-cbc9-4f41-c8f4-de54048cf62c"
      },
      "source": [
        "arr"
      ],
      "execution_count": null,
      "outputs": [
        {
          "output_type": "execute_result",
          "data": {
            "text/plain": [
              "array([10, 20, 30, 40, 50])"
            ]
          },
          "metadata": {},
          "execution_count": 65
        }
      ]
    },
    {
      "cell_type": "code",
      "metadata": {
        "colab": {
          "base_uri": "https://localhost:8080/"
        },
        "id": "kAuTlxGlhQ5F",
        "outputId": "2db5acea-e5c7-475a-f1b5-545d7e01f970"
      },
      "source": [
        "# Slice index elements 1 to 3\n",
        "b = arr[1:4]\n",
        "b"
      ],
      "execution_count": null,
      "outputs": [
        {
          "output_type": "execute_result",
          "data": {
            "text/plain": [
              "array([20, 30, 40])"
            ]
          },
          "metadata": {},
          "execution_count": 66
        }
      ]
    },
    {
      "cell_type": "markdown",
      "metadata": {
        "id": "6mwPQiiVhQ5H"
      },
      "source": [
        "We can also perform slicing on multidimensional arrays"
      ]
    },
    {
      "cell_type": "code",
      "metadata": {
        "colab": {
          "base_uri": "https://localhost:8080/"
        },
        "id": "zCy4jrewhQ5H",
        "outputId": "c2bcefa1-3928-4e0d-c640-420fc34a1799"
      },
      "source": [
        "mult_arr"
      ],
      "execution_count": null,
      "outputs": [
        {
          "output_type": "execute_result",
          "data": {
            "text/plain": [
              "array([[ 1,  2,  3],\n",
              "       [ 4,  5,  6],\n",
              "       [10, 20, 30]])"
            ]
          },
          "metadata": {},
          "execution_count": 67
        }
      ]
    },
    {
      "cell_type": "code",
      "metadata": {
        "colab": {
          "base_uri": "https://localhost:8080/"
        },
        "id": "ZvIAK6ifhQ5H",
        "outputId": "69e6a351-9c50-48db-b280-a84a636d5571"
      },
      "source": [
        "#Slice elements from the first row, columns 1 and 2\n",
        "mult_arr[0][0:2]"
      ],
      "execution_count": null,
      "outputs": [
        {
          "output_type": "execute_result",
          "data": {
            "text/plain": [
              "array([1, 2])"
            ]
          },
          "metadata": {},
          "execution_count": 68
        }
      ]
    },
    {
      "cell_type": "code",
      "metadata": {
        "colab": {
          "base_uri": "https://localhost:8080/"
        },
        "id": "JItGn-oYhQ5I",
        "outputId": "dc15d261-df95-4136-c8b2-873be44052fe"
      },
      "source": [
        "# Second column slice\n",
        "mult_arr[:,1]"
      ],
      "execution_count": null,
      "outputs": [
        {
          "output_type": "execute_result",
          "data": {
            "text/plain": [
              "array([ 2,  5, 20])"
            ]
          },
          "metadata": {},
          "execution_count": 69
        }
      ]
    },
    {
      "cell_type": "markdown",
      "metadata": {
        "id": "W70gBX3OhQ5I"
      },
      "source": [
        "We can change the value of an array."
      ]
    },
    {
      "cell_type": "code",
      "metadata": {
        "colab": {
          "base_uri": "https://localhost:8080/"
        },
        "id": "9X9V3qrnhQ5I",
        "outputId": "a8d06859-f2ae-499f-b862-c1d5bdb181ea"
      },
      "source": [
        "# Change the fifth element of array a to 500\n",
        "arr[4] = 500\n",
        "arr"
      ],
      "execution_count": null,
      "outputs": [
        {
          "output_type": "execute_result",
          "data": {
            "text/plain": [
              "array([ 10,  20,  30,  40, 500])"
            ]
          },
          "metadata": {},
          "execution_count": 70
        }
      ]
    },
    {
      "cell_type": "code",
      "metadata": {
        "colab": {
          "base_uri": "https://localhost:8080/"
        },
        "id": "Zh2EgBFvhQ5J",
        "outputId": "1501e077-72d9-44a0-9d54-50ec00a96cc1"
      },
      "source": [
        "# Change the first row element of the first column of multidimensional array A to 100\n",
        "mult_arr[0][0] = 100\n",
        "mult_arr"
      ],
      "execution_count": null,
      "outputs": [
        {
          "output_type": "execute_result",
          "data": {
            "text/plain": [
              "array([[100,   2,   3],\n",
              "       [  4,   5,   6],\n",
              "       [ 10,  20,  30]])"
            ]
          },
          "metadata": {},
          "execution_count": 71
        }
      ]
    },
    {
      "cell_type": "markdown",
      "metadata": {
        "id": "IZuUtLb9hQ5J"
      },
      "source": [
        "We can use a list to select specific indexes"
      ]
    },
    {
      "cell_type": "code",
      "metadata": {
        "id": "XKeq6vgQhQ5J"
      },
      "source": [
        "# Create a list containing indexes\n",
        "lst = [0,3,4]"
      ],
      "execution_count": null,
      "outputs": []
    },
    {
      "cell_type": "code",
      "metadata": {
        "colab": {
          "base_uri": "https://localhost:8080/"
        },
        "id": "jifpn9ZghQ5J",
        "outputId": "da106153-95c5-40fb-9cc9-16bb5aaa1735"
      },
      "source": [
        "# Use a list to select elements\n",
        "c = arr[lst]\n",
        "c"
      ],
      "execution_count": null,
      "outputs": [
        {
          "output_type": "execute_result",
          "data": {
            "text/plain": [
              "array([ 10,  40, 500])"
            ]
          },
          "metadata": {},
          "execution_count": 73
        }
      ]
    },
    {
      "cell_type": "markdown",
      "metadata": {
        "id": "QzoftEy4hQ5J"
      },
      "source": [
        "Apart from that, we can also assign elements at indexes in the list with new values"
      ]
    },
    {
      "cell_type": "code",
      "metadata": {
        "colab": {
          "base_uri": "https://localhost:8080/"
        },
        "id": "c0cscnQshQ5J",
        "outputId": "681c93b4-6f0a-48cc-a468-a4061efedc5b"
      },
      "source": [
        "# Assign a new value to the index in the list\n",
        "arr[lst] = 1234\n",
        "arr"
      ],
      "execution_count": null,
      "outputs": [
        {
          "output_type": "execute_result",
          "data": {
            "text/plain": [
              "array([1234,   20,   30, 1234, 1234])"
            ]
          },
          "metadata": {},
          "execution_count": 74
        }
      ]
    },
    {
      "cell_type": "markdown",
      "metadata": {
        "id": "rG_9iZRYhQ5K"
      },
      "source": [
        "## Operasi pada Array"
      ]
    },
    {
      "cell_type": "code",
      "metadata": {
        "id": "ntMYIIKEhQ5K"
      },
      "source": [
        "x = np.array([10, 15, 20, 25, 30])\n",
        "y = np.array([30, 25, 20, 15, 10])"
      ],
      "execution_count": null,
      "outputs": []
    },
    {
      "cell_type": "code",
      "metadata": {
        "colab": {
          "base_uri": "https://localhost:8080/"
        },
        "id": "NukaYLlhhQ5K",
        "outputId": "afde0a8e-0706-4531-c2a9-b814d6d121da"
      },
      "source": [
        "# Summation Array\n",
        "print(\"Penjumlahan Array : \", x + y)\n",
        "\n",
        "# Substraction Array\n",
        "print(\"Pengurangan Array : \", x - y)"
      ],
      "execution_count": null,
      "outputs": [
        {
          "output_type": "stream",
          "name": "stdout",
          "text": [
            "Penjumlahan Array :  [40 40 40 40 40]\n",
            "Pengurangan Array :  [-20 -10   0  10  20]\n"
          ]
        }
      ]
    },
    {
      "cell_type": "code",
      "metadata": {
        "colab": {
          "base_uri": "https://localhost:8080/"
        },
        "id": "Z2i96AjYhQ5K",
        "outputId": "7e9fad74-2991-43d3-b663-8cfd1f163e0f"
      },
      "source": [
        "# Summation Array with constant numbers\n",
        "print(\"Penjumlahan dengan sebuah bilangan : \", x + 3)\n",
        "\n",
        "# Array multiplication with constant numbers\n",
        "print(\"Perkalian dengan sebuah bilangan : \", x * 2)"
      ],
      "execution_count": null,
      "outputs": [
        {
          "output_type": "stream",
          "name": "stdout",
          "text": [
            "Penjumlahan dengan sebuah bilangan :  [13 18 23 28 33]\n",
            "Perkalian dengan sebuah bilangan :  [20 30 40 50 60]\n"
          ]
        }
      ]
    },
    {
      "cell_type": "code",
      "metadata": {
        "colab": {
          "base_uri": "https://localhost:8080/"
        },
        "id": "lUChuQMnhQ5L",
        "outputId": "0b6ca13a-2b9a-48a0-98b0-71c2afa7104d"
      },
      "source": [
        "m = np.array([1,2])\n",
        "n = np.array([0,1])\n",
        "\n",
        "# Multiplication of 2 arrays\n",
        "print(\"Perkalian array m dan n : \", m * n)\n",
        "\n",
        "# Dot product of 2 arrays\n",
        "print(\"Dot product m dan n : \", np.dot(m,n))"
      ],
      "execution_count": null,
      "outputs": [
        {
          "output_type": "stream",
          "name": "stdout",
          "text": [
            "Perkalian array m dan n :  [0 2]\n",
            "Dot product m dan n :  2\n"
          ]
        }
      ]
    },
    {
      "cell_type": "markdown",
      "metadata": {
        "id": "-fWTVHg8hQ5L"
      },
      "source": [
        "## Operations on Multidimensional Arrays / Matrix"
      ]
    },
    {
      "cell_type": "markdown",
      "metadata": {
        "id": "pOuKa2G8hQ5L"
      },
      "source": [
        "Operations on arrays also apply to multidimensional arrays / matrices. We can also find out the transpose and inverse of a matrix through the following function"
      ]
    },
    {
      "cell_type": "code",
      "metadata": {
        "colab": {
          "base_uri": "https://localhost:8080/"
        },
        "id": "f94MGK78hQ5M",
        "outputId": "31e54db8-961b-4d92-efab-0be428ed5346"
      },
      "source": [
        "P = np.array([[1,2],[3,4]])\n",
        "\n",
        "# Matrix P\n",
        "print(P)\n",
        "\n",
        "# Create a transpose matrix from matrix P\n",
        "print(\"Transpose : \")\n",
        "print(np.transpose(P))\n",
        "\n",
        "# Create an inverse matrix from matrix P\n",
        "print(\"Inverse : \")\n",
        "print(np.linalg.inv(P))"
      ],
      "execution_count": null,
      "outputs": [
        {
          "output_type": "stream",
          "name": "stdout",
          "text": [
            "[[1 2]\n",
            " [3 4]]\n",
            "Transpose : \n",
            "[[1 3]\n",
            " [2 4]]\n",
            "Invers : \n",
            "[[-2.   1. ]\n",
            " [ 1.5 -0.5]]\n"
          ]
        }
      ]
    },
    {
      "cell_type": "markdown",
      "metadata": {
        "id": "ZqmzvLtQhQ5M"
      },
      "source": [
        "## Statistical Operations on Arrays"
      ]
    },
    {
      "cell_type": "code",
      "metadata": {
        "colab": {
          "base_uri": "https://localhost:8080/"
        },
        "id": "Zp0kp62zhQ5N",
        "outputId": "c4e9da6c-9cc6-47a8-9cd5-07cc15f09ca8"
      },
      "source": [
        "stat_arr = np.array([7, 7, 6, 6, 5, 7, 5, 9, 4, 2, 4, 2, 7, 7, 7, 3, 4, 4, 8, 7, 8, 6,\n",
        "       4, 1, 1])\n",
        "stat_arr"
      ],
      "execution_count": null,
      "outputs": [
        {
          "output_type": "execute_result",
          "data": {
            "text/plain": [
              "array([7, 7, 6, 6, 5, 7, 5, 9, 4, 2, 4, 2, 7, 7, 7, 3, 4, 4, 8, 7, 8, 6,\n",
              "       4, 1, 1])"
            ]
          },
          "metadata": {},
          "execution_count": 80
        }
      ]
    },
    {
      "cell_type": "code",
      "metadata": {
        "colab": {
          "base_uri": "https://localhost:8080/"
        },
        "id": "e0NvY7DVhQ5N",
        "outputId": "1e3be76e-c906-4c6c-c64e-6d68d526ae2e"
      },
      "source": [
        "# The average value of an array\n",
        "print(\"Average value : \", np.mean(stat_arr))\n",
        "\n",
        "# Maximum value of an array\n",
        "print(\"Max value : \", np.max(stat_arr))\n",
        "\n",
        "# Unique value of an array\n",
        "print(\"Unique value : \", np.unique(stat_arr))\n",
        "\n",
        "#Sort the values in the array\n",
        "print(\"Sorted : \", np.sort(stat_arr))"
      ],
      "execution_count": null,
      "outputs": [
        {
          "output_type": "stream",
          "name": "stdout",
          "text": [
            "Nilai rata-rata :  5.24\n",
            "Nilai maks :  9\n",
            "Nilai unik :  [1 2 3 4 5 6 7 8 9]\n",
            "Sorted :  [1 1 2 2 3 4 4 4 4 4 5 5 6 6 6 7 7 7 7 7 7 7 8 8 9]\n"
          ]
        }
      ]
    },
    {
      "cell_type": "markdown",
      "metadata": {
        "id": "WXRKYZjpewnw"
      },
      "source": [
        "## Excercise"
      ]
    },
    {
      "cell_type": "code",
      "metadata": {
        "id": "cGm3H8w5ewny",
        "colab": {
          "base_uri": "https://localhost:8080/"
        },
        "outputId": "65177a80-facc-4243-b80d-623772c0cd9f"
      },
      "source": [
        "arr_1 = np.array([1,2,3.5,4,5,6,7,8])\n",
        "arr_1.dtype"
      ],
      "execution_count": null,
      "outputs": [
        {
          "output_type": "execute_result",
          "data": {
            "text/plain": [
              "dtype('float64')"
            ]
          },
          "metadata": {},
          "execution_count": 82
        }
      ]
    },
    {
      "cell_type": "markdown",
      "metadata": {
        "id": "HQT4O18zi8o-"
      },
      "source": [
        "1. The data type obtained from <code>arr_1.dtype</code> of type float even though there are elements of type integer too, this is because there is data with the Float type, and the Integer type can still be classified as the Float type. So, in general this array can be called a Float array."
      ]
    },
    {
      "cell_type": "markdown",
      "metadata": {
        "id": "IZTY_2YGewn1"
      },
      "source": [
        "<hr>"
      ]
    },
    {
      "cell_type": "code",
      "metadata": {
        "id": "wrqZCCerewn2"
      },
      "source": [
        "V = np.array([[2,3,2],[1,2,1],[3,2,1]])\n",
        "W = np.array([[1,1,2],[2,3,1],[2,2,2]])"
      ],
      "execution_count": null,
      "outputs": []
    },
    {
      "cell_type": "markdown",
      "metadata": {
        "id": "P_WC0aGkewn2"
      },
      "source": [
        "2. There are matrices V and W as in _cell_ above, do the multiplication operation for matrices V and W! Then create a new matrix containing the roots of each element of the matrix multiplication result! Display the transpose matrix of the root matrix! (Hint : You can use the <code>sqrt</code> function from NumPy)"
      ]
    },
    {
      "cell_type": "code",
      "metadata": {
        "id": "3js1mRHfini0",
        "colab": {
          "base_uri": "https://localhost:8080/"
        },
        "outputId": "c0eaae7e-e834-466e-e491-cdd017203707"
      },
      "source": [
        "X = V * W\n",
        "Y = np.sqrt(X)\n",
        "Z = np.transpose(Y)\n",
        "Z"
      ],
      "execution_count": null,
      "outputs": [
        {
          "output_type": "execute_result",
          "data": {
            "text/plain": [
              "array([[1.41421356, 1.41421356, 2.44948974],\n",
              "       [1.73205081, 2.44948974, 2.        ],\n",
              "       [2.        , 1.        , 1.41421356]])"
            ]
          },
          "metadata": {},
          "execution_count": 87
        }
      ]
    },
    {
      "cell_type": "markdown",
      "metadata": {
        "id": "dThuQje-ewn3"
      },
      "source": [
        "<hr>"
      ]
    },
    {
      "cell_type": "code",
      "metadata": {
        "id": "OovWchHBewn3"
      },
      "source": [
        "arr_3 = np.array([50, 20, 10, 10, 12, 60, 105,  2, 55, 80, 88, 16, 78, 13, 34, 34, 20,\n",
        "        9, 51, 88, 19, 13,  3, 51, 45, 76, 41, 23, 34, 36, 55,  8, 55,  3,\n",
        "        8,  2, 47, 27, 66,  3, 45, 96, 69, 21, 37, 32, 41, 43, 60, 53])"
      ],
      "execution_count": null,
      "outputs": []
    },
    {
      "cell_type": "markdown",
      "metadata": {
        "id": "ZAODVenBewn3"
      },
      "source": [
        "3. There is an array like _cell_ above, find and display the average, maximum, minimum, median, standard deviation, variance and size of the array!"
      ]
    },
    {
      "cell_type": "code",
      "metadata": {
        "id": "LClVRTW2itvM",
        "colab": {
          "base_uri": "https://localhost:8080/",
          "height": 121
        },
        "outputId": "968b3a66-dc46-4f7d-9dba-82477823c770"
      },
      "source": [
        "ratarata = np.mean(arr_3)\n",
        "maks = np.max(arr_3)\n",
        "minimum = np.min(arr_3)\n",
        "std = np.std(arr_3)\n",
        "var = np.var(arr_3)\n",
        "ukuran = np.size(arr_3)\n",
        "display(ratarata)\n",
        "display(maks)\n",
        "display(minimum)\n",
        "display(std)\n",
        "display(var)\n",
        "display(ukuran)"
      ],
      "execution_count": null,
      "outputs": [
        {
          "output_type": "display_data",
          "data": {
            "text/plain": [
              "38.94"
            ]
          },
          "metadata": {}
        },
        {
          "output_type": "display_data",
          "data": {
            "text/plain": [
              "105"
            ]
          },
          "metadata": {}
        },
        {
          "output_type": "display_data",
          "data": {
            "text/plain": [
              "2"
            ]
          },
          "metadata": {}
        },
        {
          "output_type": "display_data",
          "data": {
            "text/plain": [
              "27.10897268433461"
            ]
          },
          "metadata": {}
        },
        {
          "output_type": "display_data",
          "data": {
            "text/plain": [
              "734.8964"
            ]
          },
          "metadata": {}
        },
        {
          "output_type": "display_data",
          "data": {
            "text/plain": [
              "50"
            ]
          },
          "metadata": {}
        }
      ]
    },
    {
      "cell_type": "markdown",
      "metadata": {
        "id": "nmvDDpRfuKPU"
      },
      "source": [
        "# **C. Introduction to Scikit-learn**"
      ]
    },
    {
      "cell_type": "markdown",
      "metadata": {
        "id": "sR6x-tuSpTo9"
      },
      "source": [
        "[Scikit-learn](https://scikit-learn.org/) or **sklearn** is a Python library used for machine learning. This *library* provides various modules that support *supervised* and *unsupervised learning* (we will study this later). Several modules provided are useful for data preprocessing, model fitting, model selection and model evaluation."
      ]
    },
    {
      "cell_type": "markdown",
      "metadata": {
        "id": "HQ4i4POm-kZ1"
      },
      "source": [
        "## Load Dataset"
      ]
    },
    {
      "cell_type": "markdown",
      "metadata": {
        "id": "eA16fpJ3V2Y2"
      },
      "source": [
        "The [datasets](https://scikit-learn.org/stable/datasets.html#datasets) module from sklearn provides a number of *toy datasets* that can be used to study machine learning. The dataset can be accessed with the <code>load_[dataset name] ()</code> function, the output is a scikit-learn dictionary which contains the components of the dataset."
      ]
    },
    {
      "cell_type": "code",
      "metadata": {
        "id": "fKIi4oFP4rMd",
        "colab": {
          "base_uri": "https://localhost:8080/"
        },
        "outputId": "827048ed-fcac-40ca-952c-07963498f65e"
      },
      "source": [
        "# Accessing dataset \"diabetes\" from module of sklearn.datasets\n",
        "from sklearn.datasets import load_diabetes\n",
        "\n",
        "diabetes = load_diabetes()\n",
        "print(diabetes.keys()) # View the components that the dataset contains"
      ],
      "execution_count": null,
      "outputs": [
        {
          "output_type": "stream",
          "name": "stdout",
          "text": [
            "dict_keys(['data', 'target', 'DESCR', 'feature_names', 'data_filename', 'target_filename'])\n"
          ]
        }
      ]
    },
    {
      "cell_type": "markdown",
      "metadata": {
        "id": "aRHBdsjoZkpr"
      },
      "source": [
        "We can access one of the components like accessing a dictionary"
      ]
    },
    {
      "cell_type": "code",
      "metadata": {
        "id": "_bEsillE9-8e",
        "colab": {
          "base_uri": "https://localhost:8080/"
        },
        "outputId": "01ee2321-afef-42ba-a1db-20a0b00881a8"
      },
      "source": [
        "# Access the DESCR component to view a description of the dataset\n",
        "print(diabetes.DESCR)"
      ],
      "execution_count": null,
      "outputs": [
        {
          "output_type": "stream",
          "name": "stdout",
          "text": [
            ".. _diabetes_dataset:\n",
            "\n",
            "Diabetes dataset\n",
            "----------------\n",
            "\n",
            "Ten baseline variables, age, sex, body mass index, average blood\n",
            "pressure, and six blood serum measurements were obtained for each of n =\n",
            "442 diabetes patients, as well as the response of interest, a\n",
            "quantitative measure of disease progression one year after baseline.\n",
            "\n",
            "**Data Set Characteristics:**\n",
            "\n",
            "  :Number of Instances: 442\n",
            "\n",
            "  :Number of Attributes: First 10 columns are numeric predictive values\n",
            "\n",
            "  :Target: Column 11 is a quantitative measure of disease progression one year after baseline\n",
            "\n",
            "  :Attribute Information:\n",
            "      - Age\n",
            "      - Sex\n",
            "      - Body mass index\n",
            "      - Average blood pressure\n",
            "      - S1\n",
            "      - S2\n",
            "      - S3\n",
            "      - S4\n",
            "      - S5\n",
            "      - S6\n",
            "\n",
            "Note: Each of these 10 feature variables have been mean centered and scaled by the standard deviation times `n_samples` (i.e. the sum of squares of each column totals 1).\n",
            "\n",
            "Source URL:\n",
            "https://www4.stat.ncsu.edu/~boos/var.select/diabetes.html\n",
            "\n",
            "For more information see:\n",
            "Bradley Efron, Trevor Hastie, Iain Johnstone and Robert Tibshirani (2004) \"Least Angle Regression,\" Annals of Statistics (with discussion), 407-499.\n",
            "(https://web.stanford.edu/~hastie/Papers/LARS/LeastAngle_2002.pdf)\n"
          ]
        }
      ]
    },
    {
      "cell_type": "markdown",
      "metadata": {
        "id": "L5ZzofIea5Af"
      },
      "source": [
        "To use this dataset, we can create a dataframe from the components in the dictionary"
      ]
    },
    {
      "cell_type": "code",
      "metadata": {
        "id": "WHVxMPXw-GAF",
        "colab": {
          "base_uri": "https://localhost:8080/",
          "height": 206
        },
        "outputId": "4e998e05-8407-485e-fb91-9f09712ea956"
      },
      "source": [
        "# Create a dataframe from dataset components\n",
        "import pandas as pd\n",
        "\n",
        "df = pd.DataFrame(diabetes.data, columns=diabetes.feature_names)\n",
        "df['target'] = diabetes.target\n",
        "df.head() # look at the first 5 rows"
      ],
      "execution_count": null,
      "outputs": [
        {
          "output_type": "execute_result",
          "data": {
            "text/html": [
              "<div>\n",
              "<style scoped>\n",
              "    .dataframe tbody tr th:only-of-type {\n",
              "        vertical-align: middle;\n",
              "    }\n",
              "\n",
              "    .dataframe tbody tr th {\n",
              "        vertical-align: top;\n",
              "    }\n",
              "\n",
              "    .dataframe thead th {\n",
              "        text-align: right;\n",
              "    }\n",
              "</style>\n",
              "<table border=\"1\" class=\"dataframe\">\n",
              "  <thead>\n",
              "    <tr style=\"text-align: right;\">\n",
              "      <th></th>\n",
              "      <th>age</th>\n",
              "      <th>sex</th>\n",
              "      <th>bmi</th>\n",
              "      <th>bp</th>\n",
              "      <th>s1</th>\n",
              "      <th>s2</th>\n",
              "      <th>s3</th>\n",
              "      <th>s4</th>\n",
              "      <th>s5</th>\n",
              "      <th>s6</th>\n",
              "      <th>target</th>\n",
              "    </tr>\n",
              "  </thead>\n",
              "  <tbody>\n",
              "    <tr>\n",
              "      <th>0</th>\n",
              "      <td>0.038076</td>\n",
              "      <td>0.050680</td>\n",
              "      <td>0.061696</td>\n",
              "      <td>0.021872</td>\n",
              "      <td>-0.044223</td>\n",
              "      <td>-0.034821</td>\n",
              "      <td>-0.043401</td>\n",
              "      <td>-0.002592</td>\n",
              "      <td>0.019908</td>\n",
              "      <td>-0.017646</td>\n",
              "      <td>151.0</td>\n",
              "    </tr>\n",
              "    <tr>\n",
              "      <th>1</th>\n",
              "      <td>-0.001882</td>\n",
              "      <td>-0.044642</td>\n",
              "      <td>-0.051474</td>\n",
              "      <td>-0.026328</td>\n",
              "      <td>-0.008449</td>\n",
              "      <td>-0.019163</td>\n",
              "      <td>0.074412</td>\n",
              "      <td>-0.039493</td>\n",
              "      <td>-0.068330</td>\n",
              "      <td>-0.092204</td>\n",
              "      <td>75.0</td>\n",
              "    </tr>\n",
              "    <tr>\n",
              "      <th>2</th>\n",
              "      <td>0.085299</td>\n",
              "      <td>0.050680</td>\n",
              "      <td>0.044451</td>\n",
              "      <td>-0.005671</td>\n",
              "      <td>-0.045599</td>\n",
              "      <td>-0.034194</td>\n",
              "      <td>-0.032356</td>\n",
              "      <td>-0.002592</td>\n",
              "      <td>0.002864</td>\n",
              "      <td>-0.025930</td>\n",
              "      <td>141.0</td>\n",
              "    </tr>\n",
              "    <tr>\n",
              "      <th>3</th>\n",
              "      <td>-0.089063</td>\n",
              "      <td>-0.044642</td>\n",
              "      <td>-0.011595</td>\n",
              "      <td>-0.036656</td>\n",
              "      <td>0.012191</td>\n",
              "      <td>0.024991</td>\n",
              "      <td>-0.036038</td>\n",
              "      <td>0.034309</td>\n",
              "      <td>0.022692</td>\n",
              "      <td>-0.009362</td>\n",
              "      <td>206.0</td>\n",
              "    </tr>\n",
              "    <tr>\n",
              "      <th>4</th>\n",
              "      <td>0.005383</td>\n",
              "      <td>-0.044642</td>\n",
              "      <td>-0.036385</td>\n",
              "      <td>0.021872</td>\n",
              "      <td>0.003935</td>\n",
              "      <td>0.015596</td>\n",
              "      <td>0.008142</td>\n",
              "      <td>-0.002592</td>\n",
              "      <td>-0.031991</td>\n",
              "      <td>-0.046641</td>\n",
              "      <td>135.0</td>\n",
              "    </tr>\n",
              "  </tbody>\n",
              "</table>\n",
              "</div>"
            ],
            "text/plain": [
              "        age       sex       bmi        bp  ...        s4        s5        s6  target\n",
              "0  0.038076  0.050680  0.061696  0.021872  ... -0.002592  0.019908 -0.017646   151.0\n",
              "1 -0.001882 -0.044642 -0.051474 -0.026328  ... -0.039493 -0.068330 -0.092204    75.0\n",
              "2  0.085299  0.050680  0.044451 -0.005671  ... -0.002592  0.002864 -0.025930   141.0\n",
              "3 -0.089063 -0.044642 -0.011595 -0.036656  ...  0.034309  0.022692 -0.009362   206.0\n",
              "4  0.005383 -0.044642 -0.036385  0.021872  ... -0.002592 -0.031991 -0.046641   135.0\n",
              "\n",
              "[5 rows x 11 columns]"
            ]
          },
          "metadata": {},
          "execution_count": 92
        }
      ]
    },
    {
      "cell_type": "markdown",
      "metadata": {
        "id": "LY_dnkzc6qxY"
      },
      "source": [
        "## Cosine Similarity"
      ]
    },
    {
      "cell_type": "markdown",
      "metadata": {
        "id": "xwCJnCNp6ycd"
      },
      "source": [
        "Salah satu fungsi dari modul <code>metrics</code> adalah untuk menghitung cosine similarity"
      ]
    },
    {
      "cell_type": "code",
      "metadata": {
        "id": "2iaa2sd63dLQ",
        "colab": {
          "base_uri": "https://localhost:8080/"
        },
        "outputId": "3996cbde-0cc6-4e6c-c6a0-b38cd63832ab"
      },
      "source": [
        "# Calculates the cosine similarity of 2 vectors\n",
        "from sklearn.metrics.pairwise import cosine_similarity # import required sklearn functions\n",
        "import numpy as np\n",
        "\n",
        "vec_1 = np.array([[15,31,10,9,28]])\n",
        "vec_2 = np.array([[35,21,6,7,12]])\n",
        "print(cosine_similarity(vec_1, vec_2))"
      ],
      "execution_count": null,
      "outputs": [
        {
          "output_type": "stream",
          "name": "stdout",
          "text": [
            "[[0.80982829]]\n"
          ]
        }
      ]
    },
    {
      "cell_type": "markdown",
      "metadata": {
        "id": "EyvJ0gtgtdtU"
      },
      "source": [
        "## Some Other Scikit-learn Modules"
      ]
    },
    {
      "cell_type": "markdown",
      "metadata": {
        "id": "53J2YZPDs5qK"
      },
      "source": [
        "We will use scikit-learn modules a lot when creating _machine learning_ models. Here are some commonly used modules:\n",
        "\n",
        "| Module Name | Uses |\n",
        "| ----------- | --------- |\n",
        "| sklearn.cluster | apply the clustering algorithm |\n",
        "| sklearn.covariance | estimating feature covariance |\n",
        "| sklearn.datasets | loads popular datasets provided by scikit-learn |\n",
        "| sklearn.decomposition | apply a matrix decomposition algorithm such as PCA |\n",
        "| sklearn.ensemble | apply multiple algorithms for classification and regression |\n",
        "| sklearn.feature_extraction | extract features from raw data |\n",
        "| sklearn.feature_selection | apply feature selection algorithm |\n",
        "| sklearn.linear_model | apply several kinds of linear models |\n",
        "| sklearn.metrics | calculating model performance with various metrics |\n",
        "| sklearn.model_selection | implement cross-validation |\n",
        "| sklearn.naive_bayes | applying the Naive Bayes algorithm for classification |\n",
        "| sklearn.neighbors | applying the KNN algorithm |\n",
        "| sklearn.pipeline | implement multiple model building steps in one pipeline |\n",
        "| sklearn.preprocessing | performs label-encoding, scaling, normalization, and some other preprocessing |\n",
        "| sklearn.svm | applying the Support Vector Machine algo |\n",
        "| sklearn.tree | applying the Decision Tree algorithm |\n",
        "\n",
        "\n",
        "More details can be seen in [scikit-learn module documentation](https://scikit-learn.org/stable/modules/classes.html)."
      ]
    },
    {
      "cell_type": "markdown",
      "metadata": {
        "id": "AXpgTCicbpKu"
      },
      "source": [
        "## Exercise"
      ]
    },
    {
      "cell_type": "code",
      "metadata": {
        "id": "W15Az4d0f_R8"
      },
      "source": [
        "X = [[1, 2], [2, 1]]\n",
        "Y = [[0, 2], [4, 3]]"
      ],
      "execution_count": null,
      "outputs": []
    },
    {
      "cell_type": "markdown",
      "metadata": {
        "id": "kHz_tQGodF8t"
      },
      "source": [
        "1. There are 2 matrices, X and Y, as above. Calculate the Euclidean distance and Manhattan distance in the two matrices using the scikit-learn module!"
      ]
    },
    {
      "cell_type": "code",
      "metadata": {
        "id": "tdEuQ_FXlWJ1",
        "colab": {
          "base_uri": "https://localhost:8080/"
        },
        "outputId": "1c305e92-cda1-4921-e7dd-e6affdd4dd3c"
      },
      "source": [
        "from sklearn.metrics.pairwise import euclidean_distances, manhattan_distances\n",
        "\n",
        "test1 = euclidean_distances(X, Y)\n",
        "test2 = manhattan_distances(X, Y)\n",
        "print('Euclidean Distance:', test1)\n",
        "print('Manhattan Distance:', test2)\n"
      ],
      "execution_count": null,
      "outputs": [
        {
          "output_type": "stream",
          "name": "stdout",
          "text": [
            "Euclidean Distance: [[1.         3.16227766]\n",
            " [2.23606798 2.82842712]]\n",
            "Manhattan Distance: [[1. 4.]\n",
            " [3. 4.]]\n"
          ]
        }
      ]
    }
  ]
}