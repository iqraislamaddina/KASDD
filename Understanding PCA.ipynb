{
  "cells": [
    {
      "cell_type": "markdown",
      "metadata": {},
      "source": [
        "# PCA"
      ]
    },
    {
      "cell_type": "code",
      "execution_count": null,
      "metadata": {
        "id": "EK27FheIFqrt"
      },
      "outputs": [],
      "source": [
        "# Imports\n",
        "import pandas as pd\n",
        "import numpy as np\n",
        "import matplotlib.pyplot as plt\n",
        "from sklearn.preprocessing import LabelEncoder"
      ]
    },
    {
      "cell_type": "code",
      "execution_count": null,
      "metadata": {
        "id": "-uPR2GwayXKM"
      },
      "outputs": [],
      "source": [
        "# Read data\n",
        "df1 = pd.read_csv('https://raw.githubusercontent.com/iqrafarhan/KASDD/main/startup_data.csv')\n",
        "df2 = pd.read_csv('https://raw.githubusercontent.com/iqrafarhan/KASDD/main/cancer_reg.csv')\n"
      ]
    },
    {
      "cell_type": "markdown",
      "metadata": {
        "id": "KK3TGTmt2fCD"
      },
      "source": [
        "### Data Summary"
      ]
    },
    {
      "cell_type": "code",
      "execution_count": null,
      "metadata": {
        "colab": {
          "base_uri": "https://localhost:8080/"
        },
        "id": "atn_d64G2kW4",
        "outputId": "f561a1f6-6d5c-4d44-9555-11199863c035"
      },
      "outputs": [
        {
          "name": "stdout",
          "output_type": "stream",
          "text": [
            "Dimensi dari dataset Startup Data adalah:  (949, 18)\n"
          ]
        }
      ],
      "source": [
        "# Data dimensions of the Startup Data dataset\n",
        "print(\"The dimensions of the Startup Data dataset are: \", df1.shape)"
      ]
    },
    {
      "cell_type": "code",
      "execution_count": null,
      "metadata": {
        "colab": {
          "base_uri": "https://localhost:8080/",
          "height": 300
        },
        "id": "yhi8RCHL-4J_",
        "outputId": "f5b25ef0-2130-4bc5-d750-d31764e4b53e"
      },
      "outputs": [
        {
          "data": {
            "text/html": [
              "<div>\n",
              "<style scoped>\n",
              "    .dataframe tbody tr th:only-of-type {\n",
              "        vertical-align: middle;\n",
              "    }\n",
              "\n",
              "    .dataframe tbody tr th {\n",
              "        vertical-align: top;\n",
              "    }\n",
              "\n",
              "    .dataframe thead th {\n",
              "        text-align: right;\n",
              "    }\n",
              "</style>\n",
              "<table border=\"1\" class=\"dataframe\">\n",
              "  <thead>\n",
              "    <tr style=\"text-align: right;\">\n",
              "      <th></th>\n",
              "      <th>latitude</th>\n",
              "      <th>longitude</th>\n",
              "      <th>age_first_funding_year</th>\n",
              "      <th>age_last_funding_year</th>\n",
              "      <th>funding_rounds</th>\n",
              "      <th>funding_total_usd</th>\n",
              "      <th>avg_participants</th>\n",
              "    </tr>\n",
              "  </thead>\n",
              "  <tbody>\n",
              "    <tr>\n",
              "      <th>count</th>\n",
              "      <td>949.000000</td>\n",
              "      <td>949.000000</td>\n",
              "      <td>885.000000</td>\n",
              "      <td>894.000000</td>\n",
              "      <td>946.000000</td>\n",
              "      <td>9.490000e+02</td>\n",
              "      <td>901.000000</td>\n",
              "    </tr>\n",
              "    <tr>\n",
              "      <th>mean</th>\n",
              "      <td>38.530398</td>\n",
              "      <td>-103.465916</td>\n",
              "      <td>2.322209</td>\n",
              "      <td>3.987377</td>\n",
              "      <td>2.313953</td>\n",
              "      <td>1.544590e+09</td>\n",
              "      <td>2.857545</td>\n",
              "    </tr>\n",
              "    <tr>\n",
              "      <th>std</th>\n",
              "      <td>3.756150</td>\n",
              "      <td>22.382011</td>\n",
              "      <td>2.941926</td>\n",
              "      <td>3.313172</td>\n",
              "      <td>1.402098</td>\n",
              "      <td>2.446676e+10</td>\n",
              "      <td>1.875341</td>\n",
              "    </tr>\n",
              "    <tr>\n",
              "      <th>min</th>\n",
              "      <td>25.752358</td>\n",
              "      <td>-122.756956</td>\n",
              "      <td>-9.046600</td>\n",
              "      <td>-9.046600</td>\n",
              "      <td>1.000000</td>\n",
              "      <td>-9.500000e+06</td>\n",
              "      <td>1.000000</td>\n",
              "    </tr>\n",
              "    <tr>\n",
              "      <th>25%</th>\n",
              "      <td>37.388869</td>\n",
              "      <td>-122.200914</td>\n",
              "      <td>0.517800</td>\n",
              "      <td>1.690375</td>\n",
              "      <td>1.000000</td>\n",
              "      <td>2.700000e+06</td>\n",
              "      <td>1.500000</td>\n",
              "    </tr>\n",
              "    <tr>\n",
              "      <th>50%</th>\n",
              "      <td>37.779281</td>\n",
              "      <td>-118.354605</td>\n",
              "      <td>1.424700</td>\n",
              "      <td>3.494500</td>\n",
              "      <td>2.000000</td>\n",
              "      <td>1.000000e+07</td>\n",
              "      <td>2.500000</td>\n",
              "    </tr>\n",
              "    <tr>\n",
              "      <th>75%</th>\n",
              "      <td>40.730646</td>\n",
              "      <td>-77.212493</td>\n",
              "      <td>3.602700</td>\n",
              "      <td>5.543150</td>\n",
              "      <td>3.000000</td>\n",
              "      <td>2.490000e+07</td>\n",
              "      <td>4.000000</td>\n",
              "    </tr>\n",
              "    <tr>\n",
              "      <th>max</th>\n",
              "      <td>59.335232</td>\n",
              "      <td>18.057121</td>\n",
              "      <td>34.490400</td>\n",
              "      <td>34.490400</td>\n",
              "      <td>10.000000</td>\n",
              "      <td>6.423100e+11</td>\n",
              "      <td>16.000000</td>\n",
              "    </tr>\n",
              "  </tbody>\n",
              "</table>\n",
              "</div>"
            ],
            "text/plain": [
              "         latitude   longitude  ...  funding_total_usd  avg_participants\n",
              "count  949.000000  949.000000  ...       9.490000e+02        901.000000\n",
              "mean    38.530398 -103.465916  ...       1.544590e+09          2.857545\n",
              "std      3.756150   22.382011  ...       2.446676e+10          1.875341\n",
              "min     25.752358 -122.756956  ...      -9.500000e+06          1.000000\n",
              "25%     37.388869 -122.200914  ...       2.700000e+06          1.500000\n",
              "50%     37.779281 -118.354605  ...       1.000000e+07          2.500000\n",
              "75%     40.730646  -77.212493  ...       2.490000e+07          4.000000\n",
              "max     59.335232   18.057121  ...       6.423100e+11         16.000000\n",
              "\n",
              "[8 rows x 7 columns]"
            ]
          },
          "execution_count": 77,
          "metadata": {},
          "output_type": "execute_result"
        }
      ],
      "source": [
        "# Deskripsi setiap atribut dari dataset Startup Data\n",
        "df1.describe()"
      ]
    },
    {
      "cell_type": "code",
      "execution_count": null,
      "metadata": {
        "colab": {
          "base_uri": "https://localhost:8080/"
        },
        "id": "3VwnaA03_VTZ",
        "outputId": "1302a013-1d0d-49b9-e973-88e8895c7299"
      },
      "outputs": [
        {
          "name": "stdout",
          "output_type": "stream",
          "text": [
            "<class 'pandas.core.frame.DataFrame'>\n",
            "RangeIndex: 949 entries, 0 to 948\n",
            "Data columns (total 18 columns):\n",
            " #   Column                  Non-Null Count  Dtype  \n",
            "---  ------                  --------------  -----  \n",
            " 0   state_code              949 non-null    object \n",
            " 1   latitude                949 non-null    float64\n",
            " 2   longitude               949 non-null    float64\n",
            " 3   founded_at              949 non-null    object \n",
            " 4   age_first_funding_year  885 non-null    float64\n",
            " 5   age_last_funding_year   894 non-null    float64\n",
            " 6   funding_rounds          946 non-null    float64\n",
            " 7   funding_total_usd       949 non-null    int64  \n",
            " 8   category_code           897 non-null    object \n",
            " 9   has_VC                  949 non-null    object \n",
            " 10  has_angel               949 non-null    object \n",
            " 11  has_seriesA             949 non-null    object \n",
            " 12  has_seriesB             949 non-null    object \n",
            " 13  has_seriesC             949 non-null    object \n",
            " 14  has_seriesD             949 non-null    object \n",
            " 15  avg_participants        901 non-null    float64\n",
            " 16  is_top500               949 non-null    object \n",
            " 17  status                  949 non-null    object \n",
            "dtypes: float64(6), int64(1), object(11)\n",
            "memory usage: 133.6+ KB\n",
            "Dapat dilihat pada dtypes dibawah, dengan asumsi float dan int adalah numerik, dan object adalah kategorik.\n",
            "Numerik: 7 kolom\n",
            "Kategroik: 11 kolom\n"
          ]
        }
      ],
      "source": [
        "# Number of attributes (numerical and categorical) of the Startup Data dataset\n",
        "df1.info()\n",
        "print(\"Can be seen in dtypes below, assuming float and int are numeric, and object is categorical.\")\n",
        "print(\"Numeric: 7 columns\")\n",
        "print(\"Categroic: 11 columns\")"
      ]
    },
    {
      "cell_type": "code",
      "execution_count": null,
      "metadata": {
        "colab": {
          "base_uri": "https://localhost:8080/"
        },
        "id": "B1W0i0FZCcvP",
        "outputId": "5ef79ac3-85b2-4f0e-dc9c-02d4e205c655"
      },
      "outputs": [
        {
          "data": {
            "text/plain": [
              "state_code                 0\n",
              "latitude                   0\n",
              "longitude                  0\n",
              "founded_at                 0\n",
              "age_first_funding_year    64\n",
              "age_last_funding_year     55\n",
              "funding_rounds             3\n",
              "funding_total_usd          0\n",
              "category_code             52\n",
              "has_VC                     0\n",
              "has_angel                  0\n",
              "has_seriesA                0\n",
              "has_seriesB                0\n",
              "has_seriesC                0\n",
              "has_seriesD                0\n",
              "avg_participants          48\n",
              "is_top500                  0\n",
              "status                     0\n",
              "dtype: int64"
            ]
          },
          "execution_count": 79,
          "metadata": {},
          "output_type": "execute_result"
        }
      ],
      "source": [
        "# Total of missing values\n",
        "df1.isna().sum()"
      ]
    },
    {
      "cell_type": "code",
      "execution_count": null,
      "metadata": {
        "colab": {
          "base_uri": "https://localhost:8080/"
        },
        "id": "2PXOrrilC7st",
        "outputId": "bf5973e7-a56b-4d9f-9362-26e95a9e4c00"
      },
      "outputs": [
        {
          "name": "stdout",
          "output_type": "stream",
          "text": [
            "Jumlah duplikasi data pada dataset Startup Data adalah:  26\n"
          ]
        }
      ],
      "source": [
        "# Number of data duplications\n",
        "print(\"The number of duplicate data in the Startup Data dataset is: \", df1.duplicated().sum())"
      ]
    },
    {
      "cell_type": "code",
      "execution_count": null,
      "metadata": {
        "colab": {
          "base_uri": "https://localhost:8080/",
          "height": 393
        },
        "id": "Mnu2xNJbLvdk",
        "outputId": "98b96057-adc3-4170-a76d-7afd65f566eb"
      },
      "outputs": [
        {
          "name": "stdout",
          "output_type": "stream",
          "text": [
            "Terlihat pada grafik boxplot dibawah ini bahwa terdapat outlier pada seluruh kolom dengan tipe numerik.\n"
          ]
        },
        {
          "name": "stderr",
          "output_type": "stream",
          "text": [
            "/usr/local/lib/python3.7/dist-packages/numpy/core/_asarray.py:83: VisibleDeprecationWarning: Creating an ndarray from ragged nested sequences (which is a list-or-tuple of lists-or-tuples-or ndarrays with different lengths or shapes) is deprecated. If you meant to do this, you must specify 'dtype=object' when creating the ndarray\n",
            "  return array(a, dtype, copy=False, order=order)\n"
          ]
        },
        {
          "data": {
            "image/png": "[encoded data removed]",
            "text/plain": [
              "<Figure size 1080x360 with 1 Axes>"
            ]
          },
          "metadata": {
            "needs_background": "light"
          },
          "output_type": "display_data"
        }
      ],
      "source": [
        "# The possibility of outliers in the numerical dataset\n",
        "df1.boxplot(column=['latitude','longitude','age_first_funding_year','age_last_funding_year','funding_rounds','avg_participants'], figsize=(15,5))\n",
        "print(\"It can be seen in the boxplot graph below that there are outliers in all columns with numeric type.\")"
      ]
    },
    {
      "cell_type": "code",
      "execution_count": null,
      "metadata": {
        "colab": {
          "base_uri": "https://localhost:8080/",
          "height": 349
        },
        "id": "s_ywU2e19SN0",
        "outputId": "684e1374-86a8-4704-a5ff-990786fe133d"
      },
      "outputs": [
        {
          "name": "stdout",
          "output_type": "stream",
          "text": [
            "Terlihat pada grafik boxplot dibawah ini bahwa terdapat outlier pada seluruh kolom dengan tipe numerik.\n"
          ]
        },
        {
          "data": {
            "image/png": "[encoded data removed]",
            "text/plain": [
              "<Figure size 360x360 with 1 Axes>"
            ]
          },
          "metadata": {
            "needs_background": "light"
          },
          "output_type": "display_data"
        }
      ],
      "source": [
        "# The possibility of outliers in the numerical dataset\n",
        "df1.boxplot(column=['funding_total_usd'], figsize=(5,5))\n",
        "print(\"It can be seen in the boxplot graph below that there are outliers in all columns with numeric type.\")"
      ]
    },
    {
      "cell_type": "code",
      "execution_count": null,
      "metadata": {
        "colab": {
          "base_uri": "https://localhost:8080/",
          "height": 411
        },
        "id": "P_5cCJvWHxRj",
        "outputId": "36b01db4-9412-4c95-8cba-5f2e2061a78d"
      },
      "outputs": [
        {
          "name": "stdout",
          "output_type": "stream",
          "text": [
            "Insight yang saya dapatkan dari heatmap dibawah ini adalah hasil korelasi antara age_first_funding_year dan age_last_funding_year memiliki hasil positif, hal ini dikarenakan nilai korelasinya 0.82, mendekati 1.\n"
          ]
        },
        {
          "data": {
            "image/png": "[encoded data removed]",
            "text/plain": [
              "<Figure size 432x288 with 2 Axes>"
            ]
          },
          "metadata": {
            "needs_background": "light"
          },
          "output_type": "display_data"
        }
      ],
      "source": [
        "# Correlation value between attributes in numerical data in the dataset\n",
        "import seaborn as sns\n",
        "\n",
        "sns.heatmap(df1.corr(method = 'pearson'), annot=True)"
      ]
    },
    {
      "cell_type": "markdown",
      "metadata": {},
      "source": [
        "\n",
        "The insight I got from the heatmap below is that the correlation between age_first_funding_year and age_last_funding_year has positive results, this is because the correlation value is 0.82, close to 1"
      ]
    },
    {
      "cell_type": "markdown",
      "metadata": {
        "id": "bymbNconcmYP"
      },
      "source": [
        "### Handle missing values, duplicate data, and outliers"
      ]
    },
    {
      "cell_type": "code",
      "execution_count": null,
      "metadata": {
        "id": "eU6TJ7n8IvhX"
      },
      "outputs": [],
      "source": [
        "# Handling missing values\n",
        "cleaned = df1.copy()\n",
        "cleaned['age_first_funding_year'] = cleaned['age_first_funding_year'].fillna(cleaned['age_first_funding_year'].median())\n",
        "cleaned['age_last_funding_year'] = cleaned['age_last_funding_year'].fillna(cleaned['age_last_funding_year'].median())\n",
        "cleaned['avg_participants'] = cleaned['avg_participants'].fillna(cleaned['avg_participants'].median())\n",
        "cleaned['funding_rounds'] = cleaned['funding_rounds'].fillna(cleaned['funding_rounds'].median())\n",
        "cleaned['category_code'] = cleaned['category_code'].fillna(cleaned['category_code'].mode()[0])"
      ]
    },
    {
      "cell_type": "code",
      "execution_count": null,
      "metadata": {
        "colab": {
          "base_uri": "https://localhost:8080/"
        },
        "id": "H0-OKcyNKIzY",
        "outputId": "71941420-af54-448b-b8cb-e2729c96dec6"
      },
      "outputs": [
        {
          "data": {
            "text/plain": [
              "(923, 18)"
            ]
          },
          "execution_count": 85,
          "metadata": {},
          "output_type": "execute_result"
        }
      ],
      "source": [
        "# Handling data duplication\n",
        "\n",
        "cleaned.drop_duplicates(inplace=True)\n",
        "cleaned.duplicated().sum()\n",
        "cleaned. shape"
      ]
    },
    {
      "cell_type": "code",
      "execution_count": null,
      "metadata": {
        "id": "e3K5RTJk-z4n"
      },
      "outputs": [],
      "source": [
        "def outlier_handling(column):\n",
        "   globalcleaned\n",
        "   clean_column = cleaned[cleaned[column].notna()]\n",
        "   Q1 = net_column[column].quantile(0.25)\n",
        "   Q3 = net_column[column].quantile(0.75)\n",
        "   IQR = Q3 - Q1\n",
        "   upperbound = Q3 + 1.5 * IQR\n",
        "   lowerbound = Q1 - 1.5 * IQR\n",
        "\n",
        "   outlier = net_column[(net_column[column] > upperbound) | (net_column[column] < lowerbound)]\n",
        "   counted = outliers[column].count()\n",
        "   print(\"The number of outliers in \" + column + \" is \", counted)\n",
        "\n",
        "   # Discard rows that are outliers\n",
        "   cleaned = cleaned.drop(cleaned[(cleaned[column] > upperbound) | (cleaned[column] < lowerbound)].index)"
      ]
    },
    {
      "cell_type": "code",
      "execution_count": null,
      "metadata": {
        "colab": {
          "base_uri": "https://localhost:8080/"
        },
        "id": "-GHReOYYA1gR",
        "outputId": "4e254796-a9b8-442b-f5bc-1b1b67908e9a"
      },
      "outputs": [
        {
          "name": "stdout",
          "output_type": "stream",
          "text": [
            "Jumlah outlier pada funding_total_usd adalah  69\n",
            "Jumlah outlier pada latitude adalah  75\n",
            "Jumlah outlier pada longitude adalah  0\n",
            "Jumlah outlier pada age_first_funding_year adalah  26\n",
            "Jumlah outlier pada age_last_funding_year adalah  10\n",
            "Jumlah outlier pada funding_rounds adalah  7\n",
            "Jumlah outlier pada avg_participants adalah  33\n",
            "(703, 18)\n"
          ]
        }
      ],
      "source": [
        "data_funding_total_usd = penanganan_outlier('funding_total_usd')\n",
        "data_latitude = penanganan_outlier('latitude')\n",
        "data_longitude = penanganan_outlier('longitude')\n",
        "data_age_first_funding_year = penanganan_outlier('age_first_funding_year')\n",
        "data_age_last_funding_year = penanganan_outlier('age_last_funding_year')\n",
        "data_funding_rounds = penanganan_outlier('funding_rounds')\n",
        "data_avg_participants = penanganan_outlier('avg_participants')\n",
        "\n",
        "print(cleaned.shape)"
      ]
    },
    {
      "cell_type": "markdown",
      "metadata": {
        "id": "oXvxKvlTrWsc"
      },
      "source": [
        "I feel the need to normalize the data before PCA processing so that the attribute values have a range between 0 and 1. The form of normalization that I do is MinMax Normalization"
      ]
    },
    {
      "cell_type": "code",
      "execution_count": null,
      "metadata": {
        "colab": {
          "base_uri": "https://localhost:8080/"
        },
        "id": "V82TDj_7MIcL",
        "outputId": "5e953813-a5d4-4294-f739-eb1c6a6182b9"
      },
      "outputs": [
        {
          "data": {
            "text/plain": [
              "array([[ 1.44339881,  1.48773125,  0.17746569, ...,  0.73937351,\n",
              "        -0.93984759, -1.1457263 ],\n",
              "       [-2.12384907, -0.63272845, -0.46879772, ..., -1.01072608,\n",
              "        -1.16225888,  1.12252986],\n",
              "       [-0.45701913, -0.85597979,  0.64617136, ...,  0.73937351,\n",
              "         2.02252134,  0.61844773],\n",
              "       ...,\n",
              "       [ 1.49844245,  1.48135225,  2.83541256, ...,  0.73937351,\n",
              "         2.91964253,  0.11444121],\n",
              "       [-0.36784653, -0.8669341 , -0.61437169, ..., -0.13567628,\n",
              "         0.19089891, -1.1457263 ],\n",
              "       [-0.43194875, -0.85212994,  0.64032715, ..., -1.01072608,\n",
              "         0.52731936,  0.36644447]])"
            ]
          },
          "execution_count": 88,
          "metadata": {},
          "output_type": "execute_result"
        }
      ],
      "source": [
        "from sklearn.preprocessing import StandardScaler\n",
        "\n",
        "# Perform split based on feature column and target column.\n",
        "label = cleaned.drop(['status'], axis = 1)\n",
        "X = label.select_dtypes(include = np.number)\n",
        "\n",
        "# Min-max normalization\n",
        "Minmax1 = StandardScaler().fit_transform(X)\n",
        "Minmax1"
      ]
    },
    {
      "cell_type": "markdown",
      "metadata": {
        "id": "fK9uZi2_rhPr"
      },
      "source": [
        "### Visualize the dataset using t-SNE"
      ]
    },
    {
      "cell_type": "code",
      "execution_count": null,
      "metadata": {
        "colab": {
          "base_uri": "https://localhost:8080/"
        },
        "id": "QRBUohQbrnI6",
        "outputId": "d452e5c4-2abf-49ed-e5f8-405ec1ddaaf2"
      },
      "outputs": [
        {
          "name": "stdout",
          "output_type": "stream",
          "text": [
            "[t-SNE] Computing 91 nearest neighbors...\n",
            "[t-SNE] Indexed 3047 samples in 0.007s...\n",
            "[t-SNE] Computed neighbors for 3047 samples in 0.329s...\n",
            "[t-SNE] Computed conditional probabilities for sample 1000 / 3047\n",
            "[t-SNE] Computed conditional probabilities for sample 2000 / 3047\n",
            "[t-SNE] Computed conditional probabilities for sample 3000 / 3047\n",
            "[t-SNE] Computed conditional probabilities for sample 3047 / 3047\n",
            "[t-SNE] Mean sigma: 0.624249\n",
            "[t-SNE] KL divergence after 250 iterations with early exaggeration: 77.670059\n",
            "[t-SNE] KL divergence after 1000 iterations: 1.490925\n"
          ]
        }
      ],
      "source": [
        "from sklearn.preprocessing import StandardScaler\n",
        "from sklearn.manifold import TSNE\n",
        "\n",
        "x = df2.loc[:, df2.columns != 'TARGET_deathRate']\n",
        "y = df2.TARGET_deathRate\n",
        "\n",
        "# Min-max normalization\n",
        "score = StandardScaler().fit_transform(x1)\n",
        "\n",
        "tsne = TSNE(n_components = 2, verbose = 1, random_state = 123)\n",
        "hasil = tsne.fit_transform(score)"
      ]
    },
    {
      "cell_type": "code",
      "execution_count": null,
      "metadata": {
        "colab": {
          "base_uri": "https://localhost:8080/",
          "height": 313
        },
        "id": "GyZqf4b2ZWHY",
        "outputId": "ab575006-b349-4488-bb31-33ec51e96334"
      },
      "outputs": [
        {
          "data": {
            "text/plain": [
              "[Text(0.5, 1.0, 'Cancer t-SNE projection')]"
            ]
          },
          "execution_count": 90,
          "metadata": {},
          "output_type": "execute_result"
        },
        {
          "data": {
            "image/png": "[encoded data removed]",
            "text/plain": [
              "<Figure size 432x288 with 1 Axes>"
            ]
          },
          "metadata": {
            "needs_background": "light"
          },
          "output_type": "display_data"
        }
      ],
      "source": [
        "cancer = pd.DataFrame()\n",
        "cancer['y'] = y\n",
        "cancer['component-1'] = hasil[:,0]\n",
        "cancer['component-2'] = hasil[:,1]\n",
        "\n",
        "sns.scatterplot(x = \"component-1\", y = \"component-2\", hue=cancer.y.tolist(), data=cancer).set(title=\"Cancer t-SNE projection\")"
      ]
    },
    {
      "cell_type": "markdown",
      "metadata": {
        "id": "wobG8229s2Xa"
      },
      "source": [
        "### Manually implement step-by-step PCA on preprocessed data"
      ]
    },
    {
      "cell_type": "code",
      "execution_count": null,
      "metadata": {
        "id": "9zeZ-XGWUKWx"
      },
      "outputs": [],
      "source": [
        "# Cleaning Cancer data\n",
        "\n",
        "df2.dropna(how = \"all\", inplace = True)\n",
        "standard = StandardScaler().fit_transform(x)"
      ]
    },
    {
      "cell_type": "markdown",
      "metadata": {
        "id": "n_D27IBxUUJc"
      },
      "source": [
        "PCA involves computing the covariance matrix of the original data, finding the eigenvalues and eigenvectors of this covariance matrix, and then using these eigenvectors (principal components) to transform the original data into a new feature space with reduced dimensionality. The eigenvalues help determine the importance of each principal component and guide the selection of components to retain for dimensionality reduction."
      ]
    },
    {
      "cell_type": "code",
      "execution_count": null,
      "metadata": {
        "colab": {
          "base_uri": "https://localhost:8080/"
        },
        "id": "sRkOt3mws8ur",
        "outputId": "73cc1871-660d-4a7e-d7c5-9feb1ccd0adb"
      },
      "outputs": [
        {
          "name": "stdout",
          "output_type": "stream",
          "text": [
            "Covariance:  [[ 1.0003283   0.93971619  0.07357732  0.26923304  0.92719784 -0.13573846\n",
            "   0.08209832 -0.02410542 -0.12500964 -0.12288443  0.06480906 -0.10614255\n",
            "  -0.03451896]\n",
            " [ 0.93971619  1.0003283   0.06271044  0.22328004  0.97795501 -0.06693991\n",
            "   0.06350917 -0.0246068  -0.14853595 -0.14411651  0.08618976 -0.18108854\n",
            "  -0.07444445]\n",
            " [ 0.07357732  0.06271044  1.0003283  -0.00103653  0.02692119  0.00904922\n",
            "   0.077308    0.01809511 -0.01473807 -0.00910855 -0.11843884 -0.11956372\n",
            "  -0.11822009]\n",
            " [ 0.26923304  0.22328004 -0.00103653  1.0003283   0.23560018 -0.78922426\n",
            "   0.04401721 -0.01329211 -0.09169273 -0.15332872  0.1121021   0.35523945\n",
            "  -0.0101979 ]\n",
            " [ 0.92719784  0.97795501  0.02692119  0.23560018  1.0003283  -0.06532059\n",
            "   0.05573981 -0.02522727 -0.17666562 -0.17799074  0.10997654 -0.16051596\n",
            "  -0.05775913]\n",
            " [-0.13573846 -0.06693991  0.00904922 -0.78922426 -0.06532059  1.0003283\n",
            "  -0.05567062 -0.02928961 -0.21407131 -0.14821218  0.074332   -0.64306792\n",
            "  -0.01228654]\n",
            " [ 0.08209832  0.06350917  0.077308    0.04401721  0.05573981 -0.05567062\n",
            "   1.0003283  -0.02603835 -0.03665932 -0.03058708 -0.00407222 -0.03815578\n",
            "   0.0106797 ]\n",
            " [-0.02410542 -0.0246068   0.01809511 -0.01329211 -0.02522727 -0.02928961\n",
            "  -0.02603835  1.0003283   0.12916187  0.1247193  -0.03195464  0.04638673\n",
            "  -0.00827895]\n",
            " [-0.12500964 -0.14853595 -0.01473807 -0.09169273 -0.17666562 -0.21407131\n",
            "  -0.03665932  0.12916187  1.0003283   0.93400264 -0.34330133  0.4501339\n",
            "  -0.10413934]\n",
            " [-0.12288443 -0.14411651 -0.00910855 -0.15332872 -0.17799074 -0.14821218\n",
            "  -0.03058708  0.1247193   0.93400264  1.0003283  -0.36770583  0.37533116\n",
            "  -0.09884505]\n",
            " [ 0.06480906  0.08618976 -0.11843884  0.1121021   0.10997654  0.074332\n",
            "  -0.00407222 -0.03195464 -0.34330133 -0.36770583  1.0003283  -0.1005447\n",
            "   0.07594252]\n",
            " [-0.10614255 -0.18108854 -0.11956372  0.35523945 -0.16051596 -0.64306792\n",
            "  -0.03815578  0.04638673  0.4501339   0.37533116 -0.1005447   1.0003283\n",
            "   0.14145035]\n",
            " [-0.03451896 -0.07444445 -0.11822009 -0.0101979  -0.05775913 -0.01228654\n",
            "   0.0106797  -0.00827895 -0.10413934 -0.09884505  0.07594252  0.14145035\n",
            "   1.0003283 ]]\n",
            "Eigen Values:  [3.26192282 2.55513657 1.79572814 0.01942892 0.076394   0.06129216\n",
            " 0.12465289 0.36915056 1.15591566 0.72669086 0.87776926 1.0034783\n",
            " 0.97670777]\n",
            "Eigen Vectors:  [[-4.84153957e-01 -1.99030506e-01 -1.94266502e-01  9.17415177e-02\n",
            "   7.96162881e-01  1.46153199e-01  8.37789383e-02 -6.21965107e-02\n",
            "  -8.87748893e-02 -1.59221598e-02  5.26222151e-02  5.18776410e-02\n",
            "   1.03698021e-02]\n",
            " [-4.98335836e-01 -1.59992698e-01 -2.27381633e-01 -7.45124392e-01\n",
            "  -3.18392459e-01 -7.05985958e-02  1.85219841e-02 -3.54278581e-02\n",
            "  -1.00965702e-01 -1.56353177e-02  1.87455886e-02  1.91353007e-02\n",
            "  -6.22537615e-03]\n",
            " [-4.22909081e-02  7.88841446e-03 -1.56538315e-01  1.73817174e-02\n",
            "  -2.90132402e-02 -9.46151459e-03 -2.20389743e-02 -6.06404634e-02\n",
            "   6.80723665e-01 -4.64033576e-01  5.14696294e-01 -7.38414033e-02\n",
            "   1.38462694e-01]\n",
            " [-1.77064142e-01 -3.70050828e-01  4.43913037e-01 -2.44147080e-02\n",
            "   4.95691154e-02 -3.18142615e-02 -5.90803477e-01  4.61173099e-01\n",
            "   1.92086305e-01  9.73159356e-02 -2.04276817e-02 -1.45164091e-01\n",
            "  -3.16187943e-02]\n",
            " [-5.01947908e-01 -1.53307621e-01 -1.97433981e-01  6.56306422e-01\n",
            "  -4.68799086e-01 -7.14802098e-02 -7.65727764e-02 -8.38504579e-02\n",
            "  -1.29022513e-01 -3.82066032e-03  9.13409661e-03  1.64710832e-02\n",
            "  -5.86061490e-03]\n",
            " [ 1.71956639e-02  5.03950858e-01 -3.65255086e-01 -4.02452706e-02\n",
            "   1.02154558e-01 -1.22502858e-02 -7.44641826e-01 -1.04879949e-01\n",
            "  -1.58097243e-01 -7.77877155e-02 -1.26471259e-02  5.56714212e-02\n",
            "   1.80300435e-02]\n",
            " [-6.11434690e-02 -2.23251567e-02  8.29852272e-03 -2.22246991e-04\n",
            "  -1.43479582e-02 -3.27769741e-04 -3.47284931e-02 -4.09337872e-02\n",
            "   3.86973375e-01  4.31597063e-02 -4.79759393e-01  6.93294065e-01\n",
            "   3.60790305e-01]\n",
            " [ 5.55764623e-02 -7.58201752e-02 -1.01312688e-01 -2.92840654e-03\n",
            "   5.51496597e-03 -3.00343033e-03 -5.21665234e-03 -3.55677036e-02\n",
            "  -8.47313846e-02  1.60540341e-01 -6.82421190e-02 -4.54707957e-01\n",
            "   8.57431682e-01]\n",
            " [ 2.87352815e-01 -3.89367629e-01 -3.57698945e-01 -2.72590793e-03\n",
            "  -1.28443977e-01  7.01978401e-01 -8.51614491e-02  2.04295614e-01\n",
            "  -1.17313781e-01 -2.31618918e-01 -9.06373128e-02  5.54180891e-02\n",
            "  -3.01398223e-02]\n",
            " [ 2.87030565e-01 -3.55111158e-01 -4.02405134e-01  3.15006027e-02\n",
            "   1.13559839e-01 -6.84824121e-01  4.29568342e-03  2.73711573e-01\n",
            "  -1.20725255e-01 -2.10261032e-01 -7.96937426e-02  7.67045107e-02\n",
            "  -2.74223487e-02]\n",
            " [-1.61728931e-01  1.71269201e-01  3.21101926e-01  1.35238770e-04\n",
            "   1.39827673e-02 -1.19684824e-02  7.49224007e-02  6.47778747e-02\n",
            "  -2.20035177e-01 -7.87183954e-01 -3.69448226e-01 -1.35816822e-01\n",
            "   9.07942160e-02]\n",
            " [ 1.83180452e-01 -4.53905304e-01  2.37779469e-01 -4.57563845e-02\n",
            "   1.80599094e-02 -7.24972674e-02 -2.61905310e-01 -7.67087771e-01\n",
            "  -1.25416240e-01 -1.28568407e-01  5.52134181e-02  6.15726409e-02\n",
            "  -9.12912653e-03]\n",
            " [ 1.92856817e-02  3.15958370e-02  2.38215364e-01 -3.88880432e-03\n",
            "  -3.30493255e-02  1.13112396e-02  6.06277081e-03  2.19710457e-01\n",
            "  -4.36568344e-01 -8.34119072e-02  5.85127139e-01  4.98436202e-01\n",
            "   3.22453963e-01]]\n"
          ]
        }
      ],
      "source": [
        "# Eigen values dan Eigen vectors dari Covariance Matrix\n",
        "\n",
        "vector_mean = np.mean(standard, axis=0)\n",
        "covariance_matrix = np.cov(standard.T)\n",
        "eigenval, eigenvecs = np.linalg.eig(covariance_matrix)\n",
        "\n",
        "print(\"Covariance: \", covariance_matrix)\n",
        "print(\"Eigen Values: \", eigenval)\n",
        "print(\"Eigen Vectors: \", eigenvecs)"
      ]
    },
    {
      "cell_type": "markdown",
      "metadata": {
        "id": "QzvFMCLxUY7b"
      },
      "source": [
        "Sort the eigen values from largest to smallest in order to store the eigenvector that corresponds to the eigenvalue"
      ]
    },
    {
      "cell_type": "code",
      "execution_count": null,
      "metadata": {
        "id": "MJLlTCOfUJM0"
      },
      "outputs": [],
      "source": [
        "# Create a list of (eigenvalue, eigenvector) tuples\n",
        "pairs = [(np. abs(eigenval[i]), eigenvecs[:,i]) for i in range(len(eigenval))]\n",
        "\n",
        "pairs.sort()\n",
        "pairs.reverse()\n",
        "\n",
        "# pairs[0] will store eigen_values from largest to smallest in order"
      ]
    },
    {
      "cell_type": "markdown",
      "metadata": {
        "id": "NfyIoBSWsTRC"
      },
      "source": [
        "#### Get the number of main components "
      ]
    },
    {
      "cell_type": "markdown",
      "metadata": {},
      "source": [
        "The array of cumulative percentage information is essential for making informed decisions about the number of principal components to retain in PCA, understanding the trade-offs involved in dimensionality reduction, and interpreting and visualizing the results of the analysis."
      ]
    },
    {
      "cell_type": "code",
      "execution_count": null,
      "metadata": {
        "colab": {
          "base_uri": "https://localhost:8080/",
          "height": 540
        },
        "id": "AqGVK0ACpnlv",
        "outputId": "dc670971-638b-47a5-bf59-3c05fc69bc25"
      },
      "outputs": [
        {
          "name": "stdout",
          "output_type": "stream",
          "text": [
            "Array dari kumulatif persentase informasi: \n",
            "1 0.25083479130086306\n",
            "2 0.44731925216817303\n",
            "3 0.5854068517923707\n",
            "4 0.6742942592790853\n",
            "5 0.751459564333744\n",
            "6 0.8265662736951851\n",
            "7 0.8940648261720398\n",
            "8 0.9499457772595652\n",
            "9 0.9783326545481613\n",
            "10 0.9879181913182613\n",
            "11 0.9937927242856576\n",
            "12 0.9985059581298029\n",
            "13 0.9999999999999999\n"
          ]
        },
        {
          "data": {
            "image/png": "[encoded data removed]",
            "text/plain": [
              "<Figure size 432x288 with 1 Axes>"
            ]
          },
          "metadata": {
            "needs_background": "light"
          },
          "output_type": "display_data"
        }
      ],
      "source": [
        "tot = sum(np.abs(eigenval))\n",
        "var_exp = [(i / tot) for i in sorted(np.abs(eigenval), reverse=True)]\n",
        "cum_var_exp = np.cumsum(var_exp)\n",
        "\n",
        "print(\"Array of cumulative percentage information: \")\n",
        "for i in range(1, len(cum_var_exp) + 1):\n",
        "    print(i, cum_var_exp[i - 1])\n",
        "\n",
        "plt.bar(range(1, eigenval.size + 1), var_exp, alpha=0.5, align='center', label='Individual')\n",
        "plt.step(range(1, eigenval.size + 1), cum_var_exp, where='mid', label='Cumulative')\n",
        "plt.ylabel('Explained variance ratio')\n",
        "plt.xlabel('Principal components')\n",
        "plt.legend(loc='best')\n",
        "plt.tight_layout()\n",
        "plt.savefig('./fig-pca-var-exp.png', dpi=300)\n",
        "plt.show()"
      ]
    },
    {
      "cell_type": "markdown",
      "metadata": {
        "id": "YJycRakBVJAP"
      },
      "source": [
        "#### Get the projection matrix W from the number of components that have been selected"
      ]
    },
    {
      "cell_type": "code",
      "execution_count": null,
      "metadata": {
        "colab": {
          "base_uri": "https://localhost:8080/"
        },
        "id": "RJoxRx4fVJAU",
        "outputId": "91e34341-2fab-4ce0-9c43-f0841cd42665"
      },
      "outputs": [
        {
          "name": "stdout",
          "output_type": "stream",
          "text": [
            "Matriks:  [[-4.84153957e-01 -1.99030506e-01 -1.94266502e-01 -8.87748893e-02\n",
            "   5.18776410e-02  1.03698021e-02  5.26222151e-02 -1.59221598e-02\n",
            "  -6.21965107e-02  8.37789383e-02  7.96162881e-01  1.46153199e-01]\n",
            " [-4.98335836e-01 -1.59992698e-01 -2.27381633e-01 -1.00965702e-01\n",
            "   1.91353007e-02 -6.22537615e-03  1.87455886e-02 -1.56353177e-02\n",
            "  -3.54278581e-02  1.85219841e-02 -3.18392459e-01 -7.05985958e-02]\n",
            " [-4.22909081e-02  7.88841446e-03 -1.56538315e-01  6.80723665e-01\n",
            "  -7.38414033e-02  1.38462694e-01  5.14696294e-01 -4.64033576e-01\n",
            "  -6.06404634e-02 -2.20389743e-02 -2.90132402e-02 -9.46151459e-03]\n",
            " [-1.77064142e-01 -3.70050828e-01  4.43913037e-01  1.92086305e-01\n",
            "  -1.45164091e-01 -3.16187943e-02 -2.04276817e-02  9.73159356e-02\n",
            "   4.61173099e-01 -5.90803477e-01  4.95691154e-02 -3.18142615e-02]\n",
            " [-5.01947908e-01 -1.53307621e-01 -1.97433981e-01 -1.29022513e-01\n",
            "   1.64710832e-02 -5.86061490e-03  9.13409661e-03 -3.82066032e-03\n",
            "  -8.38504579e-02 -7.65727764e-02 -4.68799086e-01 -7.14802098e-02]\n",
            " [ 1.71956639e-02  5.03950858e-01 -3.65255086e-01 -1.58097243e-01\n",
            "   5.56714212e-02  1.80300435e-02 -1.26471259e-02 -7.77877155e-02\n",
            "  -1.04879949e-01 -7.44641826e-01  1.02154558e-01 -1.22502858e-02]\n",
            " [-6.11434690e-02 -2.23251567e-02  8.29852272e-03  3.86973375e-01\n",
            "   6.93294065e-01  3.60790305e-01 -4.79759393e-01  4.31597063e-02\n",
            "  -4.09337872e-02 -3.47284931e-02 -1.43479582e-02 -3.27769741e-04]\n",
            " [ 5.55764623e-02 -7.58201752e-02 -1.01312688e-01 -8.47313846e-02\n",
            "  -4.54707957e-01  8.57431682e-01 -6.82421190e-02  1.60540341e-01\n",
            "  -3.55677036e-02 -5.21665234e-03  5.51496597e-03 -3.00343033e-03]\n",
            " [ 2.87352815e-01 -3.89367629e-01 -3.57698945e-01 -1.17313781e-01\n",
            "   5.54180891e-02 -3.01398223e-02 -9.06373128e-02 -2.31618918e-01\n",
            "   2.04295614e-01 -8.51614491e-02 -1.28443977e-01  7.01978401e-01]\n",
            " [ 2.87030565e-01 -3.55111158e-01 -4.02405134e-01 -1.20725255e-01\n",
            "   7.67045107e-02 -2.74223487e-02 -7.96937426e-02 -2.10261032e-01\n",
            "   2.73711573e-01  4.29568342e-03  1.13559839e-01 -6.84824121e-01]\n",
            " [-1.61728931e-01  1.71269201e-01  3.21101926e-01 -2.20035177e-01\n",
            "  -1.35816822e-01  9.07942160e-02 -3.69448226e-01 -7.87183954e-01\n",
            "   6.47778747e-02  7.49224007e-02  1.39827673e-02 -1.19684824e-02]\n",
            " [ 1.83180452e-01 -4.53905304e-01  2.37779469e-01 -1.25416240e-01\n",
            "   6.15726409e-02 -9.12912653e-03  5.52134181e-02 -1.28568407e-01\n",
            "  -7.67087771e-01 -2.61905310e-01  1.80599094e-02 -7.24972674e-02]\n",
            " [ 1.92856817e-02  3.15958370e-02  2.38215364e-01 -4.36568344e-01\n",
            "   4.98436202e-01  3.22453963e-01  5.85127139e-01 -8.34119072e-02\n",
            "   2.19710457e-01  6.06277081e-03 -3.30493255e-02  1.13112396e-02]]\n"
          ]
        }
      ],
      "source": [
        "# k number of components taken\n",
        "k = 12\n",
        "lst = []\n",
        "for i in range(k):\n",
        "     lst.append(pairs[i][1].reshape(13,1))\n",
        "\n",
        "matrix = np.hstack(lst)\n",
        "print('Matrix: ', matrix)"
      ]
    },
    {
      "cell_type": "markdown",
      "metadata": {
        "id": "KVLodMfgVJAU"
      },
      "source": [
        "#### Transform the initial dataset X through W to obtain a K-dimensional matrix"
      ]
    },
    {
      "cell_type": "markdown",
      "metadata": {
        "id": "BDd5dntR9RxE"
      },
      "source": [
        "The feature matrix is also compared with the existing label matrix"
      ]
    },
    {
      "cell_type": "code",
      "execution_count": null,
      "metadata": {
        "colab": {
          "base_uri": "https://localhost:8080/",
          "height": 461
        },
        "id": "VkReGwMO8ZJL",
        "outputId": "8d5da064-3a75-4bcc-ab4e-8a0567ffe380"
      },
      "outputs": [
        {
          "data": {
            "text/html": [
              "<div>\n",
              "<style scoped>\n",
              "    .dataframe tbody tr th:only-of-type {\n",
              "        vertical-align: middle;\n",
              "    }\n",
              "\n",
              "    .dataframe tbody tr th {\n",
              "        vertical-align: top;\n",
              "    }\n",
              "\n",
              "    .dataframe thead th {\n",
              "        text-align: right;\n",
              "    }\n",
              "</style>\n",
              "<table border=\"1\" class=\"dataframe\">\n",
              "  <thead>\n",
              "    <tr style=\"text-align: right;\">\n",
              "      <th></th>\n",
              "      <th>Component 1</th>\n",
              "      <th>Component 2</th>\n",
              "      <th>Component 3</th>\n",
              "      <th>Component 4</th>\n",
              "      <th>Component 5</th>\n",
              "      <th>Component 6</th>\n",
              "      <th>Component 7</th>\n",
              "      <th>Component 8</th>\n",
              "      <th>Component 9</th>\n",
              "      <th>Component 10</th>\n",
              "      <th>Component 11</th>\n",
              "      <th>Component 12</th>\n",
              "      <th>state_code</th>\n",
              "      <th>latitude</th>\n",
              "      <th>longitude</th>\n",
              "      <th>founded_at</th>\n",
              "      <th>age_first_funding_year</th>\n",
              "      <th>age_last_funding_year</th>\n",
              "      <th>funding_rounds</th>\n",
              "      <th>funding_total_usd</th>\n",
              "      <th>category_code</th>\n",
              "      <th>has_VC</th>\n",
              "      <th>has_angel</th>\n",
              "      <th>has_seriesA</th>\n",
              "      <th>has_seriesB</th>\n",
              "      <th>has_seriesC</th>\n",
              "      <th>has_seriesD</th>\n",
              "      <th>avg_participants</th>\n",
              "      <th>is_top500</th>\n",
              "    </tr>\n",
              "  </thead>\n",
              "  <tbody>\n",
              "    <tr>\n",
              "      <th>0</th>\n",
              "      <td>-1.272969</td>\n",
              "      <td>-0.962648</td>\n",
              "      <td>0.783919</td>\n",
              "      <td>0.910593</td>\n",
              "      <td>0.346681</td>\n",
              "      <td>0.278759</td>\n",
              "      <td>0.267104</td>\n",
              "      <td>-0.185280</td>\n",
              "      <td>0.352201</td>\n",
              "      <td>-0.058801</td>\n",
              "      <td>0.031742</td>\n",
              "      <td>-0.335394</td>\n",
              "      <td>CA</td>\n",
              "      <td>42.358880</td>\n",
              "      <td>-71.056820</td>\n",
              "      <td>1/1/2007</td>\n",
              "      <td>2.2493</td>\n",
              "      <td>3.0027</td>\n",
              "      <td>3.0</td>\n",
              "      <td>375000.0</td>\n",
              "      <td>music</td>\n",
              "      <td>No</td>\n",
              "      <td>Yes</td>\n",
              "      <td>No</td>\n",
              "      <td>No</td>\n",
              "      <td>No</td>\n",
              "      <td>No</td>\n",
              "      <td>1.0000</td>\n",
              "      <td>No</td>\n",
              "    </tr>\n",
              "    <tr>\n",
              "      <th>1</th>\n",
              "      <td>-0.645690</td>\n",
              "      <td>1.767102</td>\n",
              "      <td>0.853674</td>\n",
              "      <td>0.366365</td>\n",
              "      <td>-0.570973</td>\n",
              "      <td>-0.560081</td>\n",
              "      <td>-0.303089</td>\n",
              "      <td>1.363508</td>\n",
              "      <td>0.033901</td>\n",
              "      <td>0.117690</td>\n",
              "      <td>-0.034244</td>\n",
              "      <td>0.161154</td>\n",
              "      <td>NaN</td>\n",
              "      <td>NaN</td>\n",
              "      <td>NaN</td>\n",
              "      <td>NaN</td>\n",
              "      <td>NaN</td>\n",
              "      <td>NaN</td>\n",
              "      <td>NaN</td>\n",
              "      <td>NaN</td>\n",
              "      <td>NaN</td>\n",
              "      <td>NaN</td>\n",
              "      <td>NaN</td>\n",
              "      <td>NaN</td>\n",
              "      <td>NaN</td>\n",
              "      <td>NaN</td>\n",
              "      <td>NaN</td>\n",
              "      <td>NaN</td>\n",
              "      <td>NaN</td>\n",
              "    </tr>\n",
              "    <tr>\n",
              "      <th>2</th>\n",
              "      <td>0.914983</td>\n",
              "      <td>-0.815983</td>\n",
              "      <td>0.053672</td>\n",
              "      <td>-1.003524</td>\n",
              "      <td>-0.482592</td>\n",
              "      <td>-0.670117</td>\n",
              "      <td>-1.653718</td>\n",
              "      <td>0.321702</td>\n",
              "      <td>0.197479</td>\n",
              "      <td>0.040984</td>\n",
              "      <td>-0.040691</td>\n",
              "      <td>0.082023</td>\n",
              "      <td>CA</td>\n",
              "      <td>32.901049</td>\n",
              "      <td>-117.192656</td>\n",
              "      <td>3/18/2009</td>\n",
              "      <td>1.0329</td>\n",
              "      <td>1.0329</td>\n",
              "      <td>1.0</td>\n",
              "      <td>-2600000.0</td>\n",
              "      <td>web</td>\n",
              "      <td>No</td>\n",
              "      <td>No</td>\n",
              "      <td>Yes</td>\n",
              "      <td>No</td>\n",
              "      <td>No</td>\n",
              "      <td>No</td>\n",
              "      <td>4.0000</td>\n",
              "      <td>Yes</td>\n",
              "    </tr>\n",
              "    <tr>\n",
              "      <th>3</th>\n",
              "      <td>0.329541</td>\n",
              "      <td>-0.211104</td>\n",
              "      <td>-0.361106</td>\n",
              "      <td>-0.010761</td>\n",
              "      <td>0.104161</td>\n",
              "      <td>-0.140272</td>\n",
              "      <td>-0.734228</td>\n",
              "      <td>-0.079297</td>\n",
              "      <td>-0.134727</td>\n",
              "      <td>0.030928</td>\n",
              "      <td>-0.093494</td>\n",
              "      <td>0.169333</td>\n",
              "      <td>CA</td>\n",
              "      <td>37.320309</td>\n",
              "      <td>-122.050040</td>\n",
              "      <td>1/1/2002</td>\n",
              "      <td>3.1315</td>\n",
              "      <td>5.3151</td>\n",
              "      <td>3.0</td>\n",
              "      <td>40000000.0</td>\n",
              "      <td>software</td>\n",
              "      <td>No</td>\n",
              "      <td>No</td>\n",
              "      <td>No</td>\n",
              "      <td>Yes</td>\n",
              "      <td>Yes</td>\n",
              "      <td>Yes</td>\n",
              "      <td>3.3333</td>\n",
              "      <td>Yes</td>\n",
              "    </tr>\n",
              "    <tr>\n",
              "      <th>4</th>\n",
              "      <td>1.573168</td>\n",
              "      <td>-1.775426</td>\n",
              "      <td>-0.003357</td>\n",
              "      <td>-1.718479</td>\n",
              "      <td>0.368797</td>\n",
              "      <td>-0.250255</td>\n",
              "      <td>-0.550376</td>\n",
              "      <td>0.383960</td>\n",
              "      <td>0.467722</td>\n",
              "      <td>0.021078</td>\n",
              "      <td>-0.142716</td>\n",
              "      <td>0.182003</td>\n",
              "      <td>CA</td>\n",
              "      <td>37.779281</td>\n",
              "      <td>-122.419236</td>\n",
              "      <td>8/1/2010</td>\n",
              "      <td>1.4247</td>\n",
              "      <td>1.6685</td>\n",
              "      <td>2.0</td>\n",
              "      <td>1300000.0</td>\n",
              "      <td>games_video</td>\n",
              "      <td>Yes</td>\n",
              "      <td>Yes</td>\n",
              "      <td>No</td>\n",
              "      <td>No</td>\n",
              "      <td>No</td>\n",
              "      <td>No</td>\n",
              "      <td>1.0000</td>\n",
              "      <td>Yes</td>\n",
              "    </tr>\n",
              "    <tr>\n",
              "      <th>...</th>\n",
              "      <td>...</td>\n",
              "      <td>...</td>\n",
              "      <td>...</td>\n",
              "      <td>...</td>\n",
              "      <td>...</td>\n",
              "      <td>...</td>\n",
              "      <td>...</td>\n",
              "      <td>...</td>\n",
              "      <td>...</td>\n",
              "      <td>...</td>\n",
              "      <td>...</td>\n",
              "      <td>...</td>\n",
              "      <td>...</td>\n",
              "      <td>...</td>\n",
              "      <td>...</td>\n",
              "      <td>...</td>\n",
              "      <td>...</td>\n",
              "      <td>...</td>\n",
              "      <td>...</td>\n",
              "      <td>...</td>\n",
              "      <td>...</td>\n",
              "      <td>...</td>\n",
              "      <td>...</td>\n",
              "      <td>...</td>\n",
              "      <td>...</td>\n",
              "      <td>...</td>\n",
              "      <td>...</td>\n",
              "      <td>...</td>\n",
              "      <td>...</td>\n",
              "    </tr>\n",
              "    <tr>\n",
              "      <th>3042</th>\n",
              "      <td>0.450092</td>\n",
              "      <td>-1.066571</td>\n",
              "      <td>-0.495387</td>\n",
              "      <td>-0.386010</td>\n",
              "      <td>0.568650</td>\n",
              "      <td>0.108254</td>\n",
              "      <td>1.082433</td>\n",
              "      <td>0.309106</td>\n",
              "      <td>0.719120</td>\n",
              "      <td>0.576549</td>\n",
              "      <td>0.991861</td>\n",
              "      <td>-0.431351</td>\n",
              "      <td>NaN</td>\n",
              "      <td>NaN</td>\n",
              "      <td>NaN</td>\n",
              "      <td>NaN</td>\n",
              "      <td>NaN</td>\n",
              "      <td>NaN</td>\n",
              "      <td>NaN</td>\n",
              "      <td>NaN</td>\n",
              "      <td>NaN</td>\n",
              "      <td>NaN</td>\n",
              "      <td>NaN</td>\n",
              "      <td>NaN</td>\n",
              "      <td>NaN</td>\n",
              "      <td>NaN</td>\n",
              "      <td>NaN</td>\n",
              "      <td>NaN</td>\n",
              "      <td>NaN</td>\n",
              "    </tr>\n",
              "    <tr>\n",
              "      <th>3043</th>\n",
              "      <td>-1.547319</td>\n",
              "      <td>1.645514</td>\n",
              "      <td>2.055492</td>\n",
              "      <td>-0.112352</td>\n",
              "      <td>0.720383</td>\n",
              "      <td>0.513478</td>\n",
              "      <td>0.643203</td>\n",
              "      <td>-0.111708</td>\n",
              "      <td>-0.720448</td>\n",
              "      <td>-0.015457</td>\n",
              "      <td>0.967954</td>\n",
              "      <td>0.171210</td>\n",
              "      <td>NaN</td>\n",
              "      <td>NaN</td>\n",
              "      <td>NaN</td>\n",
              "      <td>NaN</td>\n",
              "      <td>NaN</td>\n",
              "      <td>NaN</td>\n",
              "      <td>NaN</td>\n",
              "      <td>NaN</td>\n",
              "      <td>NaN</td>\n",
              "      <td>NaN</td>\n",
              "      <td>NaN</td>\n",
              "      <td>NaN</td>\n",
              "      <td>NaN</td>\n",
              "      <td>NaN</td>\n",
              "      <td>NaN</td>\n",
              "      <td>NaN</td>\n",
              "      <td>NaN</td>\n",
              "    </tr>\n",
              "    <tr>\n",
              "      <th>3044</th>\n",
              "      <td>-1.719855</td>\n",
              "      <td>1.030111</td>\n",
              "      <td>2.458011</td>\n",
              "      <td>1.133331</td>\n",
              "      <td>2.626235</td>\n",
              "      <td>1.549678</td>\n",
              "      <td>-1.028364</td>\n",
              "      <td>-0.240884</td>\n",
              "      <td>-0.912899</td>\n",
              "      <td>0.117983</td>\n",
              "      <td>0.859344</td>\n",
              "      <td>0.328810</td>\n",
              "      <td>NaN</td>\n",
              "      <td>NaN</td>\n",
              "      <td>NaN</td>\n",
              "      <td>NaN</td>\n",
              "      <td>NaN</td>\n",
              "      <td>NaN</td>\n",
              "      <td>NaN</td>\n",
              "      <td>NaN</td>\n",
              "      <td>NaN</td>\n",
              "      <td>NaN</td>\n",
              "      <td>NaN</td>\n",
              "      <td>NaN</td>\n",
              "      <td>NaN</td>\n",
              "      <td>NaN</td>\n",
              "      <td>NaN</td>\n",
              "      <td>NaN</td>\n",
              "      <td>NaN</td>\n",
              "    </tr>\n",
              "    <tr>\n",
              "      <th>3045</th>\n",
              "      <td>-0.332224</td>\n",
              "      <td>-0.579067</td>\n",
              "      <td>1.100166</td>\n",
              "      <td>-0.415523</td>\n",
              "      <td>0.290437</td>\n",
              "      <td>0.129139</td>\n",
              "      <td>0.874850</td>\n",
              "      <td>-0.193051</td>\n",
              "      <td>-0.563879</td>\n",
              "      <td>0.132425</td>\n",
              "      <td>0.934710</td>\n",
              "      <td>-0.038739</td>\n",
              "      <td>NaN</td>\n",
              "      <td>NaN</td>\n",
              "      <td>NaN</td>\n",
              "      <td>NaN</td>\n",
              "      <td>NaN</td>\n",
              "      <td>NaN</td>\n",
              "      <td>NaN</td>\n",
              "      <td>NaN</td>\n",
              "      <td>NaN</td>\n",
              "      <td>NaN</td>\n",
              "      <td>NaN</td>\n",
              "      <td>NaN</td>\n",
              "      <td>NaN</td>\n",
              "      <td>NaN</td>\n",
              "      <td>NaN</td>\n",
              "      <td>NaN</td>\n",
              "      <td>NaN</td>\n",
              "    </tr>\n",
              "    <tr>\n",
              "      <th>3046</th>\n",
              "      <td>-1.648029</td>\n",
              "      <td>1.618472</td>\n",
              "      <td>2.938272</td>\n",
              "      <td>-0.457299</td>\n",
              "      <td>0.495103</td>\n",
              "      <td>0.332555</td>\n",
              "      <td>1.495741</td>\n",
              "      <td>0.151665</td>\n",
              "      <td>-1.958500</td>\n",
              "      <td>0.729832</td>\n",
              "      <td>0.867524</td>\n",
              "      <td>0.192829</td>\n",
              "      <td>NaN</td>\n",
              "      <td>NaN</td>\n",
              "      <td>NaN</td>\n",
              "      <td>NaN</td>\n",
              "      <td>NaN</td>\n",
              "      <td>NaN</td>\n",
              "      <td>NaN</td>\n",
              "      <td>NaN</td>\n",
              "      <td>NaN</td>\n",
              "      <td>NaN</td>\n",
              "      <td>NaN</td>\n",
              "      <td>NaN</td>\n",
              "      <td>NaN</td>\n",
              "      <td>NaN</td>\n",
              "      <td>NaN</td>\n",
              "      <td>NaN</td>\n",
              "      <td>NaN</td>\n",
              "    </tr>\n",
              "  </tbody>\n",
              "</table>\n",
              "<p>3047 rows × 29 columns</p>\n",
              "</div>"
            ],
            "text/plain": [
              "      Component 1  Component 2  ...  avg_participants  is_top500\n",
              "0       -1.272969    -0.962648  ...            1.0000         No\n",
              "1       -0.645690     1.767102  ...               NaN        NaN\n",
              "2        0.914983    -0.815983  ...            4.0000        Yes\n",
              "3        0.329541    -0.211104  ...            3.3333        Yes\n",
              "4        1.573168    -1.775426  ...            1.0000        Yes\n",
              "...           ...          ...  ...               ...        ...\n",
              "3042     0.450092    -1.066571  ...               NaN        NaN\n",
              "3043    -1.547319     1.645514  ...               NaN        NaN\n",
              "3044    -1.719855     1.030111  ...               NaN        NaN\n",
              "3045    -0.332224    -0.579067  ...               NaN        NaN\n",
              "3046    -1.648029     1.618472  ...               NaN        NaN\n",
              "\n",
              "[3047 rows x 29 columns]"
            ]
          },
          "execution_count": 97,
          "metadata": {},
          "output_type": "execute_result"
        }
      ],
      "source": [
        "Y = standard.dot(matrix)\n",
        "columns = []\n",
        "for i in range(k):\n",
        "    columns.append(\"Component \" + str(i + 1))\n",
        "\n",
        "PCA_dataframe = pd.DataFrame(data = Y , columns = columns)\n",
        "final_dataframe = pd.concat([PCA_dataframe, pd.DataFrame(label)], axis = 1)\n",
        "final_dataframe\n"
      ]
    },
    {
      "cell_type": "markdown",
      "metadata": {
        "id": "HC7TOdOC43WU"
      },
      "source": [
        "### PCA with Scikitlearn"
      ]
    },
    {
      "cell_type": "code",
      "execution_count": null,
      "metadata": {
        "colab": {
          "base_uri": "https://localhost:8080/",
          "height": 313
        },
        "id": "grQVIzfI4_-F",
        "outputId": "7e6dbad6-f4f4-4118-f3f7-a76edbb0586f"
      },
      "outputs": [
        {
          "data": {
            "text/plain": [
              "[Text(0.5, 1.0, 'Cancer PCA projection')]"
            ]
          },
          "execution_count": 98,
          "metadata": {},
          "output_type": "execute_result"
        },
        {
          "data": {
            "image/png": "[encoded data removed]",
            "text/plain": [
              "<Figure size 432x288 with 1 Axes>"
            ]
          },
          "metadata": {
            "needs_background": "light"
          },
          "output_type": "display_data"
        }
      ],
      "source": [
        "# transformation results with a scatter plot\n",
        "\n",
        "from sklearn.decomposition import PCA\n",
        "\n",
        "pca = PCA(n_components = 2)\n",
        "skl_pca = pca.fit_transform(standard)\n",
        "\n",
        "cancer2 = pd.DataFrame()\n",
        "cancer2[\"y\"] = y\n",
        "cancer2[\"component-1\"] = skl_pca[:,0]\n",
        "cancer2[\"component-2\"] = skl_pca[:,1]\n",
        "\n",
        "sns.scatterplot(x = \"component-1\", y = \"component-2\", hue = cancer2.y.tolist(), data = cancer2).set(title = \"Cancer PCA projection\")"
      ]
    },
    {
      "cell_type": "code",
      "execution_count": null,
      "metadata": {
        "colab": {
          "base_uri": "https://localhost:8080/",
          "height": 513
        },
        "id": "u8dYSX3Je0uH",
        "outputId": "f971acf5-7675-4e44-fcca-779be309a183"
      },
      "outputs": [
        {
          "name": "stdout",
          "output_type": "stream",
          "text": [
            "Eigen Value : \n",
            "[3.26192282 2.55513657 1.79572814 1.15591566 1.0034783  0.97670777\n",
            " 0.87776926 0.72669086 0.36915056 0.12465289 0.076394   0.06129216]\n"
          ]
        },
        {
          "data": {
            "text/html": [
              "<div>\n",
              "<style scoped>\n",
              "    .dataframe tbody tr th:only-of-type {\n",
              "        vertical-align: middle;\n",
              "    }\n",
              "\n",
              "    .dataframe tbody tr th {\n",
              "        vertical-align: top;\n",
              "    }\n",
              "\n",
              "    .dataframe thead th {\n",
              "        text-align: right;\n",
              "    }\n",
              "</style>\n",
              "<table border=\"1\" class=\"dataframe\">\n",
              "  <thead>\n",
              "    <tr style=\"text-align: right;\">\n",
              "      <th></th>\n",
              "      <th>Component 1</th>\n",
              "      <th>Component 2</th>\n",
              "      <th>Component 3</th>\n",
              "      <th>Component 4</th>\n",
              "      <th>Component 5</th>\n",
              "      <th>Component 6</th>\n",
              "      <th>Component 7</th>\n",
              "      <th>Component 8</th>\n",
              "      <th>Component 9</th>\n",
              "      <th>Component 10</th>\n",
              "      <th>Component 11</th>\n",
              "      <th>Component 12</th>\n",
              "      <th>state_code</th>\n",
              "      <th>latitude</th>\n",
              "      <th>longitude</th>\n",
              "      <th>founded_at</th>\n",
              "      <th>age_first_funding_year</th>\n",
              "      <th>age_last_funding_year</th>\n",
              "      <th>funding_rounds</th>\n",
              "      <th>funding_total_usd</th>\n",
              "      <th>category_code</th>\n",
              "      <th>has_VC</th>\n",
              "      <th>has_angel</th>\n",
              "      <th>has_seriesA</th>\n",
              "      <th>has_seriesB</th>\n",
              "      <th>has_seriesC</th>\n",
              "      <th>has_seriesD</th>\n",
              "      <th>avg_participants</th>\n",
              "      <th>is_top500</th>\n",
              "    </tr>\n",
              "  </thead>\n",
              "  <tbody>\n",
              "    <tr>\n",
              "      <th>0</th>\n",
              "      <td>1.272969</td>\n",
              "      <td>0.962648</td>\n",
              "      <td>-0.783919</td>\n",
              "      <td>0.910593</td>\n",
              "      <td>0.346681</td>\n",
              "      <td>0.278759</td>\n",
              "      <td>-0.267104</td>\n",
              "      <td>0.185280</td>\n",
              "      <td>-0.352201</td>\n",
              "      <td>0.058801</td>\n",
              "      <td>-0.031742</td>\n",
              "      <td>0.335394</td>\n",
              "      <td>CA</td>\n",
              "      <td>42.358880</td>\n",
              "      <td>-71.056820</td>\n",
              "      <td>1/1/2007</td>\n",
              "      <td>2.2493</td>\n",
              "      <td>3.0027</td>\n",
              "      <td>3.0</td>\n",
              "      <td>375000.0</td>\n",
              "      <td>music</td>\n",
              "      <td>No</td>\n",
              "      <td>Yes</td>\n",
              "      <td>No</td>\n",
              "      <td>No</td>\n",
              "      <td>No</td>\n",
              "      <td>No</td>\n",
              "      <td>1.0000</td>\n",
              "      <td>No</td>\n",
              "    </tr>\n",
              "    <tr>\n",
              "      <th>1</th>\n",
              "      <td>0.645690</td>\n",
              "      <td>-1.767102</td>\n",
              "      <td>-0.853674</td>\n",
              "      <td>0.366365</td>\n",
              "      <td>-0.570973</td>\n",
              "      <td>-0.560081</td>\n",
              "      <td>0.303089</td>\n",
              "      <td>-1.363508</td>\n",
              "      <td>-0.033901</td>\n",
              "      <td>-0.117690</td>\n",
              "      <td>0.034244</td>\n",
              "      <td>-0.161154</td>\n",
              "      <td>NaN</td>\n",
              "      <td>NaN</td>\n",
              "      <td>NaN</td>\n",
              "      <td>NaN</td>\n",
              "      <td>NaN</td>\n",
              "      <td>NaN</td>\n",
              "      <td>NaN</td>\n",
              "      <td>NaN</td>\n",
              "      <td>NaN</td>\n",
              "      <td>NaN</td>\n",
              "      <td>NaN</td>\n",
              "      <td>NaN</td>\n",
              "      <td>NaN</td>\n",
              "      <td>NaN</td>\n",
              "      <td>NaN</td>\n",
              "      <td>NaN</td>\n",
              "      <td>NaN</td>\n",
              "    </tr>\n",
              "    <tr>\n",
              "      <th>2</th>\n",
              "      <td>-0.914983</td>\n",
              "      <td>0.815983</td>\n",
              "      <td>-0.053672</td>\n",
              "      <td>-1.003524</td>\n",
              "      <td>-0.482592</td>\n",
              "      <td>-0.670117</td>\n",
              "      <td>1.653718</td>\n",
              "      <td>-0.321702</td>\n",
              "      <td>-0.197479</td>\n",
              "      <td>-0.040984</td>\n",
              "      <td>0.040691</td>\n",
              "      <td>-0.082023</td>\n",
              "      <td>CA</td>\n",
              "      <td>32.901049</td>\n",
              "      <td>-117.192656</td>\n",
              "      <td>3/18/2009</td>\n",
              "      <td>1.0329</td>\n",
              "      <td>1.0329</td>\n",
              "      <td>1.0</td>\n",
              "      <td>-2600000.0</td>\n",
              "      <td>web</td>\n",
              "      <td>No</td>\n",
              "      <td>No</td>\n",
              "      <td>Yes</td>\n",
              "      <td>No</td>\n",
              "      <td>No</td>\n",
              "      <td>No</td>\n",
              "      <td>4.0000</td>\n",
              "      <td>Yes</td>\n",
              "    </tr>\n",
              "    <tr>\n",
              "      <th>3</th>\n",
              "      <td>-0.329541</td>\n",
              "      <td>0.211104</td>\n",
              "      <td>0.361106</td>\n",
              "      <td>-0.010761</td>\n",
              "      <td>0.104161</td>\n",
              "      <td>-0.140272</td>\n",
              "      <td>0.734228</td>\n",
              "      <td>0.079297</td>\n",
              "      <td>0.134727</td>\n",
              "      <td>-0.030928</td>\n",
              "      <td>0.093494</td>\n",
              "      <td>-0.169333</td>\n",
              "      <td>CA</td>\n",
              "      <td>37.320309</td>\n",
              "      <td>-122.050040</td>\n",
              "      <td>1/1/2002</td>\n",
              "      <td>3.1315</td>\n",
              "      <td>5.3151</td>\n",
              "      <td>3.0</td>\n",
              "      <td>40000000.0</td>\n",
              "      <td>software</td>\n",
              "      <td>No</td>\n",
              "      <td>No</td>\n",
              "      <td>No</td>\n",
              "      <td>Yes</td>\n",
              "      <td>Yes</td>\n",
              "      <td>Yes</td>\n",
              "      <td>3.3333</td>\n",
              "      <td>Yes</td>\n",
              "    </tr>\n",
              "    <tr>\n",
              "      <th>4</th>\n",
              "      <td>-1.573168</td>\n",
              "      <td>1.775426</td>\n",
              "      <td>0.003357</td>\n",
              "      <td>-1.718479</td>\n",
              "      <td>0.368797</td>\n",
              "      <td>-0.250255</td>\n",
              "      <td>0.550376</td>\n",
              "      <td>-0.383960</td>\n",
              "      <td>-0.467722</td>\n",
              "      <td>-0.021078</td>\n",
              "      <td>0.142716</td>\n",
              "      <td>-0.182003</td>\n",
              "      <td>CA</td>\n",
              "      <td>37.779281</td>\n",
              "      <td>-122.419236</td>\n",
              "      <td>8/1/2010</td>\n",
              "      <td>1.4247</td>\n",
              "      <td>1.6685</td>\n",
              "      <td>2.0</td>\n",
              "      <td>1300000.0</td>\n",
              "      <td>games_video</td>\n",
              "      <td>Yes</td>\n",
              "      <td>Yes</td>\n",
              "      <td>No</td>\n",
              "      <td>No</td>\n",
              "      <td>No</td>\n",
              "      <td>No</td>\n",
              "      <td>1.0000</td>\n",
              "      <td>Yes</td>\n",
              "    </tr>\n",
              "    <tr>\n",
              "      <th>...</th>\n",
              "      <td>...</td>\n",
              "      <td>...</td>\n",
              "      <td>...</td>\n",
              "      <td>...</td>\n",
              "      <td>...</td>\n",
              "      <td>...</td>\n",
              "      <td>...</td>\n",
              "      <td>...</td>\n",
              "      <td>...</td>\n",
              "      <td>...</td>\n",
              "      <td>...</td>\n",
              "      <td>...</td>\n",
              "      <td>...</td>\n",
              "      <td>...</td>\n",
              "      <td>...</td>\n",
              "      <td>...</td>\n",
              "      <td>...</td>\n",
              "      <td>...</td>\n",
              "      <td>...</td>\n",
              "      <td>...</td>\n",
              "      <td>...</td>\n",
              "      <td>...</td>\n",
              "      <td>...</td>\n",
              "      <td>...</td>\n",
              "      <td>...</td>\n",
              "      <td>...</td>\n",
              "      <td>...</td>\n",
              "      <td>...</td>\n",
              "      <td>...</td>\n",
              "    </tr>\n",
              "    <tr>\n",
              "      <th>3042</th>\n",
              "      <td>-0.450092</td>\n",
              "      <td>1.066571</td>\n",
              "      <td>0.495387</td>\n",
              "      <td>-0.386010</td>\n",
              "      <td>0.568650</td>\n",
              "      <td>0.108254</td>\n",
              "      <td>-1.082433</td>\n",
              "      <td>-0.309106</td>\n",
              "      <td>-0.719120</td>\n",
              "      <td>-0.576549</td>\n",
              "      <td>-0.991861</td>\n",
              "      <td>0.431351</td>\n",
              "      <td>NaN</td>\n",
              "      <td>NaN</td>\n",
              "      <td>NaN</td>\n",
              "      <td>NaN</td>\n",
              "      <td>NaN</td>\n",
              "      <td>NaN</td>\n",
              "      <td>NaN</td>\n",
              "      <td>NaN</td>\n",
              "      <td>NaN</td>\n",
              "      <td>NaN</td>\n",
              "      <td>NaN</td>\n",
              "      <td>NaN</td>\n",
              "      <td>NaN</td>\n",
              "      <td>NaN</td>\n",
              "      <td>NaN</td>\n",
              "      <td>NaN</td>\n",
              "      <td>NaN</td>\n",
              "    </tr>\n",
              "    <tr>\n",
              "      <th>3043</th>\n",
              "      <td>1.547319</td>\n",
              "      <td>-1.645514</td>\n",
              "      <td>-2.055492</td>\n",
              "      <td>-0.112352</td>\n",
              "      <td>0.720383</td>\n",
              "      <td>0.513478</td>\n",
              "      <td>-0.643203</td>\n",
              "      <td>0.111708</td>\n",
              "      <td>0.720448</td>\n",
              "      <td>0.015457</td>\n",
              "      <td>-0.967954</td>\n",
              "      <td>-0.171210</td>\n",
              "      <td>NaN</td>\n",
              "      <td>NaN</td>\n",
              "      <td>NaN</td>\n",
              "      <td>NaN</td>\n",
              "      <td>NaN</td>\n",
              "      <td>NaN</td>\n",
              "      <td>NaN</td>\n",
              "      <td>NaN</td>\n",
              "      <td>NaN</td>\n",
              "      <td>NaN</td>\n",
              "      <td>NaN</td>\n",
              "      <td>NaN</td>\n",
              "      <td>NaN</td>\n",
              "      <td>NaN</td>\n",
              "      <td>NaN</td>\n",
              "      <td>NaN</td>\n",
              "      <td>NaN</td>\n",
              "    </tr>\n",
              "    <tr>\n",
              "      <th>3044</th>\n",
              "      <td>1.719855</td>\n",
              "      <td>-1.030111</td>\n",
              "      <td>-2.458011</td>\n",
              "      <td>1.133331</td>\n",
              "      <td>2.626235</td>\n",
              "      <td>1.549678</td>\n",
              "      <td>1.028364</td>\n",
              "      <td>0.240884</td>\n",
              "      <td>0.912899</td>\n",
              "      <td>-0.117983</td>\n",
              "      <td>-0.859344</td>\n",
              "      <td>-0.328810</td>\n",
              "      <td>NaN</td>\n",
              "      <td>NaN</td>\n",
              "      <td>NaN</td>\n",
              "      <td>NaN</td>\n",
              "      <td>NaN</td>\n",
              "      <td>NaN</td>\n",
              "      <td>NaN</td>\n",
              "      <td>NaN</td>\n",
              "      <td>NaN</td>\n",
              "      <td>NaN</td>\n",
              "      <td>NaN</td>\n",
              "      <td>NaN</td>\n",
              "      <td>NaN</td>\n",
              "      <td>NaN</td>\n",
              "      <td>NaN</td>\n",
              "      <td>NaN</td>\n",
              "      <td>NaN</td>\n",
              "    </tr>\n",
              "    <tr>\n",
              "      <th>3045</th>\n",
              "      <td>0.332224</td>\n",
              "      <td>0.579067</td>\n",
              "      <td>-1.100166</td>\n",
              "      <td>-0.415523</td>\n",
              "      <td>0.290437</td>\n",
              "      <td>0.129139</td>\n",
              "      <td>-0.874850</td>\n",
              "      <td>0.193051</td>\n",
              "      <td>0.563879</td>\n",
              "      <td>-0.132425</td>\n",
              "      <td>-0.934710</td>\n",
              "      <td>0.038739</td>\n",
              "      <td>NaN</td>\n",
              "      <td>NaN</td>\n",
              "      <td>NaN</td>\n",
              "      <td>NaN</td>\n",
              "      <td>NaN</td>\n",
              "      <td>NaN</td>\n",
              "      <td>NaN</td>\n",
              "      <td>NaN</td>\n",
              "      <td>NaN</td>\n",
              "      <td>NaN</td>\n",
              "      <td>NaN</td>\n",
              "      <td>NaN</td>\n",
              "      <td>NaN</td>\n",
              "      <td>NaN</td>\n",
              "      <td>NaN</td>\n",
              "      <td>NaN</td>\n",
              "      <td>NaN</td>\n",
              "    </tr>\n",
              "    <tr>\n",
              "      <th>3046</th>\n",
              "      <td>1.648029</td>\n",
              "      <td>-1.618472</td>\n",
              "      <td>-2.938272</td>\n",
              "      <td>-0.457299</td>\n",
              "      <td>0.495103</td>\n",
              "      <td>0.332555</td>\n",
              "      <td>-1.495741</td>\n",
              "      <td>-0.151665</td>\n",
              "      <td>1.958500</td>\n",
              "      <td>-0.729832</td>\n",
              "      <td>-0.867524</td>\n",
              "      <td>-0.192829</td>\n",
              "      <td>NaN</td>\n",
              "      <td>NaN</td>\n",
              "      <td>NaN</td>\n",
              "      <td>NaN</td>\n",
              "      <td>NaN</td>\n",
              "      <td>NaN</td>\n",
              "      <td>NaN</td>\n",
              "      <td>NaN</td>\n",
              "      <td>NaN</td>\n",
              "      <td>NaN</td>\n",
              "      <td>NaN</td>\n",
              "      <td>NaN</td>\n",
              "      <td>NaN</td>\n",
              "      <td>NaN</td>\n",
              "      <td>NaN</td>\n",
              "      <td>NaN</td>\n",
              "      <td>NaN</td>\n",
              "    </tr>\n",
              "  </tbody>\n",
              "</table>\n",
              "<p>3047 rows × 29 columns</p>\n",
              "</div>"
            ],
            "text/plain": [
              "      Component 1  Component 2  ...  avg_participants  is_top500\n",
              "0        1.272969     0.962648  ...            1.0000         No\n",
              "1        0.645690    -1.767102  ...               NaN        NaN\n",
              "2       -0.914983     0.815983  ...            4.0000        Yes\n",
              "3       -0.329541     0.211104  ...            3.3333        Yes\n",
              "4       -1.573168     1.775426  ...            1.0000        Yes\n",
              "...           ...          ...  ...               ...        ...\n",
              "3042    -0.450092     1.066571  ...               NaN        NaN\n",
              "3043     1.547319    -1.645514  ...               NaN        NaN\n",
              "3044     1.719855    -1.030111  ...               NaN        NaN\n",
              "3045     0.332224     0.579067  ...               NaN        NaN\n",
              "3046     1.648029    -1.618472  ...               NaN        NaN\n",
              "\n",
              "[3047 rows x 29 columns]"
            ]
          },
          "execution_count": 99,
          "metadata": {},
          "output_type": "execute_result"
        }
      ],
      "source": [
        "\n",
        "from sklearn.decomposition import PCA\n",
        "\n",
        "pca = PCA(n_components = 12)\n",
        "\n",
        "pca_library = pca.fit_transform(standard)\n",
        "print(\"Eigen Value : \")\n",
        "print(pca.explained_variance_)\n",
        "\n",
        "pca_library_dataframe = pd.DataFrame(data = pca_library , columns = columns)\n",
        "library_final_dataframe = pd.concat([pca_library_dataframe, pd.DataFrame(label)], axis = 1)\n",
        "library_final_dataframe"
      ]
    },
    {
      "cell_type": "markdown",
      "metadata": {},
      "source": [
        "### Differences"
      ]
    },
    {
      "cell_type": "markdown",
      "metadata": {
        "id": "8312LVaA5IM1"
      },
      "source": [
        "The results I got were differences in data visualization and representation. With tSNE, is one way to apply the reduction method. Meanwhile the use of PCA maintains the global data framework. From the dataset I have, tSNE is proven to be better because it maintains a local data frame.\n",
        "\n",
        "From the difference in PCA calculations; sklearn and manual, it can be seen that these two calculations do not affect the dataset that I have, because the resulting values remain the same."
      ]
    }
  ],
  "metadata": {
    "colab": {
      "provenance": []
    },
    "kernelspec": {
      "display_name": "Python 3",
      "name": "python3"
    },
    "language_info": {
      "name": "python"
    }
  },
  "nbformat": 4,
  "nbformat_minor": 0
}
