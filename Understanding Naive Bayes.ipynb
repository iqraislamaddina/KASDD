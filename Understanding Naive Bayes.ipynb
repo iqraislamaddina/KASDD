{
  "nbformat": 4,
  "nbformat_minor": 0,
  "metadata": {
    "colab": {
      "provenance": []
    },
    "kernelspec": {
      "name": "python3",
      "display_name": "Python 3"
    },
    "language_info": {
      "name": "python"
    }
  },
  "cells": [
    {
      "cell_type": "markdown",
      "metadata": {
        "id": "DYNslkNnfCo9"
      },
      "source": [
        "# Introduction to Naive Bayes"
      ]
    },
    {
      "cell_type": "markdown",
      "metadata": {
        "id": "RpWuzwP_iG_1"
      },
      "source": [
        "The Naive Bayes algorithm predicts future opportunities based on previous experience, so it is known as Bayes' Theorem. The main characteristic of the Naive Bayes Classifier is the very strong assumption of independence of each condition/event."
      ]
    },
    {
      "cell_type": "markdown",
      "metadata": {
        "id": "zBWUwg4Wnwok"
      },
      "source": [
        "![image.png](data:image/png;base64,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)"
      ]
    },
    {
      "cell_type": "markdown",
      "metadata": {
        "id": "0Va0dPpznzew"
      },
      "source": [
        "These three values can be calculated based on data collected from the questionnaire. Generally, we\n",
        "not only computes P(O | perhatian), but also computes P(A | perhatian), P(B | perhatian), and P(AB | perhatian). After we count all four, the blood type with the greatest chance is ours\n",
        "Prediction as Kak Lulu's blood type."
      ]
    },
    {
      "cell_type": "markdown",
      "metadata": {
        "id": "ZzvO5YnjoQMY"
      },
      "source": [
        "However, researchers usually want a formula with as few variables as possible. If we think about it further, the denominator of p(O|perhatian) is divided by p(perhatian). Similarly, p(A | perhatian), p(B | perhatian), and P(AB | perhatian) are also divided by p(perhatian) as can be seen in the formulas below."
      ]
    },
    {
      "cell_type": "markdown",
      "metadata": {
        "id": "2u4vqpWvpH7U"
      },
      "source": [
        "![image.png](data:image/png;base64,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)"
      ]
    },
    {
      "cell_type": "markdown",
      "metadata": {
        "id": "6P1VbmgWpKN_"
      },
      "source": [
        "If all four variables have the same divisor, doesn't this mean that the order of values P(A|perhatian),\n",
        "P(B|perhatian), P(AB|perhatian), and P(O|perhatian) from largest to smallest will not change even if the denominator (p(perhatian)) is crossed out? So we don't need to calculate the value of p(perhatian)."
      ]
    },
    {
      "cell_type": "markdown",
      "metadata": {
        "id": "m58qKtCtrEZ0"
      },
      "source": [
        "![image.png](data:image/png;base64,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)"
      ]
    },
    {
      "cell_type": "markdown",
      "metadata": {
        "id": "PymcgrIprE9E"
      },
      "source": [
        "Pay perhatian to the formula above (the formula when division by P(perhatian) is omitted).\n",
        "This value only calculates the probability of having blood type O if only the factor that Kak Lulu is caring is taken into account. How about factors such as intelligence, patience, thoroughness, or character\n",
        "someone else? Mathematically, we can use the chain rule formula for\n",
        "take into account these other factors as shown in the formula below."
      ]
    },
    {
      "cell_type": "markdown",
      "metadata": {
        "id": "gFLGVKC9r770"
      },
      "source": [
        "![image.png](data:image/png;base64,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)"
      ]
    },
    {
      "cell_type": "markdown",
      "metadata": {
        "id": "Am2sil95srXU"
      },
      "source": [
        "Information :\n",
        "* Q: thorough\n",
        "* C: smart\n",
        "* S: Be patient\n",
        "* P: attention\n",
        "* O: blood type O"
      ]
    },
    {
      "cell_type": "markdown",
      "metadata": {
        "id": "ruFTYmMFtEYf"
      },
      "source": [
        "Fortunately, in the context of the Naive Bayes Classifier, we can assume that factors like\n",
        "conscientious, intelligent, and so on are independent factors that are not influenced by variables\n",
        "other. This means that the formula above can be simplified as follows:"
      ]
    },
    {
      "cell_type": "markdown",
      "metadata": {
        "id": "NWn6gaIKtVzx"
      },
      "source": [
        "![image.png](data:image/png;base64,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)"
      ]
    },
    {
      "cell_type": "markdown",
      "metadata": {
        "id": "eqJMIRpNtWcd"
      },
      "source": [
        "# B. Naive Bayes in Scikit Learn"
      ]
    },
    {
      "cell_type": "markdown",
      "metadata": {
        "id": "xbmhoS6VDjnH"
      },
      "source": [
        "Scikit-learn provides several variations of the naive Bayes model that can be used, among others"
      ]
    },
    {
      "cell_type": "markdown",
      "metadata": {
        "id": "YMDQrPQ5Flf2"
      },
      "source": [
        "| Model Name | Module Name |\n",
        "| ----------- | --------- |\n",
        "| Gaussian Naive Bayes | `sklearn.naive_bayes.GaussianNB` |\n",
        "| Multinomial Naive Bayes | `sklearn.naive_bayes.MultinomialNB` |\n",
        "| Complement Naive Bayes | `sklearn.naive_bayes.ComplementNB` |\n",
        "| Bernoulli Naive Bayes | `sklearn.naive_bayes.BernoulliNB` |\n",
        "| Categorical Naive Bayes | `sklearn.naive_bayes.CategoricalNB` |\n",
        "\n",
        "The uses of each model include:\n",
        "- Gaussian Naive Bayes,\n",
        "This model is suitable for numerical data that follows a Gausian and continuous distribution.\n",
        "\n",
        "- Multinomial Naive Bayes,\n",
        "The assumption that the data used has a simple multinomial distribution. The multinomial distribution describes the probability of the amount of data in a number of categories so that the naive Bayes model is suitable for use on features that represent the number or rate of increase. An example is text classification where the features are related to the frequency of words in the document that you want to classify.\n",
        "\n",
        "- Complement,\n",
        "Complement naive Bayes is similar to multinomial naive Bayes. This model exists because the multinomial naive Bayes model does not perform well for imbalanced datasets where the data distribution is not uniform. As a result, the model data is easily overfitted following much larger amounts of data. This complement naive Bayes model is suitable for imbalanced datasets.\n",
        "https://towardsdatascience.com/comparing-a-variety-of-naive-bayes-classification-algorithms-fc5fa298379e\n",
        "\n",
        "- Bernoulli Naive Bayes,\n",
        "Bernouli is similar to multinomial but the data has a discrete form and is distributed in binary form, for example in gender data, binary hot encoding, etc. https://iq.opengenus.org/bernoulli-naive-bayes/\n",
        "\n",
        "- Categorical Naive Bayes,\n",
        "Naive Bayes model for data types whose values are categorically distributed. If the data you have is continuous then it must be transformed into discrete form first to use this model. For example, data on eye color, race, blood type, etc.\n",
        "https://inblog.in/Categorical-Naive-Bayes-Classifier-implementation-in-Python-dAVqLWkf7E\n",
        "\n",
        "\n",
        "More details can be seen in the module documentation [sklearn.naive_bayes](https://scikit-learn.org/stable/modules/naive_bayes.html)."
      ]
    },
    {
      "cell_type": "markdown",
      "metadata": {
        "id": "r62vIP5CHN5T"
      },
      "source": [
        "## Hands On"
      ]
    },
    {
      "cell_type": "markdown",
      "metadata": {
        "id": "az6GuQbqdDXl"
      },
      "source": [
        "The dataset in example.csv contains information about whether or not a caesarean section was performed by 80 pregnant women with characteristics of medically important birth problems.\n",
        "\n",
        "Dataset information:\n",
        "\n",
        "`Age` = Age\n",
        "\n",
        "`Delivery No` = Status (On time, premature, late)\n",
        "\n",
        "`Blood of Pressure` = Blood Pressure (low, normal, high)\n",
        "\n",
        "`Heart Problem` = Having heart disease problems (apt, inept)\n",
        "\n",
        "`Cesarian` = Caesarean section was performed (yes, no)\n",
        "\n",
        "Dataset source: https://www.kaggle.com/amir75/caesarean-section-classification"
      ]
    },
    {
      "cell_type": "markdown",
      "metadata": {
        "id": "c728y5edjLv-"
      },
      "source": [
        "## Import data"
      ]
    },
    {
      "cell_type": "code",
      "metadata": {
        "id": "mE7eR8eljT77",
        "colab": {
          "base_uri": "https://localhost:8080/",
          "height": 206
        },
        "outputId": "fbabac6d-64dc-43b6-be58-4b1f9a466507"
      },
      "source": [
        "# import library dan data\n",
        "import pandas as pd\n",
        "import numpy as np\n",
        "caesarian = pd.read_csv('https://raw.githubusercontent.com/iqrafarhan/KASDD/main/example.csv')\n",
        "caesarian.head()"
      ],
      "execution_count": null,
      "outputs": [
        {
          "output_type": "execute_result",
          "data": {
            "text/html": [
              "<div>\n",
              "<style scoped>\n",
              "    .dataframe tbody tr th:only-of-type {\n",
              "        vertical-align: middle;\n",
              "    }\n",
              "\n",
              "    .dataframe tbody tr th {\n",
              "        vertical-align: top;\n",
              "    }\n",
              "\n",
              "    .dataframe thead th {\n",
              "        text-align: right;\n",
              "    }\n",
              "</style>\n",
              "<table border=\"1\" class=\"dataframe\">\n",
              "  <thead>\n",
              "    <tr style=\"text-align: right;\">\n",
              "      <th></th>\n",
              "      <th>Age</th>\n",
              "      <th>Delivery No</th>\n",
              "      <th>Blood of Pressure</th>\n",
              "      <th>Heart Problem</th>\n",
              "      <th>Caesarian</th>\n",
              "    </tr>\n",
              "  </thead>\n",
              "  <tbody>\n",
              "    <tr>\n",
              "      <th>0</th>\n",
              "      <td>22</td>\n",
              "      <td>Timely</td>\n",
              "      <td>High</td>\n",
              "      <td>apt</td>\n",
              "      <td>No</td>\n",
              "    </tr>\n",
              "    <tr>\n",
              "      <th>1</th>\n",
              "      <td>26</td>\n",
              "      <td>Timely</td>\n",
              "      <td>Normal</td>\n",
              "      <td>apt</td>\n",
              "      <td>Yes</td>\n",
              "    </tr>\n",
              "    <tr>\n",
              "      <th>2</th>\n",
              "      <td>26</td>\n",
              "      <td>Premature</td>\n",
              "      <td>Normal</td>\n",
              "      <td>apt</td>\n",
              "      <td>No</td>\n",
              "    </tr>\n",
              "    <tr>\n",
              "      <th>3</th>\n",
              "      <td>28</td>\n",
              "      <td>Timely</td>\n",
              "      <td>High</td>\n",
              "      <td>apt</td>\n",
              "      <td>No</td>\n",
              "    </tr>\n",
              "    <tr>\n",
              "      <th>4</th>\n",
              "      <td>22</td>\n",
              "      <td>Timely</td>\n",
              "      <td>Normal</td>\n",
              "      <td>apt</td>\n",
              "      <td>Yes</td>\n",
              "    </tr>\n",
              "  </tbody>\n",
              "</table>\n",
              "</div>"
            ],
            "text/plain": [
              "   Age Delivery No Blood of Pressure Heart Problem Caesarian\n",
              "0   22      Timely              High           apt        No\n",
              "1   26      Timely            Normal           apt       Yes\n",
              "2   26   Premature            Normal           apt        No\n",
              "3   28      Timely              High           apt        No\n",
              "4   22      Timely            Normal           apt       Yes"
            ]
          },
          "metadata": {},
          "execution_count": 8
        }
      ]
    },
    {
      "cell_type": "code",
      "metadata": {
        "id": "mULuPI6TqrTk",
        "colab": {
          "base_uri": "https://localhost:8080/"
        },
        "outputId": "f79fdbb1-e1dd-4a21-8bd1-1e8b41f92122"
      },
      "source": [
        "#Find the number of unique values in a column of categorical type\n",
        "for col in caesarian.select_dtypes(include=object).columns:\n",
        "    print('No. of unique values in column '+col+':')\n",
        "    print(caesarian[col].value_counts(),'\\n')"
      ],
      "execution_count": null,
      "outputs": [
        {
          "output_type": "stream",
          "name": "stdout",
          "text": [
            "No. of unique values in column Delivery No:\n",
            "Timely       46\n",
            "Premature    17\n",
            "Latecomer    17\n",
            "Name: Delivery No, dtype: int64 \n",
            "\n",
            "No. of unique values in column Blood of Pressure:\n",
            "Normal    40\n",
            "High      20\n",
            "Low       20\n",
            "Name: Blood of Pressure, dtype: int64 \n",
            "\n",
            "No. of unique values in column Heart Problem:\n",
            "apt      50\n",
            "inept    30\n",
            "Name: Heart Problem, dtype: int64 \n",
            "\n",
            "No. of unique values in column Caesarian:\n",
            "Yes    46\n",
            "No     34\n",
            "Name: Caesarian, dtype: int64 \n",
            "\n"
          ]
        }
      ]
    },
    {
      "cell_type": "markdown",
      "metadata": {
        "id": "cSCNO2DdkIDj"
      },
      "source": [
        "## Independent Variables & Dependent Variable\n",
        "In this step, we will determine the variables that are the independent and dependent variables. The caesarian variable becomes the dependent variable and the other variables become independent variables."
      ]
    },
    {
      "cell_type": "markdown",
      "metadata": {
        "id": "RxhoXNQVHjqi"
      },
      "source": [
        "We will perform one hot encoding to convert our dataset into an integer data type so that it can be used in the model."
      ]
    },
    {
      "cell_type": "code",
      "metadata": {
        "id": "A8nhCkkvoDC1",
        "colab": {
          "base_uri": "https://localhost:8080/",
          "height": 223
        },
        "outputId": "4871526d-82ae-4167-9bb6-6f803688f2f8"
      },
      "source": [
        "# Proses Encoding menggunakan One-Hot encoding\n",
        "\n",
        "df_dummy = pd.get_dummies(caesarian,drop_first=True)\n",
        "df_dummy.head()"
      ],
      "execution_count": null,
      "outputs": [
        {
          "output_type": "execute_result",
          "data": {
            "text/html": [
              "<div>\n",
              "<style scoped>\n",
              "    .dataframe tbody tr th:only-of-type {\n",
              "        vertical-align: middle;\n",
              "    }\n",
              "\n",
              "    .dataframe tbody tr th {\n",
              "        vertical-align: top;\n",
              "    }\n",
              "\n",
              "    .dataframe thead th {\n",
              "        text-align: right;\n",
              "    }\n",
              "</style>\n",
              "<table border=\"1\" class=\"dataframe\">\n",
              "  <thead>\n",
              "    <tr style=\"text-align: right;\">\n",
              "      <th></th>\n",
              "      <th>Age</th>\n",
              "      <th>Delivery No_Premature</th>\n",
              "      <th>Delivery No_Timely</th>\n",
              "      <th>Blood of Pressure_Low</th>\n",
              "      <th>Blood of Pressure_Normal</th>\n",
              "      <th>Heart Problem_inept</th>\n",
              "      <th>Caesarian_Yes</th>\n",
              "    </tr>\n",
              "  </thead>\n",
              "  <tbody>\n",
              "    <tr>\n",
              "      <th>0</th>\n",
              "      <td>22</td>\n",
              "      <td>0</td>\n",
              "      <td>1</td>\n",
              "      <td>0</td>\n",
              "      <td>0</td>\n",
              "      <td>0</td>\n",
              "      <td>0</td>\n",
              "    </tr>\n",
              "    <tr>\n",
              "      <th>1</th>\n",
              "      <td>26</td>\n",
              "      <td>0</td>\n",
              "      <td>1</td>\n",
              "      <td>0</td>\n",
              "      <td>1</td>\n",
              "      <td>0</td>\n",
              "      <td>1</td>\n",
              "    </tr>\n",
              "    <tr>\n",
              "      <th>2</th>\n",
              "      <td>26</td>\n",
              "      <td>1</td>\n",
              "      <td>0</td>\n",
              "      <td>0</td>\n",
              "      <td>1</td>\n",
              "      <td>0</td>\n",
              "      <td>0</td>\n",
              "    </tr>\n",
              "    <tr>\n",
              "      <th>3</th>\n",
              "      <td>28</td>\n",
              "      <td>0</td>\n",
              "      <td>1</td>\n",
              "      <td>0</td>\n",
              "      <td>0</td>\n",
              "      <td>0</td>\n",
              "      <td>0</td>\n",
              "    </tr>\n",
              "    <tr>\n",
              "      <th>4</th>\n",
              "      <td>22</td>\n",
              "      <td>0</td>\n",
              "      <td>1</td>\n",
              "      <td>0</td>\n",
              "      <td>1</td>\n",
              "      <td>0</td>\n",
              "      <td>1</td>\n",
              "    </tr>\n",
              "  </tbody>\n",
              "</table>\n",
              "</div>"
            ],
            "text/plain": [
              "   Age  Delivery No_Premature  ...  Heart Problem_inept  Caesarian_Yes\n",
              "0   22                      0  ...                    0              0\n",
              "1   26                      0  ...                    0              1\n",
              "2   26                      1  ...                    0              0\n",
              "3   28                      0  ...                    0              0\n",
              "4   22                      0  ...                    0              1\n",
              "\n",
              "[5 rows x 7 columns]"
            ]
          },
          "metadata": {},
          "execution_count": 10
        }
      ]
    },
    {
      "cell_type": "code",
      "metadata": {
        "id": "86j_2EJKkHNb",
        "colab": {
          "base_uri": "https://localhost:8080/"
        },
        "outputId": "d227265f-1f20-4b3a-fe15-8e43dc5cdf3e"
      },
      "source": [
        "# Variabel independen\n",
        "x = df_dummy.drop([\"Caesarian_Yes\"], axis = 1)\n",
        "x.head()\n",
        "\n",
        "# Variabel dependen\n",
        "y = df_dummy[\"Caesarian_Yes\"]\n",
        "y.head()"
      ],
      "execution_count": null,
      "outputs": [
        {
          "output_type": "execute_result",
          "data": {
            "text/plain": [
              "0    0\n",
              "1    1\n",
              "2    0\n",
              "3    0\n",
              "4    1\n",
              "Name: Caesarian_Yes, dtype: uint8"
            ]
          },
          "metadata": {},
          "execution_count": 11
        }
      ]
    },
    {
      "cell_type": "markdown",
      "metadata": {
        "id": "gdgJQo5ikWpM"
      },
      "source": [
        "## Classification\n",
        "Classification using Naive Bayes is in the Sklearn package. This classification requires testing data and training data. We will take 20% of the existing data as a test. The following is the program code to determine testing data and training data."
      ]
    },
    {
      "cell_type": "code",
      "metadata": {
        "id": "sJUVcGANkZK3"
      },
      "source": [
        "# Splitting train and test data (0.2 test_size)\n",
        "\n",
        "from sklearn.model_selection import train_test_split\n",
        "x_train, x_test, y_train, y_test = train_test_split(x, y, test_size = 0.2, random_state = 123)"
      ],
      "execution_count": null,
      "outputs": []
    },
    {
      "cell_type": "markdown",
      "metadata": {
        "id": "OXlGgnORkcD4"
      },
      "source": [
        "After that, we will activate/call/create the Naive Bayes classification function and enter the training data into the Gaussian Naive Bayes classification function."
      ]
    },
    {
      "cell_type": "code",
      "metadata": {
        "id": "-zSeIylBkcfT"
      },
      "source": [
        "from sklearn.naive_bayes import GaussianNB\n",
        "# Activate/call/create the Naive Bayes classification function\n",
        "modelnb = GaussianNB()\n",
        "# Enter training data into the Naive Bayes classification function\n",
        "nbtrain = modelnb.fit(x_train, y_train)"
      ],
      "execution_count": null,
      "outputs": []
    },
    {
      "cell_type": "markdown",
      "metadata": {
        "id": "LdC-QBkPnQrz"
      },
      "source": [
        "The next step we will take is to determine the prediction results from x_test."
      ]
    },
    {
      "cell_type": "code",
      "metadata": {
        "id": "Do7QzKWsnMvw",
        "colab": {
          "base_uri": "https://localhost:8080/"
        },
        "outputId": "420b81f6-4cf7-4566-ea1b-2e98a87838b0"
      },
      "source": [
        "# Prediction of data test\n",
        "y_pred = nbtrain.predict(x_test)\n",
        "y_pred"
      ],
      "execution_count": null,
      "outputs": [
        {
          "output_type": "execute_result",
          "data": {
            "text/plain": [
              "array([1, 0, 1, 0, 1, 1, 1, 0, 0, 0, 0, 0, 0, 0, 0, 0], dtype=uint8)"
            ]
          },
          "metadata": {},
          "execution_count": 14
        }
      ]
    },
    {
      "cell_type": "markdown",
      "metadata": {
        "id": "uFnWX3C6nV6z"
      },
      "source": [
        "The program code output y_pred is the prediction result of a caesarean section. Then, we will compare these results with the actual data, namely y_test, using the following program code."
      ]
    },
    {
      "cell_type": "code",
      "metadata": {
        "id": "dag15K0JnVOH",
        "colab": {
          "base_uri": "https://localhost:8080/"
        },
        "outputId": "949afadb-542a-4580-d79e-ac579c80e1d4"
      },
      "source": [
        "# Array data test\n",
        "np.array(y_test)"
      ],
      "execution_count": null,
      "outputs": [
        {
          "output_type": "execute_result",
          "data": {
            "text/plain": [
              "array([0, 1, 1, 1, 0, 0, 1, 1, 0, 1, 1, 0, 0, 0, 0, 0], dtype=uint8)"
            ]
          },
          "metadata": {},
          "execution_count": 15
        }
      ]
    },
    {
      "cell_type": "markdown",
      "metadata": {
        "id": "9oVSH9TKoykT"
      },
      "source": [
        "## Confusion Matrix\n",
        "Confusion matrix is a matrix that contains prediction accuracy. The following is how to display a confusion matrix from Caesarian data."
      ]
    },
    {
      "cell_type": "code",
      "metadata": {
        "id": "Nk7AE2w8nfz9",
        "colab": {
          "base_uri": "https://localhost:8080/"
        },
        "outputId": "a23e0e63-6c3a-4b4c-a0a3-27a7738d68bd"
      },
      "source": [
        "from sklearn.metrics import confusion_matrix\n",
        "confusion_matrix(y_test, y_pred)"
      ],
      "execution_count": null,
      "outputs": [
        {
          "output_type": "execute_result",
          "data": {
            "text/plain": [
              "array([[6, 3],\n",
              "       [5, 2]])"
            ]
          },
          "metadata": {},
          "execution_count": 16
        }
      ]
    },
    {
      "cell_type": "markdown",
      "metadata": {
        "id": "LekPLEJzovgZ"
      },
      "source": [
        "The confusion matrix output above certainly makes it easier to read the accuracy of predictions, but we will tidy up the confusion matrix so that it is much easier for us to read it."
      ]
    },
    {
      "cell_type": "code",
      "metadata": {
        "id": "vQl2YxVvooNH",
        "colab": {
          "base_uri": "https://localhost:8080/",
          "height": 143
        },
        "outputId": "e9414c00-bb53-44cf-9744-b4e14332e8e5"
      },
      "source": [
        "# Tidying up the confusion matrix results\n",
        "y_actual = pd.Series(np.array(y_test), name = \"actual\")\n",
        "y_pred = pd.Series(np.array(y_pred), name = \"prediction\")\n",
        "df_confusion = pd.crosstab(y_actual, y_pred)\n",
        "df_confusion"
      ],
      "execution_count": null,
      "outputs": [
        {
          "output_type": "execute_result",
          "data": {
            "text/html": [
              "<div>\n",
              "<style scoped>\n",
              "    .dataframe tbody tr th:only-of-type {\n",
              "        vertical-align: middle;\n",
              "    }\n",
              "\n",
              "    .dataframe tbody tr th {\n",
              "        vertical-align: top;\n",
              "    }\n",
              "\n",
              "    .dataframe thead th {\n",
              "        text-align: right;\n",
              "    }\n",
              "</style>\n",
              "<table border=\"1\" class=\"dataframe\">\n",
              "  <thead>\n",
              "    <tr style=\"text-align: right;\">\n",
              "      <th>prediction</th>\n",
              "      <th>0</th>\n",
              "      <th>1</th>\n",
              "    </tr>\n",
              "    <tr>\n",
              "      <th>actual</th>\n",
              "      <th></th>\n",
              "      <th></th>\n",
              "    </tr>\n",
              "  </thead>\n",
              "  <tbody>\n",
              "    <tr>\n",
              "      <th>0</th>\n",
              "      <td>6</td>\n",
              "      <td>3</td>\n",
              "    </tr>\n",
              "    <tr>\n",
              "      <th>1</th>\n",
              "      <td>5</td>\n",
              "      <td>2</td>\n",
              "    </tr>\n",
              "  </tbody>\n",
              "</table>\n",
              "</div>"
            ],
            "text/plain": [
              "prediction  0  1\n",
              "actual          \n",
              "0           6  3\n",
              "1           5  2"
            ]
          },
          "metadata": {},
          "execution_count": 17
        }
      ]
    },
    {
      "cell_type": "markdown",
      "metadata": {
        "id": "h9i50pfio6BJ"
      },
      "source": [
        "In the output, we can see that there were 6 pregnant women who were predicted to have a normal delivery and in actual circumstances they actually had a normal delivery. Meanwhile, the number of pregnant women who were predicted to have a normal delivery but in actual circumstances gave birth by caesarean was also 5. Then, there were 2 pregnant women who were predicted to give birth by caesarean and in actual circumstances actually gave birth by caesarean. Meanwhile, there were 3 pregnant women who were predicted to give birth by caesarean section but in actual circumstances gave birth normally."
      ]
    },
    {
      "cell_type": "markdown",
      "metadata": {
        "id": "5EWbNEb_o8yJ"
      },
      "source": [
        "## Classification Report\n",
        "The final step we will take is to display the evaluation results of the classification using the Naive Bayes method."
      ]
    },
    {
      "cell_type": "code",
      "metadata": {
        "id": "M0r-kvWdo7H4",
        "colab": {
          "base_uri": "https://localhost:8080/"
        },
        "outputId": "d89aa513-f09f-451c-9c31-53b5b3df3d0c"
      },
      "source": [
        "# Creating classification report\n",
        "from sklearn.metrics import classification_report\n",
        "print(classification_report(y_test, y_pred))"
      ],
      "execution_count": null,
      "outputs": [
        {
          "output_type": "stream",
          "name": "stdout",
          "text": [
            "              precision    recall  f1-score   support\n",
            "\n",
            "           0       0.55      0.67      0.60         9\n",
            "           1       0.40      0.29      0.33         7\n",
            "\n",
            "    accuracy                           0.50        16\n",
            "   macro avg       0.47      0.48      0.47        16\n",
            "weighted avg       0.48      0.50      0.48        16\n",
            "\n"
          ]
        }
      ]
    },
    {
      "cell_type": "markdown",
      "metadata": {
        "id": "UEgRy4TntU8P"
      },
      "source": [
        "Drug Classification"
      ]
    },
    {
      "cell_type": "markdown",
      "metadata": {
        "id": "EzUL6wyDtZC_"
      },
      "source": [
        "In this lab session you are asked to apply naive Bayes classification to the `drug.csv` dataset."
      ]
    },
    {
      "cell_type": "markdown",
      "metadata": {
        "id": "gSFFDOjMzBBr"
      },
      "source": [
        "## Features in dataset drug.csv:\n",
        "`Age` : Age of the Patient\n",
        "\n",
        "`Sex` : Gender of the patients\n",
        "\n",
        "`BP` : Blood Pressure Levels\n",
        "\n",
        "`Cholestrol` : Cholestrol Levels\n",
        "\n",
        "`Na_to_K` : Sodium to potassium Ration in\n",
        "\n",
        "`Drug` : Drug Type"
      ]
    },
    {
      "cell_type": "markdown",
      "metadata": {
        "id": "7GkhZUQyt9MA"
      },
      "source": [
        "Dataset Description (number of attributes, number of data, number of invalid data, and simple exploration)"
      ]
    },
    {
      "cell_type": "code",
      "metadata": {
        "id": "hHYRquDPxYKS"
      },
      "source": [
        "# import library\n",
        "import matplotlib.pyplot as plt\n",
        "import numpy as np\n",
        "import os\n",
        "import pandas as pd\n",
        "\n",
        "import sys\n",
        "%matplotlib inline"
      ],
      "execution_count": null,
      "outputs": []
    },
    {
      "cell_type": "code",
      "metadata": {
        "id": "PGUYCV75xn5_",
        "colab": {
          "base_uri": "https://localhost:8080/",
          "height": 206
        },
        "outputId": "4c99b1a7-a1c1-420f-afcf-38e25d4aa3c3"
      },
      "source": [
        "# import dataset\n",
        "drug = pd.read_csv('https://raw.githubusercontent.com/iqrafarhan/KASDD/main/drug.csv')\n",
        "drug.head()"
      ],
      "execution_count": null,
      "outputs": [
        {
          "output_type": "execute_result",
          "data": {
            "text/html": [
              "<div>\n",
              "<style scoped>\n",
              "    .dataframe tbody tr th:only-of-type {\n",
              "        vertical-align: middle;\n",
              "    }\n",
              "\n",
              "    .dataframe tbody tr th {\n",
              "        vertical-align: top;\n",
              "    }\n",
              "\n",
              "    .dataframe thead th {\n",
              "        text-align: right;\n",
              "    }\n",
              "</style>\n",
              "<table border=\"1\" class=\"dataframe\">\n",
              "  <thead>\n",
              "    <tr style=\"text-align: right;\">\n",
              "      <th></th>\n",
              "      <th>Age</th>\n",
              "      <th>Sex</th>\n",
              "      <th>BP</th>\n",
              "      <th>Cholesterol</th>\n",
              "      <th>Na_to_K</th>\n",
              "      <th>Drug</th>\n",
              "    </tr>\n",
              "  </thead>\n",
              "  <tbody>\n",
              "    <tr>\n",
              "      <th>0</th>\n",
              "      <td>23</td>\n",
              "      <td>F</td>\n",
              "      <td>HIGH</td>\n",
              "      <td>HIGH</td>\n",
              "      <td>25.355</td>\n",
              "      <td>DrugY</td>\n",
              "    </tr>\n",
              "    <tr>\n",
              "      <th>1</th>\n",
              "      <td>47</td>\n",
              "      <td>M</td>\n",
              "      <td>LOW</td>\n",
              "      <td>HIGH</td>\n",
              "      <td>13.093</td>\n",
              "      <td>drugC</td>\n",
              "    </tr>\n",
              "    <tr>\n",
              "      <th>2</th>\n",
              "      <td>47</td>\n",
              "      <td>M</td>\n",
              "      <td>LOW</td>\n",
              "      <td>HIGH</td>\n",
              "      <td>10.114</td>\n",
              "      <td>drugC</td>\n",
              "    </tr>\n",
              "    <tr>\n",
              "      <th>3</th>\n",
              "      <td>28</td>\n",
              "      <td>F</td>\n",
              "      <td>NORMAL</td>\n",
              "      <td>HIGH</td>\n",
              "      <td>7.798</td>\n",
              "      <td>drugX</td>\n",
              "    </tr>\n",
              "    <tr>\n",
              "      <th>4</th>\n",
              "      <td>61</td>\n",
              "      <td>F</td>\n",
              "      <td>LOW</td>\n",
              "      <td>HIGH</td>\n",
              "      <td>18.043</td>\n",
              "      <td>DrugY</td>\n",
              "    </tr>\n",
              "  </tbody>\n",
              "</table>\n",
              "</div>"
            ],
            "text/plain": [
              "   Age Sex      BP Cholesterol  Na_to_K   Drug\n",
              "0   23   F    HIGH        HIGH   25.355  DrugY\n",
              "1   47   M     LOW        HIGH   13.093  drugC\n",
              "2   47   M     LOW        HIGH   10.114  drugC\n",
              "3   28   F  NORMAL        HIGH    7.798  drugX\n",
              "4   61   F     LOW        HIGH   18.043  DrugY"
            ]
          },
          "metadata": {},
          "execution_count": 20
        }
      ]
    },
    {
      "cell_type": "code",
      "metadata": {
        "id": "6tSyAVTzxrnn",
        "colab": {
          "base_uri": "https://localhost:8080/"
        },
        "outputId": "aaa22ecf-187d-4aa4-cd90-15a3b9155f2b"
      },
      "source": [
        "# View data information for each dataset column\n",
        "drug.info()"
      ],
      "execution_count": null,
      "outputs": [
        {
          "output_type": "stream",
          "name": "stdout",
          "text": [
            "<class 'pandas.core.frame.DataFrame'>\n",
            "RangeIndex: 200 entries, 0 to 199\n",
            "Data columns (total 6 columns):\n",
            " #   Column       Non-Null Count  Dtype  \n",
            "---  ------       --------------  -----  \n",
            " 0   Age          200 non-null    int64  \n",
            " 1   Sex          200 non-null    object \n",
            " 2   BP           200 non-null    object \n",
            " 3   Cholesterol  200 non-null    object \n",
            " 4   Na_to_K      200 non-null    float64\n",
            " 5   Drug         200 non-null    object \n",
            "dtypes: float64(1), int64(1), object(4)\n",
            "memory usage: 9.5+ KB\n"
          ]
        }
      ]
    },
    {
      "cell_type": "code",
      "metadata": {
        "id": "0LVr1Jx4xpBY",
        "colab": {
          "base_uri": "https://localhost:8080/",
          "height": 391
        },
        "outputId": "37265239-9147-479a-bb12-1f2aec7f7ed5"
      },
      "source": [
        "# EDA\n",
        "import seaborn as sns\n",
        "sns.pairplot(drug,hue ='Drug')"
      ],
      "execution_count": null,
      "outputs": [
        {
          "output_type": "execute_result",
          "data": {
            "text/plain": [
              "<seaborn.axisgrid.PairGrid at 0x7fa097494e10>"
            ]
          },
          "metadata": {},
          "execution_count": 22
        },
        {
          "output_type": "display_data",
          "data": {
            "image/png": "[encoded data removed]",
            "text/plain": [
              "<Figure size 426.625x360 with 6 Axes>"
            ]
          },
          "metadata": {
            "needs_background": "light"
          }
        }
      ]
    },
    {
      "cell_type": "code",
      "metadata": {
        "id": "1lVkhwUGxzaU"
      },
      "source": [
        "# Preprocessing menggunakan LabelEncoder\n",
        "from sklearn.preprocessing import LabelEncoder\n",
        "label=LabelEncoder()\n",
        "drug['Sex'] = label.fit_transform(drug['Sex'])\n",
        "drug['BP'] = label.fit_transform(drug['BP'])\n",
        "drug['Cholesterol'] = label.fit_transform(drug['Cholesterol'])"
      ],
      "execution_count": null,
      "outputs": []
    },
    {
      "cell_type": "markdown",
      "metadata": {
        "id": "GA6Gsq90OZFm"
      },
      "source": [
        "From the dataset provided, the graph above shows that the data has a normal distribution, so the naive Bayes model that is suitable to use is the Gaussian model."
      ]
    },
    {
      "cell_type": "markdown",
      "metadata": {
        "id": "F3q3DfaYLak0"
      },
      "source": [
        "Looking at the distribution of the dataset, the suitable model to use is the Gausian Naive Bayes model."
      ]
    },
    {
      "cell_type": "markdown",
      "metadata": {
        "id": "mDCDcAiivTw0"
      },
      "source": [
        "Split the dataset into features and target classes (fraudulent & winner) into the variables `X` and `y` respectively. Divide the dataset into 80% *training* data and 20% *testing* data. Train using the Naive Bayes algorithm that you chose in question number 1 using training data and use the algorithm that has been trained to make predictions on testing data."
      ]
    },
    {
      "cell_type": "code",
      "metadata": {
        "colab": {
          "base_uri": "https://localhost:8080/",
          "height": 206
        },
        "id": "0axWb2FZAagp",
        "outputId": "37341443-dff7-4d13-f03d-6b921fef1f13"
      },
      "source": [
        "drug.head()"
      ],
      "execution_count": null,
      "outputs": [
        {
          "output_type": "execute_result",
          "data": {
            "text/html": [
              "<div>\n",
              "<style scoped>\n",
              "    .dataframe tbody tr th:only-of-type {\n",
              "        vertical-align: middle;\n",
              "    }\n",
              "\n",
              "    .dataframe tbody tr th {\n",
              "        vertical-align: top;\n",
              "    }\n",
              "\n",
              "    .dataframe thead th {\n",
              "        text-align: right;\n",
              "    }\n",
              "</style>\n",
              "<table border=\"1\" class=\"dataframe\">\n",
              "  <thead>\n",
              "    <tr style=\"text-align: right;\">\n",
              "      <th></th>\n",
              "      <th>Age</th>\n",
              "      <th>Sex</th>\n",
              "      <th>BP</th>\n",
              "      <th>Cholesterol</th>\n",
              "      <th>Na_to_K</th>\n",
              "      <th>Drug</th>\n",
              "    </tr>\n",
              "  </thead>\n",
              "  <tbody>\n",
              "    <tr>\n",
              "      <th>0</th>\n",
              "      <td>23</td>\n",
              "      <td>0</td>\n",
              "      <td>0</td>\n",
              "      <td>0</td>\n",
              "      <td>25.355</td>\n",
              "      <td>DrugY</td>\n",
              "    </tr>\n",
              "    <tr>\n",
              "      <th>1</th>\n",
              "      <td>47</td>\n",
              "      <td>1</td>\n",
              "      <td>1</td>\n",
              "      <td>0</td>\n",
              "      <td>13.093</td>\n",
              "      <td>drugC</td>\n",
              "    </tr>\n",
              "    <tr>\n",
              "      <th>2</th>\n",
              "      <td>47</td>\n",
              "      <td>1</td>\n",
              "      <td>1</td>\n",
              "      <td>0</td>\n",
              "      <td>10.114</td>\n",
              "      <td>drugC</td>\n",
              "    </tr>\n",
              "    <tr>\n",
              "      <th>3</th>\n",
              "      <td>28</td>\n",
              "      <td>0</td>\n",
              "      <td>2</td>\n",
              "      <td>0</td>\n",
              "      <td>7.798</td>\n",
              "      <td>drugX</td>\n",
              "    </tr>\n",
              "    <tr>\n",
              "      <th>4</th>\n",
              "      <td>61</td>\n",
              "      <td>0</td>\n",
              "      <td>1</td>\n",
              "      <td>0</td>\n",
              "      <td>18.043</td>\n",
              "      <td>DrugY</td>\n",
              "    </tr>\n",
              "  </tbody>\n",
              "</table>\n",
              "</div>"
            ],
            "text/plain": [
              "   Age  Sex  BP  Cholesterol  Na_to_K   Drug\n",
              "0   23    0   0            0   25.355  DrugY\n",
              "1   47    1   1            0   13.093  drugC\n",
              "2   47    1   1            0   10.114  drugC\n",
              "3   28    0   2            0    7.798  drugX\n",
              "4   61    0   1            0   18.043  DrugY"
            ]
          },
          "metadata": {},
          "execution_count": 26
        }
      ]
    },
    {
      "cell_type": "code",
      "metadata": {
        "id": "T3J-a--Qm8Rv"
      },
      "source": [
        "# Independent variable\n",
        "x = drug.drop([\"Drug\"], axis = 1)\n",
        "x.head()\n",
        "\n",
        "# Dependent variable\n",
        "y = drugs[\"Drugs\"]\n",
        "y.head()\n",
        "\n",
        "from sklearn.model_selection import train_test_split\n",
        "x_train, x_test, y_train, y_test = train_test_split(x, y, test_size = 0.2, random_state = 123)"
      ],
      "execution_count": null,
      "outputs": []
    },
    {
      "cell_type": "code",
      "metadata": {
        "id": "GegfIoNxCDiU"
      },
      "source": [
        "from sklearn.naive_bayes import GaussianNB\n",
        "# Activate/call/create the Naive Bayes classification function\n",
        "modelnb = GaussianNB()\n",
        "# Enter training data into the Naive Bayes classification function\n",
        "nbtrain = modelnb.fit(x_train, y_train)"
      ],
      "execution_count": null,
      "outputs": []
    },
    {
      "cell_type": "code",
      "metadata": {
        "colab": {
          "base_uri": "https://localhost:8080/"
        },
        "id": "KRH4C6GDCND3",
        "outputId": "5f334cf2-82f5-4e32-da1f-ec2b1a5bbb89"
      },
      "source": [
        "# Prediction of test data\n",
        "y_pred = nbtrain.predict(x_test)\n",
        "y_pred"
      ],
      "execution_count": null,
      "outputs": [
        {
          "output_type": "execute_result",
          "data": {
            "text/plain": [
              "array(['DrugY', 'drugX', 'drugX', 'drugC', 'DrugY', 'DrugY', 'DrugY',\n",
              "       'drugA', 'drugX', 'drugC', 'drugC', 'DrugY', 'drugX', 'DrugY',\n",
              "       'drugB', 'drugB', 'drugC', 'DrugY', 'drugA', 'DrugY', 'DrugY',\n",
              "       'DrugY', 'DrugY', 'drugX', 'DrugY', 'drugX', 'DrugY', 'DrugY',\n",
              "       'drugA', 'DrugY', 'drugX', 'DrugY', 'drugA', 'DrugY', 'drugB',\n",
              "       'DrugY', 'DrugY', 'drugX', 'drugX', 'drugA'], dtype='<U5')"
            ]
          },
          "metadata": {},
          "execution_count": 29
        }
      ]
    },
    {
      "cell_type": "code",
      "metadata": {
        "colab": {
          "base_uri": "https://localhost:8080/"
        },
        "id": "pdkMsinRCe92",
        "outputId": "ea39595f-1ade-412f-dd51-940e6f417e93"
      },
      "source": [
        "from sklearn.metrics import confusion_matrix\n",
        "confusion_matrix(y_test, y_pred)"
      ],
      "execution_count": null,
      "outputs": [
        {
          "output_type": "execute_result",
          "data": {
            "text/plain": [
              "array([[19,  3,  0,  1,  0],\n",
              "       [ 0,  2,  0,  0,  0],\n",
              "       [ 0,  0,  3,  0,  0],\n",
              "       [ 0,  0,  0,  3,  0],\n",
              "       [ 0,  0,  0,  0,  9]])"
            ]
          },
          "metadata": {},
          "execution_count": 30
        }
      ]
    },
    {
      "cell_type": "code",
      "metadata": {
        "colab": {
          "base_uri": "https://localhost:8080/",
          "height": 237
        },
        "id": "af0PNhwgCpYb",
        "outputId": "305c2226-a633-4fc3-c253-7154239dad31"
      },
      "source": [
        "# Tidying up the confusion matrix results\n",
        "y_actual = pd.Series(np.array(y_test), name = \"actual\")\n",
        "y_pred = pd.Series(np.array(y_pred), name = \"prediction\")\n",
        "df_confusion = pd.crosstab(y_actual, y_pred)\n",
        "df_confusion"
      ],
      "execution_count": null,
      "outputs": [
        {
          "output_type": "execute_result",
          "data": {
            "text/html": [
              "<div>\n",
              "<style scoped>\n",
              "    .dataframe tbody tr th:only-of-type {\n",
              "        vertical-align: middle;\n",
              "    }\n",
              "\n",
              "    .dataframe tbody tr th {\n",
              "        vertical-align: top;\n",
              "    }\n",
              "\n",
              "    .dataframe thead th {\n",
              "        text-align: right;\n",
              "    }\n",
              "</style>\n",
              "<table border=\"1\" class=\"dataframe\">\n",
              "  <thead>\n",
              "    <tr style=\"text-align: right;\">\n",
              "      <th>prediction</th>\n",
              "      <th>DrugY</th>\n",
              "      <th>drugA</th>\n",
              "      <th>drugB</th>\n",
              "      <th>drugC</th>\n",
              "      <th>drugX</th>\n",
              "    </tr>\n",
              "    <tr>\n",
              "      <th>actual</th>\n",
              "      <th></th>\n",
              "      <th></th>\n",
              "      <th></th>\n",
              "      <th></th>\n",
              "      <th></th>\n",
              "    </tr>\n",
              "  </thead>\n",
              "  <tbody>\n",
              "    <tr>\n",
              "      <th>DrugY</th>\n",
              "      <td>19</td>\n",
              "      <td>3</td>\n",
              "      <td>0</td>\n",
              "      <td>1</td>\n",
              "      <td>0</td>\n",
              "    </tr>\n",
              "    <tr>\n",
              "      <th>drugA</th>\n",
              "      <td>0</td>\n",
              "      <td>2</td>\n",
              "      <td>0</td>\n",
              "      <td>0</td>\n",
              "      <td>0</td>\n",
              "    </tr>\n",
              "    <tr>\n",
              "      <th>drugB</th>\n",
              "      <td>0</td>\n",
              "      <td>0</td>\n",
              "      <td>3</td>\n",
              "      <td>0</td>\n",
              "      <td>0</td>\n",
              "    </tr>\n",
              "    <tr>\n",
              "      <th>drugC</th>\n",
              "      <td>0</td>\n",
              "      <td>0</td>\n",
              "      <td>0</td>\n",
              "      <td>3</td>\n",
              "      <td>0</td>\n",
              "    </tr>\n",
              "    <tr>\n",
              "      <th>drugX</th>\n",
              "      <td>0</td>\n",
              "      <td>0</td>\n",
              "      <td>0</td>\n",
              "      <td>0</td>\n",
              "      <td>9</td>\n",
              "    </tr>\n",
              "  </tbody>\n",
              "</table>\n",
              "</div>"
            ],
            "text/plain": [
              "prediction  DrugY  drugA  drugB  drugC  drugX\n",
              "actual                                       \n",
              "DrugY          19      3      0      1      0\n",
              "drugA           0      2      0      0      0\n",
              "drugB           0      0      3      0      0\n",
              "drugC           0      0      0      3      0\n",
              "drugX           0      0      0      0      9"
            ]
          },
          "metadata": {},
          "execution_count": 31
        }
      ]
    },
    {
      "cell_type": "markdown",
      "metadata": {
        "id": "qLkFycmlvnGV"
      },
      "source": [
        "Evaluation"
      ]
    },
    {
      "cell_type": "code",
      "metadata": {
        "id": "6Vb6q9-7m1eJ",
        "colab": {
          "base_uri": "https://localhost:8080/"
        },
        "outputId": "f1af22c0-8316-4181-e09d-70ccbecad473"
      },
      "source": [
        "# Creating classification report\n",
        "from sklearn.metrics import classification_report\n",
        "print(classification_report(y_test, y_pred))"
      ],
      "execution_count": null,
      "outputs": [
        {
          "output_type": "stream",
          "name": "stdout",
          "text": [
            "              precision    recall  f1-score   support\n",
            "\n",
            "       DrugY       1.00      0.83      0.90        23\n",
            "       drugA       0.40      1.00      0.57         2\n",
            "       drugB       1.00      1.00      1.00         3\n",
            "       drugC       0.75      1.00      0.86         3\n",
            "       drugX       1.00      1.00      1.00         9\n",
            "\n",
            "    accuracy                           0.90        40\n",
            "   macro avg       0.83      0.97      0.87        40\n",
            "weighted avg       0.95      0.90      0.91        40\n",
            "\n"
          ]
        }
      ]
    },
    {
      "cell_type": "markdown",
      "metadata": {
        "id": "VvVxJ3RWMLRA"
      },
      "source": [
        "Each Naive Bayes algorithm is actually created for certain types of data, such as Gaussian for numerical data, Bernoulli for data with a binary distribution, and so on. One idea or strategy for handling mixed data cases using Naive Bayes is to change the mixed data into one type of data. In the case of the dataset above, an operation was carried out to convert categorical data into numerical data so that the Gaussian model could be used. In the dataset above there are features that are encoded into numerical type data. So, what is categorical is only the target of the data that you want to execute."
      ]
    }
  ]
}