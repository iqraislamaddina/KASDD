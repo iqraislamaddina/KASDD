{
  "nbformat": 4,
  "nbformat_minor": 0,
  "metadata": {
    "colab": {
      "provenance": []
    },
    "kernelspec": {
      "display_name": "Python 3",
      "language": "python",
      "name": "python3"
    },
    "language_info": {
      "codemirror_mode": {
        "name": "ipython",
        "version": 3
      },
      "file_extension": ".py",
      "mimetype": "text/x-python",
      "name": "python",
      "nbconvert_exporter": "python",
      "pygments_lexer": "ipython3",
      "version": "3.8.1"
    }
  },
  "cells": [
    {
      "cell_type": "markdown",
      "metadata": {
        "id": "b-rPY0F5Vevh"
      },
      "source": [
        "## **Preprocessing on Titanic Dataset**\n",
        "\n",
        "Source: ToT Microcredential AI-Data Science Director General of Higher Education, with several changes"
      ]
    },
    {
      "cell_type": "markdown",
      "metadata": {
        "id": "ThEcWldxOVFe"
      },
      "source": [
        "### Import Library dan Data"
      ]
    },
    {
      "cell_type": "code",
      "metadata": {
        "id": "o0LtLOPfOVFl"
      },
      "source": [
        "import pandas as pd\n",
        "import numpy as np\n",
        "\n",
        "import matplotlib.pyplot as plt\n",
        "import seaborn as sns\n",
        "import scipy.stats as scp\n",
        "\n",
        "from sklearn.preprocessing import LabelEncoder, Normalizer, StandardScaler"
      ],
      "execution_count": null,
      "outputs": []
    },
    {
      "cell_type": "code",
      "metadata": {
        "id": "jJsIcJGWOVFo"
      },
      "source": [
        "titanic1 = pd.read_csv('https://raw.githubusercontent.com/iqrafarhan/KASDD/main/data_titanic1.csv')"
      ],
      "execution_count": null,
      "outputs": []
    },
    {
      "cell_type": "code",
      "metadata": {
        "id": "fHeTQl_1OVFp",
        "colab": {
          "base_uri": "https://localhost:8080/"
        },
        "outputId": "72d0c425-b495-47d8-f8e3-de6c8fb83147"
      },
      "source": [
        "# Print data dimensions\n",
        "print(\"data: \", titanic1.shape)"
      ],
      "execution_count": null,
      "outputs": [
        {
          "output_type": "stream",
          "name": "stdout",
          "text": [
            "data:  (900, 14)\n"
          ]
        }
      ]
    },
    {
      "cell_type": "code",
      "metadata": {
        "id": "TLc6noNLOVFr",
        "colab": {
          "base_uri": "https://localhost:8080/"
        },
        "outputId": "4e71ee1f-31fe-47b1-f795-ea6a48d961ec"
      },
      "source": [
        "# Read the columns in the DataFrame\n",
        "titanic1.info()"
      ],
      "execution_count": null,
      "outputs": [
        {
          "output_type": "stream",
          "name": "stdout",
          "text": [
            "<class 'pandas.core.frame.DataFrame'>\n",
            "RangeIndex: 900 entries, 0 to 899\n",
            "Data columns (total 14 columns):\n",
            " #   Column     Non-Null Count  Dtype  \n",
            "---  ------     --------------  -----  \n",
            " 0   pclass     900 non-null    int64  \n",
            " 1   survived   900 non-null    int64  \n",
            " 2   name       900 non-null    object \n",
            " 3   sex        900 non-null    object \n",
            " 4   age        804 non-null    float64\n",
            " 5   sibsp      900 non-null    int64  \n",
            " 6   parch      900 non-null    int64  \n",
            " 7   ticket     900 non-null    object \n",
            " 8   fare       900 non-null    float64\n",
            " 9   cabin      281 non-null    object \n",
            " 10  embarked   898 non-null    object \n",
            " 11  boat       389 non-null    object \n",
            " 12  body       90 non-null     float64\n",
            " 13  home.dest  742 non-null    object \n",
            "dtypes: float64(3), int64(4), object(7)\n",
            "memory usage: 98.6+ KB\n"
          ]
        }
      ]
    },
    {
      "cell_type": "markdown",
      "metadata": {
        "id": "j9pb-VsmOVFs"
      },
      "source": [
        "### **Variable Descriptions:**\n",
        "\n",
        "`pclass`:          Passenger Class\n",
        "                (1 = 1st; 2 = 2nd; 3 = 3rd)\n",
        "\n",
        "`survival`:        Survival\n",
        "                (0 = No; 1 = Yes)\n",
        "\n",
        "`name`:           Name\n",
        "\n",
        "`sex`:             Sex\n",
        "\n",
        "`age`:             Age\n",
        "\n",
        "`sibsp`:           Number of Siblings/Spouses Aboard\n",
        "\n",
        "`parch`:           Number of Parents/Children Aboard\n",
        "\n",
        "`ticket`:          Ticket Number\n",
        "\n",
        "`fare`:            Passenger Fare\n",
        "\n",
        "`cabin`:           Cabin\n",
        "\n",
        "`embarked`:        Port of Embarkation\n",
        "                (C = Cherbourg; Q = Queenstown; S = Southampton)\n",
        "\n",
        "`boat`:            Lifeboat\n",
        "\n",
        "`body`:            Body Identification Number\n",
        "\n",
        "`home.dest`:       Home/Destination\n",
        "\n",
        "**SPECIAL NOTES:**\n",
        "\n",
        "`pclass` is a proxy for socio-economic status (SES)\n",
        "\n",
        " 1st ~ Upper; 2nd ~ Middle; 3rd ~ Lower\n",
        "\n",
        "`pclass` mengacu pada kelas penumpang (1, 2, 3) yang merepresentasikan kelas sosial ekonomi."
      ]
    },
    {
      "cell_type": "code",
      "metadata": {
        "id": "nJaxL3fNOVFu"
      },
      "source": [
        "titanic1.head()"
      ],
      "execution_count": null,
      "outputs": []
    },
    {
      "cell_type": "markdown",
      "metadata": {
        "id": "svLumBnvOVFv"
      },
      "source": [
        "### Basic Summary Statistic"
      ]
    },
    {
      "cell_type": "code",
      "metadata": {
        "id": "RdUnkeRvOVFv"
      },
      "source": [
        "titanic1.describe()"
      ],
      "execution_count": null,
      "outputs": []
    },
    {
      "cell_type": "markdown",
      "metadata": {
        "id": "zOVsKq4-XXR2"
      },
      "source": [
        "With the \"describe\" method we get basic statistics for numeric attributes.\n",
        "\n",
        "What can be observed?\n",
        "In the \"fare\" attribute, the standard deviation appears high, far above the mean, it is necessary to look further at the data distribution."
      ]
    },
    {
      "cell_type": "code",
      "metadata": {
        "id": "rn2CQNiqgK4A",
        "colab": {
          "base_uri": "https://localhost:8080/",
          "height": 175
        },
        "outputId": "c8c438eb-768e-4762-8526-6e4c1175f4ff"
      },
      "source": [
        "# Displays a summary of non numerical attributes\n",
        "display(titanic1.describe(include=np.object))"
      ],
      "execution_count": null,
      "outputs": [
        {
          "output_type": "display_data",
          "data": {
            "text/html": [
              "<div>\n",
              "<style scoped>\n",
              "    .dataframe tbody tr th:only-of-type {\n",
              "        vertical-align: middle;\n",
              "    }\n",
              "\n",
              "    .dataframe tbody tr th {\n",
              "        vertical-align: top;\n",
              "    }\n",
              "\n",
              "    .dataframe thead th {\n",
              "        text-align: right;\n",
              "    }\n",
              "</style>\n",
              "<table border=\"1\" class=\"dataframe\">\n",
              "  <thead>\n",
              "    <tr style=\"text-align: right;\">\n",
              "      <th></th>\n",
              "      <th>name</th>\n",
              "      <th>sex</th>\n",
              "      <th>ticket</th>\n",
              "      <th>cabin</th>\n",
              "      <th>embarked</th>\n",
              "      <th>boat</th>\n",
              "      <th>home.dest</th>\n",
              "    </tr>\n",
              "  </thead>\n",
              "  <tbody>\n",
              "    <tr>\n",
              "      <th>count</th>\n",
              "      <td>900</td>\n",
              "      <td>900</td>\n",
              "      <td>900</td>\n",
              "      <td>281</td>\n",
              "      <td>898</td>\n",
              "      <td>389</td>\n",
              "      <td>742</td>\n",
              "    </tr>\n",
              "    <tr>\n",
              "      <th>unique</th>\n",
              "      <td>899</td>\n",
              "      <td>2</td>\n",
              "      <td>617</td>\n",
              "      <td>178</td>\n",
              "      <td>3</td>\n",
              "      <td>25</td>\n",
              "      <td>366</td>\n",
              "    </tr>\n",
              "    <tr>\n",
              "      <th>top</th>\n",
              "      <td>Connolly, Miss. Kate</td>\n",
              "      <td>male</td>\n",
              "      <td>CA 2144</td>\n",
              "      <td>C23 C25 C27</td>\n",
              "      <td>S</td>\n",
              "      <td>4</td>\n",
              "      <td>New York, NY</td>\n",
              "    </tr>\n",
              "    <tr>\n",
              "      <th>freq</th>\n",
              "      <td>2</td>\n",
              "      <td>560</td>\n",
              "      <td>8</td>\n",
              "      <td>6</td>\n",
              "      <td>637</td>\n",
              "      <td>31</td>\n",
              "      <td>64</td>\n",
              "    </tr>\n",
              "  </tbody>\n",
              "</table>\n",
              "</div>"
            ],
            "text/plain": [
              "                        name   sex   ticket  ... embarked boat     home.dest\n",
              "count                    900   900      900  ...      898  389           742\n",
              "unique                   899     2      617  ...        3   25           366\n",
              "top     Connolly, Miss. Kate  male  CA 2144  ...        S    4  New York, NY\n",
              "freq                       2   560        8  ...      637   31            64\n",
              "\n",
              "[4 rows x 7 columns]"
            ]
          },
          "metadata": {}
        }
      ]
    },
    {
      "cell_type": "markdown",
      "metadata": {
        "id": "M0qUBTe_z-Rd"
      },
      "source": [
        "In the table above, \"unique\" indicates how many variations there are in the values in an attribute.\n",
        "If \"unique\" is 1, the attribute can be removed, because its value is the same for all rows."
      ]
    },
    {
      "cell_type": "code",
      "metadata": {
        "id": "kKVHi9L-OVFw"
      },
      "source": [
        "# Plot several columns to see their frequency distribution\n",
        "def countplot(column):\n",
        "    return sns.countplot(x= column, data= titanic1)"
      ],
      "execution_count": null,
      "outputs": []
    },
    {
      "cell_type": "code",
      "metadata": {
        "id": "FgsVsOaOOVFx",
        "colab": {
          "base_uri": "https://localhost:8080/",
          "height": 297
        },
        "outputId": "4d59638f-6e97-4982-d3bf-bd50068c22a2"
      },
      "source": [
        "countplot('pclass')"
      ],
      "execution_count": null,
      "outputs": [
        {
          "output_type": "execute_result",
          "data": {
            "text/plain": [
              "<matplotlib.axes._subplots.AxesSubplot at 0x7f23d71418d0>"
            ]
          },
          "metadata": {},
          "execution_count": 6
        },
        {
          "output_type": "display_data",
          "data": {
            "image/png": "[encoded data removed]",
            "text/plain": [
              "<Figure size 432x288 with 1 Axes>"
            ]
          },
          "metadata": {
            "needs_background": "light"
          }
        }
      ]
    },
    {
      "cell_type": "markdown",
      "metadata": {
        "id": "MkhbKU6-z-Re"
      },
      "source": [
        "Based on the plot above, it can be seen that the highest frequency is class 1 (upper social economic status)."
      ]
    },
    {
      "cell_type": "code",
      "metadata": {
        "id": "eSx2cSccOVFy"
      },
      "source": [
        "countplot('survived')"
      ],
      "execution_count": null,
      "outputs": []
    },
    {
      "cell_type": "markdown",
      "metadata": {
        "id": "J2oE58L9z-Rf"
      },
      "source": [
        "Based on the plot above, it can be seen that fewer passengers survived."
      ]
    },
    {
      "cell_type": "code",
      "metadata": {
        "id": "W4f-aGxWOVFy"
      },
      "source": [
        "countplot('embarked')"
      ],
      "execution_count": null,
      "outputs": []
    },
    {
      "cell_type": "markdown",
      "metadata": {
        "id": "NxdAv3jHz-Rg"
      },
      "source": [
        "Based on the plot above, it can be seen that Southampton has the most embarkations."
      ]
    },
    {
      "cell_type": "code",
      "metadata": {
        "id": "55Gf3Nl7OVFz"
      },
      "source": [
        "countplot('sex')"
      ],
      "execution_count": null,
      "outputs": []
    },
    {
      "cell_type": "markdown",
      "metadata": {
        "id": "8HkabFIhz-Rg"
      },
      "source": [
        "Based on the plot above, it can be seen that there are fewer female passengers than male passengers."
      ]
    },
    {
      "cell_type": "code",
      "metadata": {
        "id": "3I1MSu5hX8W-",
        "colab": {
          "base_uri": "https://localhost:8080/",
          "height": 269
        },
        "outputId": "c9b592fc-64b2-4c54-b111-9c33ce5a4aec"
      },
      "source": [
        "# Get the correlation value (Person coefficient) of a numeric attribute, with the \"corr\" method\n",
        "titanic1.corr(method='pearson')"
      ],
      "execution_count": null,
      "outputs": [
        {
          "output_type": "execute_result",
          "data": {
            "text/html": [
              "<div>\n",
              "<style scoped>\n",
              "    .dataframe tbody tr th:only-of-type {\n",
              "        vertical-align: middle;\n",
              "    }\n",
              "\n",
              "    .dataframe tbody tr th {\n",
              "        vertical-align: top;\n",
              "    }\n",
              "\n",
              "    .dataframe thead th {\n",
              "        text-align: right;\n",
              "    }\n",
              "</style>\n",
              "<table border=\"1\" class=\"dataframe\">\n",
              "  <thead>\n",
              "    <tr style=\"text-align: right;\">\n",
              "      <th></th>\n",
              "      <th>pclass</th>\n",
              "      <th>survived</th>\n",
              "      <th>age</th>\n",
              "      <th>sibsp</th>\n",
              "      <th>parch</th>\n",
              "      <th>fare</th>\n",
              "      <th>body</th>\n",
              "    </tr>\n",
              "  </thead>\n",
              "  <tbody>\n",
              "    <tr>\n",
              "      <th>pclass</th>\n",
              "      <td>1.000000</td>\n",
              "      <td>-0.300993</td>\n",
              "      <td>-0.407413</td>\n",
              "      <td>0.048759</td>\n",
              "      <td>0.041097</td>\n",
              "      <td>-0.523887</td>\n",
              "      <td>-0.060393</td>\n",
              "    </tr>\n",
              "    <tr>\n",
              "      <th>survived</th>\n",
              "      <td>-0.300993</td>\n",
              "      <td>1.000000</td>\n",
              "      <td>-0.080387</td>\n",
              "      <td>0.050267</td>\n",
              "      <td>0.139735</td>\n",
              "      <td>0.251140</td>\n",
              "      <td>NaN</td>\n",
              "    </tr>\n",
              "    <tr>\n",
              "      <th>age</th>\n",
              "      <td>-0.407413</td>\n",
              "      <td>-0.080387</td>\n",
              "      <td>1.000000</td>\n",
              "      <td>-0.192277</td>\n",
              "      <td>-0.157046</td>\n",
              "      <td>0.164158</td>\n",
              "      <td>0.000347</td>\n",
              "    </tr>\n",
              "    <tr>\n",
              "      <th>sibsp</th>\n",
              "      <td>0.048759</td>\n",
              "      <td>0.050267</td>\n",
              "      <td>-0.192277</td>\n",
              "      <td>1.000000</td>\n",
              "      <td>0.403285</td>\n",
              "      <td>0.155961</td>\n",
              "      <td>0.077668</td>\n",
              "    </tr>\n",
              "    <tr>\n",
              "      <th>parch</th>\n",
              "      <td>0.041097</td>\n",
              "      <td>0.139735</td>\n",
              "      <td>-0.157046</td>\n",
              "      <td>0.403285</td>\n",
              "      <td>1.000000</td>\n",
              "      <td>0.222607</td>\n",
              "      <td>-0.031701</td>\n",
              "    </tr>\n",
              "    <tr>\n",
              "      <th>fare</th>\n",
              "      <td>-0.523887</td>\n",
              "      <td>0.251140</td>\n",
              "      <td>0.164158</td>\n",
              "      <td>0.155961</td>\n",
              "      <td>0.222607</td>\n",
              "      <td>1.000000</td>\n",
              "      <td>-0.040643</td>\n",
              "    </tr>\n",
              "    <tr>\n",
              "      <th>body</th>\n",
              "      <td>-0.060393</td>\n",
              "      <td>NaN</td>\n",
              "      <td>0.000347</td>\n",
              "      <td>0.077668</td>\n",
              "      <td>-0.031701</td>\n",
              "      <td>-0.040643</td>\n",
              "      <td>1.000000</td>\n",
              "    </tr>\n",
              "  </tbody>\n",
              "</table>\n",
              "</div>"
            ],
            "text/plain": [
              "            pclass  survived       age     sibsp     parch      fare      body\n",
              "pclass    1.000000 -0.300993 -0.407413  0.048759  0.041097 -0.523887 -0.060393\n",
              "survived -0.300993  1.000000 -0.080387  0.050267  0.139735  0.251140       NaN\n",
              "age      -0.407413 -0.080387  1.000000 -0.192277 -0.157046  0.164158  0.000347\n",
              "sibsp     0.048759  0.050267 -0.192277  1.000000  0.403285  0.155961  0.077668\n",
              "parch     0.041097  0.139735 -0.157046  0.403285  1.000000  0.222607 -0.031701\n",
              "fare     -0.523887  0.251140  0.164158  0.155961  0.222607  1.000000 -0.040643\n",
              "body     -0.060393       NaN  0.000347  0.077668 -0.031701 -0.040643  1.000000"
            ]
          },
          "metadata": {},
          "execution_count": 8
        }
      ]
    },
    {
      "cell_type": "code",
      "metadata": {
        "id": "dq-Sep5uX8W-"
      },
      "source": [
        "# Get the correlation value of a nonnumeric attribute, with the \"chi2\" method\n",
        "def compute_freq_chi2(x,y):\n",
        "    freqtab = pd.crosstab(x,y)\n",
        "    print(\"Frequency table\")\n",
        "    print(\"============================\")\n",
        "    print(freqtab)\n",
        "    print(\"============================\")\n",
        "    chi2,pval,dof,expected = scp.chi2_contingency(freqtab)\n",
        "    print(\"ChiSquare test statistic: \",chi2)\n",
        "    print(\"p-value: \",pval)\n",
        "    return"
      ],
      "execution_count": null,
      "outputs": []
    },
    {
      "cell_type": "markdown",
      "metadata": {
        "id": "IUY-hoSsX8W_"
      },
      "source": [
        "Chi-square can be used to see the influence or correlation of two categorical and measuring variables\n",
        "the strength of the relationship between one variable and another\n",
        "other categorical variables. In a more general sense, chi-square is useful for seeing whether the distributions of categorical variables differ from each other."
      ]
    },
    {
      "cell_type": "code",
      "metadata": {
        "id": "0vbo2OJzX8W_",
        "colab": {
          "base_uri": "https://localhost:8080/"
        },
        "outputId": "82d18d6e-0fa4-4698-a2e5-90109afd4ace"
      },
      "source": [
        "# Correlation between survived and pclass\n",
        "compute_freq_chi2(titanic1.survived,titanic1.pclass)"
      ],
      "execution_count": null,
      "outputs": [
        {
          "output_type": "stream",
          "name": "stdout",
          "text": [
            "Frequency table\n",
            "============================\n",
            "pclass      1    2    3\n",
            "survived               \n",
            "0         123  158  222\n",
            "1         200  119   78\n",
            "============================\n",
            "ChiSquare test statistic:  81.61469423204498\n",
            "p-value:  1.894935039255057e-18\n"
          ]
        }
      ]
    },
    {
      "cell_type": "markdown",
      "metadata": {
        "id": "hAAJQXOhX8W_"
      },
      "source": [
        "More than 200 class 3 passengers did not survive."
      ]
    },
    {
      "cell_type": "code",
      "metadata": {
        "id": "X_qQpK_iX8W_"
      },
      "source": [
        "# Correlation between survived and embarked\n",
        "compute_freq_chi2(titanic1.survived,titanic1.embarked)"
      ],
      "execution_count": null,
      "outputs": []
    },
    {
      "cell_type": "markdown",
      "metadata": {
        "id": "zxVz9cqAX8W_"
      },
      "source": [
        "Most of the S's embarkations were not survived"
      ]
    },
    {
      "cell_type": "markdown",
      "metadata": {
        "id": "KTqxFIrFX8W_"
      },
      "source": [
        "# Data Preprocessing\n",
        "\n",
        "*Data Preparation* or *data preprocessing* is a process of cleaning and transforming *raw data* before it is processed and analyzed. In some prediction algorithms, special *preprocessing* is needed so that the algorithm can run well.\n",
        "\n",
        "**DISCLAIMER!** In this example, *preprocessing* is\n",
        "carried out is intended for algorithms that have the following characteristics:\n",
        "* sensitive to outliers\n",
        "* the features need to have an equivalent range"
      ]
    },
    {
      "cell_type": "markdown",
      "metadata": {
        "id": "2SXTNT1aX8XA"
      },
      "source": [
        "### **Redundancy/duplicates**"
      ]
    },
    {
      "cell_type": "code",
      "metadata": {
        "id": "u8oCqRzOX8XA"
      },
      "source": [
        "# Import data_titanic2\n",
        "titanic2 = pd.read_csv('https://raw.githubusercontent.com/iqrafarhan/KASDD/main/data_titanic2.csv')"
      ],
      "execution_count": null,
      "outputs": []
    },
    {
      "cell_type": "code",
      "metadata": {
        "id": "VuVSyMppX8XA"
      },
      "source": [
        "# Menggabungkan dua data frame\n",
        "frames = [titanic1, titanic2]\n",
        "merged_titanic = pd.concat(frames).reset_index(drop=True)"
      ],
      "execution_count": null,
      "outputs": []
    },
    {
      "cell_type": "code",
      "metadata": {
        "id": "GKjsU5_VX8XA",
        "colab": {
          "base_uri": "https://localhost:8080/"
        },
        "outputId": "877b2372-0c1b-4b78-fee1-66fbf701e4f8"
      },
      "source": [
        "merged_titanic.shape"
      ],
      "execution_count": null,
      "outputs": [
        {
          "output_type": "execute_result",
          "data": {
            "text/plain": [
              "(1359, 14)"
            ]
          },
          "metadata": {},
          "execution_count": 12
        }
      ]
    },
    {
      "cell_type": "markdown",
      "metadata": {
        "id": "IYSkaOtpX8XA"
      },
      "source": [
        "(a) Checking redudancy"
      ]
    },
    {
      "cell_type": "code",
      "metadata": {
        "id": "t1rYJG0bX8XA",
        "colab": {
          "base_uri": "https://localhost:8080/",
          "height": 175
        },
        "outputId": "041d9c23-c970-4ce5-ad85-5188dff7485f"
      },
      "source": [
        "merged_titanic.duplicated(keep=False).sum()"
      ],
      "execution_count": null,
      "outputs": [
        {
          "output_type": "display_data",
          "data": {
            "text/html": [
              "<div>\n",
              "<style scoped>\n",
              "    .dataframe tbody tr th:only-of-type {\n",
              "        vertical-align: middle;\n",
              "    }\n",
              "\n",
              "    .dataframe tbody tr th {\n",
              "        vertical-align: top;\n",
              "    }\n",
              "\n",
              "    .dataframe thead th {\n",
              "        text-align: right;\n",
              "    }\n",
              "</style>\n",
              "<table border=\"1\" class=\"dataframe\">\n",
              "  <thead>\n",
              "    <tr style=\"text-align: right;\">\n",
              "      <th></th>\n",
              "      <th>name</th>\n",
              "      <th>sex</th>\n",
              "      <th>ticket</th>\n",
              "      <th>cabin</th>\n",
              "      <th>embarked</th>\n",
              "      <th>boat</th>\n",
              "      <th>home.dest</th>\n",
              "    </tr>\n",
              "  </thead>\n",
              "  <tbody>\n",
              "    <tr>\n",
              "      <th>count</th>\n",
              "      <td>1359</td>\n",
              "      <td>1359</td>\n",
              "      <td>1359</td>\n",
              "      <td>335</td>\n",
              "      <td>1357</td>\n",
              "      <td>520</td>\n",
              "      <td>788</td>\n",
              "    </tr>\n",
              "    <tr>\n",
              "      <th>unique</th>\n",
              "      <td>1307</td>\n",
              "      <td>2</td>\n",
              "      <td>929</td>\n",
              "      <td>186</td>\n",
              "      <td>3</td>\n",
              "      <td>27</td>\n",
              "      <td>369</td>\n",
              "    </tr>\n",
              "    <tr>\n",
              "      <th>top</th>\n",
              "      <td>Butt, Major. Archibald Willingham</td>\n",
              "      <td>male</td>\n",
              "      <td>CA. 2343</td>\n",
              "      <td>C22 C26</td>\n",
              "      <td>S</td>\n",
              "      <td>13</td>\n",
              "      <td>New York, NY</td>\n",
              "    </tr>\n",
              "    <tr>\n",
              "      <th>freq</th>\n",
              "      <td>2</td>\n",
              "      <td>869</td>\n",
              "      <td>11</td>\n",
              "      <td>8</td>\n",
              "      <td>942</td>\n",
              "      <td>39</td>\n",
              "      <td>72</td>\n",
              "    </tr>\n",
              "  </tbody>\n",
              "</table>\n",
              "</div>"
            ],
            "text/plain": [
              "                                     name   sex  ... boat     home.dest\n",
              "count                                1359  1359  ...  520           788\n",
              "unique                               1307     2  ...   27           369\n",
              "top     Butt, Major. Archibald Willingham  male  ...   13  New York, NY\n",
              "freq                                    2   869  ...   39            72\n",
              "\n",
              "[4 rows x 7 columns]"
            ]
          },
          "metadata": {}
        }
      ]
    },
    {
      "cell_type": "markdown",
      "metadata": {
        "id": "IdA7rWr7fwbY"
      },
      "source": [
        "Yes there is redundancy/duplication == 100 rows / Redundancy == 50."
      ]
    },
    {
      "cell_type": "markdown",
      "metadata": {
        "id": "vkNX_N4NX8XB"
      },
      "source": [
        "(b) What can you do to deal with such data redundancies?"
      ]
    },
    {
      "cell_type": "code",
      "metadata": {
        "id": "FeInjJa0X8XB",
        "colab": {
          "base_uri": "https://localhost:8080/"
        },
        "outputId": "72dbd6f5-df7d-4b6f-c4b7-5b8b9a40ed2c"
      },
      "source": [
        "# dropping duplicate values\n",
        "merged_titanic = merged_titanic.drop_duplicates()"
      ],
      "execution_count": null,
      "outputs": [
        {
          "output_type": "execute_result",
          "data": {
            "text/plain": [
              "50"
            ]
          },
          "metadata": {},
          "execution_count": 14
        }
      ]
    },
    {
      "cell_type": "markdown",
      "metadata": {
        "id": "u8ouzc0khYYy"
      },
      "source": [
        "Using drop duplicate to delete duplicate values"
      ]
    },
    {
      "cell_type": "markdown",
      "metadata": {
        "id": "eXgJR7fEX8XB"
      },
      "source": [
        "Redundancy causes data to become inconsistent and messy, so that the information produced from the data is inaccurate or wrong. Redundancy can also cause the database to be less efficient, redundant, and the database size to be larger than it should be."
      ]
    },
    {
      "cell_type": "markdown",
      "metadata": {
        "id": "18v2FKJzjcPQ"
      },
      "source": [
        "## Outlier"
      ]
    },
    {
      "cell_type": "markdown",
      "metadata": {
        "id": "GN-hQ0_1vUel"
      },
      "source": [
        "Outlier merupakan observasi yang tidak biasa yang muncul pada salah satu titik ekstrim dari sebagian besar data. Titik ekstrim di sini adalah nilai yang terlalu kecil atau nilai yang terlalu besar jika dibandingkan dengan sebagian besar nilai lain dalam kelompoknya."
      ]
    },
    {
      "cell_type": "markdown",
      "metadata": {
        "id": "eKcNhMswxqnd"
      },
      "source": [
        "Outliers can be handled by doing the following:\n",
        "\n",
        "* If the percentage of outliers is not significant, a possible option is drop column/row.\n",
        "* If the data is relatively small, a possible option is to fill in with certain statistical values. Filling in data can be done by:\n",
        "   * Average value\n",
        "   * Median value\n",
        "   * Mode value\n",
        "* If there is a human error, then the possible option is to fix it manually.\n",
        "* If the data is assumed to be normal, then outliers can be left alone."
      ]
    },
    {
      "cell_type": "code",
      "metadata": {
        "id": "q2E1LoKwOVF0",
        "scrolled": true,
        "colab": {
          "base_uri": "https://localhost:8080/",
          "height": 297
        },
        "outputId": "cefdaa86-c793-480c-edfa-0660b1c6ed23"
      },
      "source": [
        "merged_titanic.plot.scatter(x=\"fare\", y='survived', figsize=(6,4))"
      ],
      "execution_count": null,
      "outputs": [
        {
          "output_type": "execute_result",
          "data": {
            "text/plain": [
              "<matplotlib.axes._subplots.AxesSubplot at 0x7f23d6654750>"
            ]
          },
          "metadata": {},
          "execution_count": 15
        },
        {
          "output_type": "display_data",
          "data": {
            "image/png": "[encoded data removed]",
            "text/plain": [
              "<Figure size 432x288 with 1 Axes>"
            ]
          },
          "metadata": {
            "needs_background": "light"
          }
        }
      ]
    },
    {
      "cell_type": "markdown",
      "metadata": {
        "id": "af03UEXVz-Rh"
      },
      "source": [
        "From the scatter plot above, it can be seen that there are very large fare values (outliers) for passengers who survived."
      ]
    },
    {
      "cell_type": "code",
      "metadata": {
        "id": "02ShW0HTOVF7",
        "colab": {
          "base_uri": "https://localhost:8080/",
          "height": 283
        },
        "outputId": "641f190a-3863-4bd9-8a99-8866f81f2eb8"
      },
      "source": [
        "data = merged_titanic.drop(['survived'],axis=1)\n",
        "data.boxplot(figsize=(20,3))"
      ],
      "execution_count": null,
      "outputs": [
        {
          "output_type": "stream",
          "name": "stderr",
          "text": [
            "/usr/local/lib/python3.7/dist-packages/numpy/core/_asarray.py:83: VisibleDeprecationWarning: Creating an ndarray from ragged nested sequences (which is a list-or-tuple of lists-or-tuples-or ndarrays with different lengths or shapes) is deprecated. If you meant to do this, you must specify 'dtype=object' when creating the ndarray\n",
            "  return array(a, dtype, copy=False, order=order)\n"
          ]
        },
        {
          "output_type": "execute_result",
          "data": {
            "text/plain": [
              "<matplotlib.axes._subplots.AxesSubplot at 0x7f23d65dfad0>"
            ]
          },
          "metadata": {},
          "execution_count": 16
        },
        {
          "output_type": "display_data",
          "data": {
            "image/png": "[encoded data removed]",
            "text/plain": [
              "<Figure size 1440x216 with 1 Axes>"
            ]
          },
          "metadata": {
            "needs_background": "light"
          }
        }
      ]
    },
    {
      "cell_type": "markdown",
      "metadata": {
        "id": "l2Mz6B6Ylku7"
      },
      "source": [
        "Boxplots can also be used to show the presence of outliers. The main part of the boxplot is a box that presents the interquartile range (IQR). The lines that are an extension of the box are called whiskers. Values that are above or below the whisker are called outlier or extreme values."
      ]
    },
    {
      "cell_type": "markdown",
      "metadata": {
        "id": "Qs6DEaIu0_-3"
      },
      "source": [
        "(a) From the boxplot you see, which attribute contains the most outliers?\n",
        "\n",
        "> It can be seen in the boxplot above that the attribute that contains the most outliers is Fare, looking at the points whose position is outside the box or IQR."
      ]
    },
    {
      "cell_type": "markdown",
      "metadata": {
        "id": "9clvzQNg7MRx"
      },
      "source": [
        "(b) Implement code to display the number of outliers in that attribute!"
      ]
    },
    {
      "cell_type": "code",
      "metadata": {
        "id": "9FNJvGOyz-Rj",
        "colab": {
          "base_uri": "https://localhost:8080/"
        },
        "outputId": "6eee44c2-9509-48e6-c57d-d90fd548d24f"
      },
      "source": [
        "merge_clean = merged_titanic.drop_duplicates()\n",
        "fare = merge_clean[\"fare\"]\n",
        "q1 = fare.quantile(.25)\n",
        "q3 = fare.quantile(.75)\n",
        "IQR = q3 - q1\n",
        "lower = q1 - 1.5 * IQR\n",
        "upper = q3 + 1.5 * IQR\n",
        "\n",
        "outlier = merge_clean[(merge_clean['fare'] > upper) | (merge_clean['fare'] < lower)]\n",
        "outlier['fare'].count()"
      ],
      "execution_count": null,
      "outputs": [
        {
          "output_type": "execute_result",
          "data": {
            "text/plain": [
              "171"
            ]
          },
          "metadata": {},
          "execution_count": 71
        }
      ]
    },
    {
      "cell_type": "markdown",
      "metadata": {
        "id": "5RQY2V2PqL1s"
      },
      "source": [
        "There are 171 outliers."
      ]
    },
    {
      "cell_type": "markdown",
      "metadata": {
        "id": "geavZvdUfKX5"
      },
      "source": [
        "Here I overcome this by removing the outliers from the existing dataframe. Another alternative is to replace the outlier values with the most appropriate central tendency."
      ]
    },
    {
      "cell_type": "code",
      "metadata": {
        "id": "vMBAr9Rb7cFd",
        "colab": {
          "base_uri": "https://localhost:8080/"
        },
        "outputId": "02e9b215-0a23-4b3d-dbbe-ba70f12816f4"
      },
      "source": [
        "remove = merge_clean.drop(merge_clean[(merge_clean['fare'] > upper) | (merge_clean['fare'] < lower)].index)\n",
        "\n",
        "outlier = remove[(remove['fare'] > upper) | (remove['fare'] < lower)]\n",
        "outlier['fare'].count()"
      ],
      "execution_count": null,
      "outputs": [
        {
          "output_type": "execute_result",
          "data": {
            "text/plain": [
              "0"
            ]
          },
          "metadata": {},
          "execution_count": 64
        }
      ]
    },
    {
      "cell_type": "markdown",
      "metadata": {
        "id": "bd-aKJ9lwI0O"
      },
      "source": [
        "## Missing Values"
      ]
    },
    {
      "cell_type": "markdown",
      "metadata": {
        "id": "ZdkXMlUHWxzY"
      },
      "source": [
        "Sometimes the data may be in the correct format, but some values are missing.\n",
        "\n",
        "* Missing values occur when there are no data values stored for a variable (feature) in an observation.\n",
        "* Usually missing values in the dataset appear as “?”, “N/A”, 0 or just empty cells."
      ]
    },
    {
      "cell_type": "markdown",
      "metadata": {
        "id": "tw3zM_5DY3C6"
      },
      "source": [
        "To handle missing values, there is no single answer that always works for all scenarios, because of course the handling of missing values must be adjusted to the condition of the data or features that have missing values. However, there are several general options that can be considered, namely:\n",
        "\n",
        "* Check again with the person/group collecting the data.\n",
        "* If we don't know the missing values, a possible option is to delete/drop missing values.\n",
        "     * Delete columns containing missing values, or\n",
        "     * Deleted several rows of data that contained missing values.\n",
        "* If there is relatively little data, a possible option is to replace missing values.\n",
        "     * Replacing missing values with the overall mean value of the variable.\n",
        "     * If the variable is non-numeric, replace the missing value with frequency/mode.\n",
        "* If we assume the data will still be useful even if there are missing features, then we can allow missing values."
      ]
    },
    {
      "cell_type": "code",
      "metadata": {
        "id": "jxmLWlatOVF8"
      },
      "source": [
        "# Cek missing value\n",
        "def cek_null(df):\n",
        "    col_na = df.isnull().sum().sort_values(ascending=False)\n",
        "    percent = col_na / len(df)\n",
        "\n",
        "    missing_data = pd.concat([col_na, percent], axis=1, keys=['Total', 'Percent'])\n",
        "    print(missing_data[missing_data['Total'] > 0])"
      ],
      "execution_count": null,
      "outputs": []
    },
    {
      "cell_type": "code",
      "metadata": {
        "id": "G_vYn8ZxOVF9",
        "colab": {
          "base_uri": "https://localhost:8080/"
        },
        "outputId": "fff3bda6-d5b1-4eea-fa3c-1736a3434db0"
      },
      "source": [
        "cek_null(merged_titanic)"
      ],
      "execution_count": null,
      "outputs": [
        {
          "output_type": "stream",
          "name": "stdout",
          "text": [
            "           Total   Percent\n",
            "body        1233  0.907285\n",
            "cabin       1024  0.753495\n",
            "boat         839  0.617366\n",
            "home.dest    571  0.420162\n",
            "age          267  0.196468\n",
            "embarked       2  0.001472\n",
            "fare           1  0.000736\n"
          ]
        }
      ]
    },
    {
      "cell_type": "markdown",
      "metadata": {
        "id": "E6VwvbP5z-Rk"
      },
      "source": [
        "There are several attributes that have a lot of null values, the body attribute has the most null values, up to 90%, \"cabin\" up to 77%."
      ]
    },
    {
      "cell_type": "code",
      "metadata": {
        "id": "1Lf9rpqPpQUe",
        "colab": {
          "base_uri": "https://localhost:8080/"
        },
        "outputId": "62f41274-b1b7-4c71-cdc3-cb06b6bb6dc2"
      },
      "source": [
        "# View the contents of the cabin (first 20 rows)\n",
        "merged_titanic['cabin'].head(20)"
      ],
      "execution_count": null,
      "outputs": [
        {
          "output_type": "execute_result",
          "data": {
            "text/plain": [
              "0          B5\n",
              "1     C22 C26\n",
              "2     C22 C26\n",
              "3     C22 C26\n",
              "4     C22 C26\n",
              "5         E12\n",
              "6          D7\n",
              "7         A36\n",
              "8        C101\n",
              "9         NaN\n",
              "10    C62 C64\n",
              "11    C62 C64\n",
              "12        B35\n",
              "13        NaN\n",
              "14        A23\n",
              "15        NaN\n",
              "16    B58 B60\n",
              "17    B58 B60\n",
              "18        D15\n",
              "19         C6\n",
              "Name: cabin, dtype: object"
            ]
          },
          "metadata": {},
          "execution_count": 78
        }
      ]
    },
    {
      "cell_type": "code",
      "metadata": {
        "id": "wDg6qTcuOVF-",
        "colab": {
          "base_uri": "https://localhost:8080/"
        },
        "outputId": "bc136a54-c619-44b7-a48f-9b23901683b3"
      },
      "source": [
        "# See how many passengers survive in each cabin\n",
        " (merged_titanic\n",
        " .groupby([merged_titanic.cabin.str[:1],'survived'])\n",
        " .survived\n",
        " .count()\n",
        " .unstack())"
      ],
      "execution_count": null,
      "outputs": [
        {
          "output_type": "execute_result",
          "data": {
            "text/html": [
              "<div>\n",
              "<style scoped>\n",
              "    .dataframe tbody tr th:only-of-type {\n",
              "        vertical-align: middle;\n",
              "    }\n",
              "\n",
              "    .dataframe tbody tr th {\n",
              "        vertical-align: top;\n",
              "    }\n",
              "\n",
              "    .dataframe thead th {\n",
              "        text-align: right;\n",
              "    }\n",
              "</style>\n",
              "<table border=\"1\" class=\"dataframe\">\n",
              "  <thead>\n",
              "    <tr style=\"text-align: right;\">\n",
              "      <th>survived</th>\n",
              "      <th>0</th>\n",
              "      <th>1</th>\n",
              "    </tr>\n",
              "    <tr>\n",
              "      <th>cabin</th>\n",
              "      <th></th>\n",
              "      <th></th>\n",
              "    </tr>\n",
              "  </thead>\n",
              "  <tbody>\n",
              "    <tr>\n",
              "      <th>A</th>\n",
              "      <td>13.0</td>\n",
              "      <td>13.0</td>\n",
              "    </tr>\n",
              "    <tr>\n",
              "      <th>B</th>\n",
              "      <td>21.0</td>\n",
              "      <td>54.0</td>\n",
              "    </tr>\n",
              "    <tr>\n",
              "      <th>C</th>\n",
              "      <td>42.0</td>\n",
              "      <td>67.0</td>\n",
              "    </tr>\n",
              "    <tr>\n",
              "      <th>D</th>\n",
              "      <td>15.0</td>\n",
              "      <td>37.0</td>\n",
              "    </tr>\n",
              "    <tr>\n",
              "      <th>E</th>\n",
              "      <td>11.0</td>\n",
              "      <td>34.0</td>\n",
              "    </tr>\n",
              "    <tr>\n",
              "      <th>F</th>\n",
              "      <td>8.0</td>\n",
              "      <td>13.0</td>\n",
              "    </tr>\n",
              "    <tr>\n",
              "      <th>G</th>\n",
              "      <td>2.0</td>\n",
              "      <td>3.0</td>\n",
              "    </tr>\n",
              "    <tr>\n",
              "      <th>T</th>\n",
              "      <td>2.0</td>\n",
              "      <td>NaN</td>\n",
              "    </tr>\n",
              "  </tbody>\n",
              "</table>\n",
              "</div>"
            ],
            "text/plain": [
              "survived     0     1\n",
              "cabin               \n",
              "A         13.0  13.0\n",
              "B         21.0  54.0\n",
              "C         42.0  67.0\n",
              "D         15.0  37.0\n",
              "E         11.0  34.0\n",
              "F          8.0  13.0\n",
              "G          2.0   3.0\n",
              "T          2.0   NaN"
            ]
          },
          "metadata": {},
          "execution_count": 79
        }
      ]
    },
    {
      "cell_type": "code",
      "metadata": {
        "id": "F98RNY5-OVF_",
        "colab": {
          "base_uri": "https://localhost:8080/"
        },
        "outputId": "7eaf7f09-fb0f-473a-a6bd-3de615b59ae4"
      },
      "source": [
        "# See the average fare in each cabin, for groups that survived and did not survive\n",
        " (merged_titanic\n",
        " .groupby([merged_titanic.cabin.str[:1],'survived'])\n",
        " .fare\n",
        " .mean()\n",
        " .unstack())"
      ],
      "execution_count": null,
      "outputs": [
        {
          "output_type": "execute_result",
          "data": {
            "text/html": [
              "<div>\n",
              "<style scoped>\n",
              "    .dataframe tbody tr th:only-of-type {\n",
              "        vertical-align: middle;\n",
              "    }\n",
              "\n",
              "    .dataframe tbody tr th {\n",
              "        vertical-align: top;\n",
              "    }\n",
              "\n",
              "    .dataframe thead th {\n",
              "        text-align: right;\n",
              "    }\n",
              "</style>\n",
              "<table border=\"1\" class=\"dataframe\">\n",
              "  <thead>\n",
              "    <tr style=\"text-align: right;\">\n",
              "      <th>survived</th>\n",
              "      <th>0</th>\n",
              "      <th>1</th>\n",
              "    </tr>\n",
              "    <tr>\n",
              "      <th>cabin</th>\n",
              "      <th></th>\n",
              "      <th></th>\n",
              "    </tr>\n",
              "  </thead>\n",
              "  <tbody>\n",
              "    <tr>\n",
              "      <th>A</th>\n",
              "      <td>31.257692</td>\n",
              "      <td>45.578838</td>\n",
              "    </tr>\n",
              "    <tr>\n",
              "      <th>B</th>\n",
              "      <td>80.909914</td>\n",
              "      <td>145.013430</td>\n",
              "    </tr>\n",
              "    <tr>\n",
              "      <th>C</th>\n",
              "      <td>116.593655</td>\n",
              "      <td>105.865612</td>\n",
              "    </tr>\n",
              "    <tr>\n",
              "      <th>D</th>\n",
              "      <td>45.313047</td>\n",
              "      <td>57.320054</td>\n",
              "    </tr>\n",
              "    <tr>\n",
              "      <th>E</th>\n",
              "      <td>46.431436</td>\n",
              "      <td>57.904168</td>\n",
              "    </tr>\n",
              "    <tr>\n",
              "      <th>F</th>\n",
              "      <td>11.241150</td>\n",
              "      <td>22.287500</td>\n",
              "    </tr>\n",
              "    <tr>\n",
              "      <th>G</th>\n",
              "      <td>10.462500</td>\n",
              "      <td>16.700000</td>\n",
              "    </tr>\n",
              "    <tr>\n",
              "      <th>T</th>\n",
              "      <td>35.500000</td>\n",
              "      <td>NaN</td>\n",
              "    </tr>\n",
              "  </tbody>\n",
              "</table>\n",
              "</div>"
            ],
            "text/plain": [
              "survived           0           1\n",
              "cabin                           \n",
              "A          31.257692   45.578838\n",
              "B          80.909914  145.013430\n",
              "C         116.593655  105.865612\n",
              "D          45.313047   57.320054\n",
              "E          46.431436   57.904168\n",
              "F          11.241150   22.287500\n",
              "G          10.462500   16.700000\n",
              "T          35.500000         NaN"
            ]
          },
          "metadata": {},
          "execution_count": 80
        }
      ]
    },
    {
      "cell_type": "code",
      "metadata": {
        "id": "SaljTpbZqsvH",
        "colab": {
          "base_uri": "https://localhost:8080/"
        },
        "outputId": "4a5756b1-5b2e-4ce6-a198-0d405d079356"
      },
      "source": [
        "# Drop attributes that are considered unimportant\n",
        "titanic_cleaned = merged_titanic.drop(['name', 'ticket', 'body', 'cabin','home.dest'], axis=1)\n",
        "titanic_cleaned.head()"
      ],
      "execution_count": null,
      "outputs": [
        {
          "output_type": "execute_result",
          "data": {
            "text/html": [
              "<div>\n",
              "<style scoped>\n",
              "    .dataframe tbody tr th:only-of-type {\n",
              "        vertical-align: middle;\n",
              "    }\n",
              "\n",
              "    .dataframe tbody tr th {\n",
              "        vertical-align: top;\n",
              "    }\n",
              "\n",
              "    .dataframe thead th {\n",
              "        text-align: right;\n",
              "    }\n",
              "</style>\n",
              "<table border=\"1\" class=\"dataframe\">\n",
              "  <thead>\n",
              "    <tr style=\"text-align: right;\">\n",
              "      <th></th>\n",
              "      <th>pclass</th>\n",
              "      <th>survived</th>\n",
              "      <th>sex</th>\n",
              "      <th>age</th>\n",
              "      <th>sibsp</th>\n",
              "      <th>parch</th>\n",
              "      <th>fare</th>\n",
              "      <th>embarked</th>\n",
              "      <th>boat</th>\n",
              "    </tr>\n",
              "  </thead>\n",
              "  <tbody>\n",
              "    <tr>\n",
              "      <th>0</th>\n",
              "      <td>1</td>\n",
              "      <td>1</td>\n",
              "      <td>female</td>\n",
              "      <td>29.00</td>\n",
              "      <td>0</td>\n",
              "      <td>0</td>\n",
              "      <td>211.3375</td>\n",
              "      <td>S</td>\n",
              "      <td>2</td>\n",
              "    </tr>\n",
              "    <tr>\n",
              "      <th>1</th>\n",
              "      <td>1</td>\n",
              "      <td>1</td>\n",
              "      <td>male</td>\n",
              "      <td>0.92</td>\n",
              "      <td>1</td>\n",
              "      <td>2</td>\n",
              "      <td>151.5500</td>\n",
              "      <td>S</td>\n",
              "      <td>11</td>\n",
              "    </tr>\n",
              "    <tr>\n",
              "      <th>2</th>\n",
              "      <td>1</td>\n",
              "      <td>0</td>\n",
              "      <td>female</td>\n",
              "      <td>2.00</td>\n",
              "      <td>1</td>\n",
              "      <td>2</td>\n",
              "      <td>151.5500</td>\n",
              "      <td>S</td>\n",
              "      <td>NaN</td>\n",
              "    </tr>\n",
              "    <tr>\n",
              "      <th>3</th>\n",
              "      <td>1</td>\n",
              "      <td>0</td>\n",
              "      <td>male</td>\n",
              "      <td>30.00</td>\n",
              "      <td>1</td>\n",
              "      <td>2</td>\n",
              "      <td>151.5500</td>\n",
              "      <td>S</td>\n",
              "      <td>NaN</td>\n",
              "    </tr>\n",
              "    <tr>\n",
              "      <th>4</th>\n",
              "      <td>1</td>\n",
              "      <td>0</td>\n",
              "      <td>female</td>\n",
              "      <td>25.00</td>\n",
              "      <td>1</td>\n",
              "      <td>2</td>\n",
              "      <td>151.5500</td>\n",
              "      <td>S</td>\n",
              "      <td>NaN</td>\n",
              "    </tr>\n",
              "  </tbody>\n",
              "</table>\n",
              "</div>"
            ],
            "text/plain": [
              "   pclass  survived     sex    age  sibsp  parch      fare embarked boat\n",
              "0       1         1  female  29.00      0      0  211.3375        S    2\n",
              "1       1         1    male   0.92      1      2  151.5500        S   11\n",
              "2       1         0  female   2.00      1      2  151.5500        S  NaN\n",
              "3       1         0    male  30.00      1      2  151.5500        S  NaN\n",
              "4       1         0  female  25.00      1      2  151.5500        S  NaN"
            ]
          },
          "metadata": {},
          "execution_count": 81
        }
      ]
    },
    {
      "cell_type": "markdown",
      "metadata": {
        "id": "kv7NsoTEm_zU"
      },
      "source": [
        "These attributes are considered unimportant based on human judgment, reasoning, or basic knowledge. For example, if we want to measure the survival rate of Titanic passengers, the name attribute in this dataset does not indicate whether they survived or not. Apart from that, there are also several attributes that may not affect the measurement. So these attributes can be dropped."
      ]
    },
    {
      "cell_type": "markdown",
      "metadata": {
        "id": "2wg_F4N3tQPn"
      },
      "source": [
        "Attributes need to be dropped if:\n",
        "\n",
        "* Attributes are not intuitive.\n",
        "* Attributes have many missing values.\n",
        "* Attributes are not informative.\n",
        "* Attributes may be harmful for certain models.\n",
        "* These attributes can be generated from other attributes."
      ]
    },
    {
      "cell_type": "code",
      "metadata": {
        "id": "TSXGJngarAAT",
        "colab": {
          "base_uri": "https://localhost:8080/"
        },
        "outputId": "7e360c8a-418c-4524-93d8-95d811feebb1"
      },
      "source": [
        "cek_null(titanic_cleaned)"
      ],
      "execution_count": null,
      "outputs": [
        {
          "output_type": "stream",
          "name": "stdout",
          "text": [
            "          Total   Percent\n",
            "boat        839  0.617366\n",
            "age         267  0.196468\n",
            "embarked      2  0.001472\n",
            "fare          1  0.000736\n"
          ]
        }
      ]
    },
    {
      "cell_type": "markdown",
      "metadata": {
        "id": "e7Q-qUDPz-Rm"
      },
      "source": [
        "After removing unimportant attributes, it is necessary to handle attributes that still contain null values."
      ]
    },
    {
      "cell_type": "code",
      "metadata": {
        "id": "vlyjIawArFUI"
      },
      "source": [
        "# For the boat attribute, null values will be filled with \"None\"\n",
        "titanic_cleaned['boat'] = titanic_cleaned['boat'].fillna('None')"
      ],
      "execution_count": null,
      "outputs": []
    },
    {
      "cell_type": "code",
      "metadata": {
        "id": "IMbQ5pRDrgIu",
        "colab": {
          "base_uri": "https://localhost:8080/"
        },
        "outputId": "656fa428-1a39-4575-90e6-8d4cf53591c4"
      },
      "source": [
        "# Check the number of survivors and not if they have a boat or not\n",
        " (titanic_cleaned\n",
        " .groupby([titanic_cleaned.boat,'survived'])\n",
        " .boat\n",
        " .count()\n",
        " .unstack())"
      ],
      "execution_count": null,
      "outputs": [
        {
          "output_type": "execute_result",
          "data": {
            "text/html": [
              "<div>\n",
              "<style scoped>\n",
              "    .dataframe tbody tr th:only-of-type {\n",
              "        vertical-align: middle;\n",
              "    }\n",
              "\n",
              "    .dataframe tbody tr th {\n",
              "        vertical-align: top;\n",
              "    }\n",
              "\n",
              "    .dataframe thead th {\n",
              "        text-align: right;\n",
              "    }\n",
              "</style>\n",
              "<table border=\"1\" class=\"dataframe\">\n",
              "  <thead>\n",
              "    <tr style=\"text-align: right;\">\n",
              "      <th>survived</th>\n",
              "      <th>0</th>\n",
              "      <th>1</th>\n",
              "    </tr>\n",
              "    <tr>\n",
              "      <th>boat</th>\n",
              "      <th></th>\n",
              "      <th></th>\n",
              "    </tr>\n",
              "  </thead>\n",
              "  <tbody>\n",
              "    <tr>\n",
              "      <th>1</th>\n",
              "      <td>NaN</td>\n",
              "      <td>5.0</td>\n",
              "    </tr>\n",
              "    <tr>\n",
              "      <th>10</th>\n",
              "      <td>NaN</td>\n",
              "      <td>30.0</td>\n",
              "    </tr>\n",
              "    <tr>\n",
              "      <th>11</th>\n",
              "      <td>NaN</td>\n",
              "      <td>26.0</td>\n",
              "    </tr>\n",
              "    <tr>\n",
              "      <th>12</th>\n",
              "      <td>1.0</td>\n",
              "      <td>18.0</td>\n",
              "    </tr>\n",
              "    <tr>\n",
              "      <th>13</th>\n",
              "      <td>NaN</td>\n",
              "      <td>39.0</td>\n",
              "    </tr>\n",
              "    <tr>\n",
              "      <th>13 15</th>\n",
              "      <td>NaN</td>\n",
              "      <td>2.0</td>\n",
              "    </tr>\n",
              "    <tr>\n",
              "      <th>13 15 B</th>\n",
              "      <td>NaN</td>\n",
              "      <td>1.0</td>\n",
              "    </tr>\n",
              "    <tr>\n",
              "      <th>14</th>\n",
              "      <td>1.0</td>\n",
              "      <td>32.0</td>\n",
              "    </tr>\n",
              "    <tr>\n",
              "      <th>15</th>\n",
              "      <td>NaN</td>\n",
              "      <td>37.0</td>\n",
              "    </tr>\n",
              "    <tr>\n",
              "      <th>15 16</th>\n",
              "      <td>NaN</td>\n",
              "      <td>1.0</td>\n",
              "    </tr>\n",
              "    <tr>\n",
              "      <th>16</th>\n",
              "      <td>NaN</td>\n",
              "      <td>23.0</td>\n",
              "    </tr>\n",
              "    <tr>\n",
              "      <th>2</th>\n",
              "      <td>NaN</td>\n",
              "      <td>14.0</td>\n",
              "    </tr>\n",
              "    <tr>\n",
              "      <th>3</th>\n",
              "      <td>NaN</td>\n",
              "      <td>29.0</td>\n",
              "    </tr>\n",
              "    <tr>\n",
              "      <th>4</th>\n",
              "      <td>NaN</td>\n",
              "      <td>34.0</td>\n",
              "    </tr>\n",
              "    <tr>\n",
              "      <th>5</th>\n",
              "      <td>NaN</td>\n",
              "      <td>31.0</td>\n",
              "    </tr>\n",
              "    <tr>\n",
              "      <th>5 7</th>\n",
              "      <td>NaN</td>\n",
              "      <td>2.0</td>\n",
              "    </tr>\n",
              "    <tr>\n",
              "      <th>5 9</th>\n",
              "      <td>NaN</td>\n",
              "      <td>1.0</td>\n",
              "    </tr>\n",
              "    <tr>\n",
              "      <th>6</th>\n",
              "      <td>NaN</td>\n",
              "      <td>25.0</td>\n",
              "    </tr>\n",
              "    <tr>\n",
              "      <th>7</th>\n",
              "      <td>NaN</td>\n",
              "      <td>26.0</td>\n",
              "    </tr>\n",
              "    <tr>\n",
              "      <th>8</th>\n",
              "      <td>NaN</td>\n",
              "      <td>29.0</td>\n",
              "    </tr>\n",
              "    <tr>\n",
              "      <th>8 10</th>\n",
              "      <td>NaN</td>\n",
              "      <td>1.0</td>\n",
              "    </tr>\n",
              "    <tr>\n",
              "      <th>9</th>\n",
              "      <td>NaN</td>\n",
              "      <td>27.0</td>\n",
              "    </tr>\n",
              "    <tr>\n",
              "      <th>A</th>\n",
              "      <td>5.0</td>\n",
              "      <td>7.0</td>\n",
              "    </tr>\n",
              "    <tr>\n",
              "      <th>B</th>\n",
              "      <td>1.0</td>\n",
              "      <td>9.0</td>\n",
              "    </tr>\n",
              "    <tr>\n",
              "      <th>C</th>\n",
              "      <td>1.0</td>\n",
              "      <td>37.0</td>\n",
              "    </tr>\n",
              "    <tr>\n",
              "      <th>C D</th>\n",
              "      <td>NaN</td>\n",
              "      <td>2.0</td>\n",
              "    </tr>\n",
              "    <tr>\n",
              "      <th>D</th>\n",
              "      <td>1.0</td>\n",
              "      <td>22.0</td>\n",
              "    </tr>\n",
              "    <tr>\n",
              "      <th>None</th>\n",
              "      <td>816.0</td>\n",
              "      <td>23.0</td>\n",
              "    </tr>\n",
              "  </tbody>\n",
              "</table>\n",
              "</div>"
            ],
            "text/plain": [
              "survived      0     1\n",
              "boat                 \n",
              "1           NaN   5.0\n",
              "10          NaN  30.0\n",
              "11          NaN  26.0\n",
              "12          1.0  18.0\n",
              "13          NaN  39.0\n",
              "13 15       NaN   2.0\n",
              "13 15 B     NaN   1.0\n",
              "14          1.0  32.0\n",
              "15          NaN  37.0\n",
              "15 16       NaN   1.0\n",
              "16          NaN  23.0\n",
              "2           NaN  14.0\n",
              "3           NaN  29.0\n",
              "4           NaN  34.0\n",
              "5           NaN  31.0\n",
              "5 7         NaN   2.0\n",
              "5 9         NaN   1.0\n",
              "6           NaN  25.0\n",
              "7           NaN  26.0\n",
              "8           NaN  29.0\n",
              "8 10        NaN   1.0\n",
              "9           NaN  27.0\n",
              "A           5.0   7.0\n",
              "B           1.0   9.0\n",
              "C           1.0  37.0\n",
              "C D         NaN   2.0\n",
              "D           1.0  22.0\n",
              "None      816.0  23.0"
            ]
          },
          "metadata": {},
          "execution_count": 84
        }
      ]
    },
    {
      "cell_type": "code",
      "metadata": {
        "id": "IIZieScPrn5K",
        "colab": {
          "base_uri": "https://localhost:8080/"
        },
        "outputId": "8056b459-932a-4cd3-dfec-d0cf1a01362f"
      },
      "source": [
        "cek_null(titanic_cleaned)"
      ],
      "execution_count": null,
      "outputs": [
        {
          "output_type": "stream",
          "name": "stdout",
          "text": [
            "          Total   Percent\n",
            "age         267  0.196468\n",
            "embarked      2  0.001472\n",
            "fare          1  0.000736\n"
          ]
        }
      ]
    },
    {
      "cell_type": "code",
      "metadata": {
        "id": "NKY1kVzWrpsV"
      },
      "source": [
        "# For the \"age\" attribute, the null value will be filled with the median value\n",
        "col = [\"age\"]\n",
        "for c in col:\n",
        "    median = titanic_cleaned[~titanic_cleaned.isna()].median()[0]\n",
        "    titanic_cleaned[c] = titanic_cleaned[c].fillna(median)"
      ],
      "execution_count": null,
      "outputs": []
    },
    {
      "cell_type": "code",
      "metadata": {
        "id": "tiiVQranr7IZ"
      },
      "source": [
        "# For the \"embarked\" attribute, the null value will be filled with the value 'C'\n",
        "titanic_cleaned[\"embarked\"] = titanic_cleaned[\"embarked\"].fillna('C')"
      ],
      "execution_count": null,
      "outputs": []
    },
    {
      "cell_type": "code",
      "metadata": {
        "id": "4bOiT1f9t34j",
        "colab": {
          "base_uri": "https://localhost:8080/"
        },
        "outputId": "88f3a28a-9d91-4e3a-9766-43b7e5808d80"
      },
      "source": [
        "cek_null(titanic_cleaned)"
      ],
      "execution_count": null,
      "outputs": [
        {
          "output_type": "stream",
          "name": "stdout",
          "text": [
            "      Total   Percent\n",
            "fare      1  0.000736\n"
          ]
        }
      ]
    },
    {
      "cell_type": "code",
      "metadata": {
        "id": "voxx4-qyOVGI",
        "colab": {
          "base_uri": "https://localhost:8080/"
        },
        "outputId": "f98a8f82-9d68-44ea-f01f-12422874ff04"
      },
      "source": [
        "# Only the \"fare\" attribute has 1 row of null values\n",
        "titanic_cleaned[titanic_cleaned['fare'].isnull()]"
      ],
      "execution_count": null,
      "outputs": [
        {
          "output_type": "execute_result",
          "data": {
            "text/html": [
              "<div>\n",
              "<style scoped>\n",
              "    .dataframe tbody tr th:only-of-type {\n",
              "        vertical-align: middle;\n",
              "    }\n",
              "\n",
              "    .dataframe tbody tr th {\n",
              "        vertical-align: top;\n",
              "    }\n",
              "\n",
              "    .dataframe thead th {\n",
              "        text-align: right;\n",
              "    }\n",
              "</style>\n",
              "<table border=\"1\" class=\"dataframe\">\n",
              "  <thead>\n",
              "    <tr style=\"text-align: right;\">\n",
              "      <th></th>\n",
              "      <th>pclass</th>\n",
              "      <th>survived</th>\n",
              "      <th>sex</th>\n",
              "      <th>age</th>\n",
              "      <th>sibsp</th>\n",
              "      <th>parch</th>\n",
              "      <th>fare</th>\n",
              "      <th>embarked</th>\n",
              "      <th>boat</th>\n",
              "    </tr>\n",
              "  </thead>\n",
              "  <tbody>\n",
              "    <tr>\n",
              "      <th>1225</th>\n",
              "      <td>3</td>\n",
              "      <td>0</td>\n",
              "      <td>male</td>\n",
              "      <td>60.5</td>\n",
              "      <td>0</td>\n",
              "      <td>0</td>\n",
              "      <td>NaN</td>\n",
              "      <td>S</td>\n",
              "      <td>None</td>\n",
              "    </tr>\n",
              "  </tbody>\n",
              "</table>\n",
              "</div>"
            ],
            "text/plain": [
              "      pclass  survived   sex   age  sibsp  parch  fare embarked  boat\n",
              "1225       3         0  male  60.5      0      0   NaN        S  None"
            ]
          },
          "metadata": {},
          "execution_count": 89
        }
      ]
    },
    {
      "cell_type": "code",
      "metadata": {
        "id": "vj9pull1OVGK"
      },
      "source": [
        "# Delete rows where the \"fare\" attribute is null\n",
        "titanic_cleaned.dropna(inplace=True)"
      ],
      "execution_count": null,
      "outputs": []
    },
    {
      "cell_type": "code",
      "metadata": {
        "id": "ISI2cUbBuapN",
        "colab": {
          "base_uri": "https://localhost:8080/"
        },
        "outputId": "8f390b0d-3ebe-4333-e17d-5c1b98ffebb0"
      },
      "source": [
        "titanic_cleaned.shape"
      ],
      "execution_count": null,
      "outputs": [
        {
          "output_type": "execute_result",
          "data": {
            "text/plain": [
              "(1358, 9)"
            ]
          },
          "metadata": {},
          "execution_count": 91
        }
      ]
    },
    {
      "cell_type": "code",
      "metadata": {
        "id": "9IFXEigrOVGK",
        "colab": {
          "base_uri": "https://localhost:8080/"
        },
        "outputId": "eb7fb26f-a142-4b7c-de93-9dfecd210b19"
      },
      "source": [
        "titanic_cleaned.head()"
      ],
      "execution_count": null,
      "outputs": [
        {
          "output_type": "execute_result",
          "data": {
            "text/html": [
              "<div>\n",
              "<style scoped>\n",
              "    .dataframe tbody tr th:only-of-type {\n",
              "        vertical-align: middle;\n",
              "    }\n",
              "\n",
              "    .dataframe tbody tr th {\n",
              "        vertical-align: top;\n",
              "    }\n",
              "\n",
              "    .dataframe thead th {\n",
              "        text-align: right;\n",
              "    }\n",
              "</style>\n",
              "<table border=\"1\" class=\"dataframe\">\n",
              "  <thead>\n",
              "    <tr style=\"text-align: right;\">\n",
              "      <th></th>\n",
              "      <th>pclass</th>\n",
              "      <th>survived</th>\n",
              "      <th>sex</th>\n",
              "      <th>age</th>\n",
              "      <th>sibsp</th>\n",
              "      <th>parch</th>\n",
              "      <th>fare</th>\n",
              "      <th>embarked</th>\n",
              "      <th>boat</th>\n",
              "    </tr>\n",
              "  </thead>\n",
              "  <tbody>\n",
              "    <tr>\n",
              "      <th>0</th>\n",
              "      <td>1</td>\n",
              "      <td>1</td>\n",
              "      <td>female</td>\n",
              "      <td>29.00</td>\n",
              "      <td>0</td>\n",
              "      <td>0</td>\n",
              "      <td>211.3375</td>\n",
              "      <td>S</td>\n",
              "      <td>2</td>\n",
              "    </tr>\n",
              "    <tr>\n",
              "      <th>1</th>\n",
              "      <td>1</td>\n",
              "      <td>1</td>\n",
              "      <td>male</td>\n",
              "      <td>0.92</td>\n",
              "      <td>1</td>\n",
              "      <td>2</td>\n",
              "      <td>151.5500</td>\n",
              "      <td>S</td>\n",
              "      <td>11</td>\n",
              "    </tr>\n",
              "    <tr>\n",
              "      <th>2</th>\n",
              "      <td>1</td>\n",
              "      <td>0</td>\n",
              "      <td>female</td>\n",
              "      <td>2.00</td>\n",
              "      <td>1</td>\n",
              "      <td>2</td>\n",
              "      <td>151.5500</td>\n",
              "      <td>S</td>\n",
              "      <td>None</td>\n",
              "    </tr>\n",
              "    <tr>\n",
              "      <th>3</th>\n",
              "      <td>1</td>\n",
              "      <td>0</td>\n",
              "      <td>male</td>\n",
              "      <td>30.00</td>\n",
              "      <td>1</td>\n",
              "      <td>2</td>\n",
              "      <td>151.5500</td>\n",
              "      <td>S</td>\n",
              "      <td>None</td>\n",
              "    </tr>\n",
              "    <tr>\n",
              "      <th>4</th>\n",
              "      <td>1</td>\n",
              "      <td>0</td>\n",
              "      <td>female</td>\n",
              "      <td>25.00</td>\n",
              "      <td>1</td>\n",
              "      <td>2</td>\n",
              "      <td>151.5500</td>\n",
              "      <td>S</td>\n",
              "      <td>None</td>\n",
              "    </tr>\n",
              "  </tbody>\n",
              "</table>\n",
              "</div>"
            ],
            "text/plain": [
              "   pclass  survived     sex    age  sibsp  parch      fare embarked  boat\n",
              "0       1         1  female  29.00      0      0  211.3375        S     2\n",
              "1       1         1    male   0.92      1      2  151.5500        S    11\n",
              "2       1         0  female   2.00      1      2  151.5500        S  None\n",
              "3       1         0    male  30.00      1      2  151.5500        S  None\n",
              "4       1         0  female  25.00      1      2  151.5500        S  None"
            ]
          },
          "metadata": {},
          "execution_count": 92
        }
      ]
    },
    {
      "cell_type": "code",
      "metadata": {
        "id": "fwlxWzK7ujcs",
        "colab": {
          "base_uri": "https://localhost:8080/"
        },
        "outputId": "1c830711-e1f5-4ce9-b580-63986d7a049c"
      },
      "source": [
        "titanic_cleaned.info()"
      ],
      "execution_count": null,
      "outputs": [
        {
          "output_type": "stream",
          "name": "stdout",
          "text": [
            "<class 'pandas.core.frame.DataFrame'>\n",
            "Int64Index: 1358 entries, 0 to 1358\n",
            "Data columns (total 9 columns):\n",
            " #   Column    Non-Null Count  Dtype  \n",
            "---  ------    --------------  -----  \n",
            " 0   pclass    1358 non-null   int64  \n",
            " 1   survived  1358 non-null   int64  \n",
            " 2   sex       1358 non-null   object \n",
            " 3   age       1358 non-null   float64\n",
            " 4   sibsp     1358 non-null   int64  \n",
            " 5   parch     1358 non-null   int64  \n",
            " 6   fare      1358 non-null   float64\n",
            " 7   embarked  1358 non-null   object \n",
            " 8   boat      1358 non-null   object \n",
            "dtypes: float64(2), int64(4), object(3)\n",
            "memory usage: 106.1+ KB\n"
          ]
        }
      ]
    },
    {
      "cell_type": "code",
      "metadata": {
        "id": "YBTW9QWaunGK"
      },
      "source": [
        "# Perform label encoding, to convert categorical data of string type to numeric values\n",
        "col = titanic_cleaned.select_dtypes(include=[\"object\"]).columns\n",
        "\n",
        "for c in col:\n",
        "    if len(titanic_cleaned[c].value_counts()) <= 28:\n",
        "        le = LabelEncoder()\n",
        "        le.fit(list(titanic_cleaned[c].values))\n",
        "        titanic_cleaned[c] = le.transform(list(titanic_cleaned[c].values))"
      ],
      "execution_count": null,
      "outputs": []
    },
    {
      "cell_type": "code",
      "metadata": {
        "id": "oF5FvWysu97L",
        "colab": {
          "base_uri": "https://localhost:8080/"
        },
        "outputId": "4995c474-a6a2-4224-ba1c-9dc41c670c5e"
      },
      "source": [
        "titanic_cleaned.head()"
      ],
      "execution_count": null,
      "outputs": [
        {
          "output_type": "execute_result",
          "data": {
            "text/html": [
              "<div>\n",
              "<style scoped>\n",
              "    .dataframe tbody tr th:only-of-type {\n",
              "        vertical-align: middle;\n",
              "    }\n",
              "\n",
              "    .dataframe tbody tr th {\n",
              "        vertical-align: top;\n",
              "    }\n",
              "\n",
              "    .dataframe thead th {\n",
              "        text-align: right;\n",
              "    }\n",
              "</style>\n",
              "<table border=\"1\" class=\"dataframe\">\n",
              "  <thead>\n",
              "    <tr style=\"text-align: right;\">\n",
              "      <th></th>\n",
              "      <th>pclass</th>\n",
              "      <th>survived</th>\n",
              "      <th>sex</th>\n",
              "      <th>age</th>\n",
              "      <th>sibsp</th>\n",
              "      <th>parch</th>\n",
              "      <th>fare</th>\n",
              "      <th>embarked</th>\n",
              "      <th>boat</th>\n",
              "    </tr>\n",
              "  </thead>\n",
              "  <tbody>\n",
              "    <tr>\n",
              "      <th>0</th>\n",
              "      <td>1</td>\n",
              "      <td>1</td>\n",
              "      <td>0</td>\n",
              "      <td>29.00</td>\n",
              "      <td>0</td>\n",
              "      <td>0</td>\n",
              "      <td>211.3375</td>\n",
              "      <td>2</td>\n",
              "      <td>11</td>\n",
              "    </tr>\n",
              "    <tr>\n",
              "      <th>1</th>\n",
              "      <td>1</td>\n",
              "      <td>1</td>\n",
              "      <td>1</td>\n",
              "      <td>0.92</td>\n",
              "      <td>1</td>\n",
              "      <td>2</td>\n",
              "      <td>151.5500</td>\n",
              "      <td>2</td>\n",
              "      <td>2</td>\n",
              "    </tr>\n",
              "    <tr>\n",
              "      <th>2</th>\n",
              "      <td>1</td>\n",
              "      <td>0</td>\n",
              "      <td>0</td>\n",
              "      <td>2.00</td>\n",
              "      <td>1</td>\n",
              "      <td>2</td>\n",
              "      <td>151.5500</td>\n",
              "      <td>2</td>\n",
              "      <td>27</td>\n",
              "    </tr>\n",
              "    <tr>\n",
              "      <th>3</th>\n",
              "      <td>1</td>\n",
              "      <td>0</td>\n",
              "      <td>1</td>\n",
              "      <td>30.00</td>\n",
              "      <td>1</td>\n",
              "      <td>2</td>\n",
              "      <td>151.5500</td>\n",
              "      <td>2</td>\n",
              "      <td>27</td>\n",
              "    </tr>\n",
              "    <tr>\n",
              "      <th>4</th>\n",
              "      <td>1</td>\n",
              "      <td>0</td>\n",
              "      <td>0</td>\n",
              "      <td>25.00</td>\n",
              "      <td>1</td>\n",
              "      <td>2</td>\n",
              "      <td>151.5500</td>\n",
              "      <td>2</td>\n",
              "      <td>27</td>\n",
              "    </tr>\n",
              "  </tbody>\n",
              "</table>\n",
              "</div>"
            ],
            "text/plain": [
              "   pclass  survived  sex    age  sibsp  parch      fare  embarked  boat\n",
              "0       1         1    0  29.00      0      0  211.3375         2    11\n",
              "1       1         1    1   0.92      1      2  151.5500         2     2\n",
              "2       1         0    0   2.00      1      2  151.5500         2    27\n",
              "3       1         0    1  30.00      1      2  151.5500         2    27\n",
              "4       1         0    0  25.00      1      2  151.5500         2    27"
            ]
          },
          "metadata": {},
          "execution_count": 95
        }
      ]
    },
    {
      "cell_type": "code",
      "metadata": {
        "id": "xBtyn8GqvKyB",
        "colab": {
          "base_uri": "https://localhost:8080/"
        },
        "outputId": "a5b2699b-47c2-4825-8848-d80300213866"
      },
      "source": [
        "titanic_cleaned.info()"
      ],
      "execution_count": null,
      "outputs": [
        {
          "output_type": "stream",
          "name": "stdout",
          "text": [
            "<class 'pandas.core.frame.DataFrame'>\n",
            "Int64Index: 1358 entries, 0 to 1358\n",
            "Data columns (total 9 columns):\n",
            " #   Column    Non-Null Count  Dtype  \n",
            "---  ------    --------------  -----  \n",
            " 0   pclass    1358 non-null   int64  \n",
            " 1   survived  1358 non-null   int64  \n",
            " 2   sex       1358 non-null   int64  \n",
            " 3   age       1358 non-null   float64\n",
            " 4   sibsp     1358 non-null   int64  \n",
            " 5   parch     1358 non-null   int64  \n",
            " 6   fare      1358 non-null   float64\n",
            " 7   embarked  1358 non-null   int64  \n",
            " 8   boat      1358 non-null   int64  \n",
            "dtypes: float64(2), int64(7)\n",
            "memory usage: 106.1 KB\n"
          ]
        }
      ]
    },
    {
      "cell_type": "markdown",
      "metadata": {
        "id": "6nDpp29PwYOk"
      },
      "source": [
        "## Preparation for Machine Learning"
      ]
    },
    {
      "cell_type": "markdown",
      "metadata": {
        "id": "fM4zMQnVz-Rp"
      },
      "source": [
        "Suppose we are given the task of predicting whether someone will survive the Titanic disaster or not. The target attribute is \"survived\", while the other attributes are *predictors* (features that will determine the prediction results).\n",
        "\n",
        "Some processing that can be done before our data is entered into a *machine learning* algorithm includes (but is not limited to):\n",
        "* Separating target attributes and *predictor* attributes\n",
        "* Perform normalization if necessary\n",
        "* Separating data into *training* and *testing* data (will be discussed in the next few labs)"
      ]
    },
    {
      "cell_type": "code",
      "metadata": {
        "id": "mSFQ0swwvj1U"
      },
      "source": [
        "# Separating target attributes (Y) from predictor attributes (X)\n",
        "X = titanic_cleaned.drop('survived', axis=1)\n",
        "Y = titanic_cleaned['survived']"
      ],
      "execution_count": null,
      "outputs": []
    },
    {
      "cell_type": "markdown",
      "metadata": {
        "id": "PKskkBe55OBI"
      },
      "source": [
        "(a) Perform normalization on X. Implement it with code! Hint: [Data Preprocessing Documentation](https://scikit-learn.org/stable/modules/preprocessing.html#standardization-or-mean-removal-and-variance-scaling)"
      ]
    },
    {
      "cell_type": "code",
      "metadata": {
        "id": "WmTNVF8kwQcC",
        "colab": {
          "base_uri": "https://localhost:8080/",
          "height": 423
        },
        "outputId": "0e5dba6d-2e4c-46ad-85e5-a2a4327775cb"
      },
      "source": [
        "from sklearn.preprocessing import MinMaxScaler\n",
        "\n",
        "scale = MinMaxScaler()\n",
        "result = scale.fit_transform(titanic_cleaned)\n",
        "scaled_result = pd.DataFrame(result)\n",
        "scaled_result"
      ],
      "execution_count": null,
      "outputs": [
        {
          "output_type": "execute_result",
          "data": {
            "text/html": [
              "<div>\n",
              "<style scoped>\n",
              "    .dataframe tbody tr th:only-of-type {\n",
              "        vertical-align: middle;\n",
              "    }\n",
              "\n",
              "    .dataframe tbody tr th {\n",
              "        vertical-align: top;\n",
              "    }\n",
              "\n",
              "    .dataframe thead th {\n",
              "        text-align: right;\n",
              "    }\n",
              "</style>\n",
              "<table border=\"1\" class=\"dataframe\">\n",
              "  <thead>\n",
              "    <tr style=\"text-align: right;\">\n",
              "      <th></th>\n",
              "      <th>0</th>\n",
              "      <th>1</th>\n",
              "      <th>2</th>\n",
              "      <th>3</th>\n",
              "      <th>4</th>\n",
              "      <th>5</th>\n",
              "      <th>6</th>\n",
              "      <th>7</th>\n",
              "      <th>8</th>\n",
              "    </tr>\n",
              "  </thead>\n",
              "  <tbody>\n",
              "    <tr>\n",
              "      <th>0</th>\n",
              "      <td>0.0</td>\n",
              "      <td>1.0</td>\n",
              "      <td>0.0</td>\n",
              "      <td>0.361142</td>\n",
              "      <td>0.000</td>\n",
              "      <td>0.000000</td>\n",
              "      <td>0.412503</td>\n",
              "      <td>1.0</td>\n",
              "      <td>0.407407</td>\n",
              "    </tr>\n",
              "    <tr>\n",
              "      <th>1</th>\n",
              "      <td>0.0</td>\n",
              "      <td>1.0</td>\n",
              "      <td>1.0</td>\n",
              "      <td>0.009395</td>\n",
              "      <td>0.125</td>\n",
              "      <td>0.222222</td>\n",
              "      <td>0.295806</td>\n",
              "      <td>1.0</td>\n",
              "      <td>0.074074</td>\n",
              "    </tr>\n",
              "    <tr>\n",
              "      <th>2</th>\n",
              "      <td>0.0</td>\n",
              "      <td>0.0</td>\n",
              "      <td>0.0</td>\n",
              "      <td>0.022924</td>\n",
              "      <td>0.125</td>\n",
              "      <td>0.222222</td>\n",
              "      <td>0.295806</td>\n",
              "      <td>1.0</td>\n",
              "      <td>1.000000</td>\n",
              "    </tr>\n",
              "    <tr>\n",
              "      <th>3</th>\n",
              "      <td>0.0</td>\n",
              "      <td>0.0</td>\n",
              "      <td>1.0</td>\n",
              "      <td>0.373669</td>\n",
              "      <td>0.125</td>\n",
              "      <td>0.222222</td>\n",
              "      <td>0.295806</td>\n",
              "      <td>1.0</td>\n",
              "      <td>1.000000</td>\n",
              "    </tr>\n",
              "    <tr>\n",
              "      <th>4</th>\n",
              "      <td>0.0</td>\n",
              "      <td>0.0</td>\n",
              "      <td>0.0</td>\n",
              "      <td>0.311036</td>\n",
              "      <td>0.125</td>\n",
              "      <td>0.222222</td>\n",
              "      <td>0.295806</td>\n",
              "      <td>1.0</td>\n",
              "      <td>1.000000</td>\n",
              "    </tr>\n",
              "    <tr>\n",
              "      <th>...</th>\n",
              "      <td>...</td>\n",
              "      <td>...</td>\n",
              "      <td>...</td>\n",
              "      <td>...</td>\n",
              "      <td>...</td>\n",
              "      <td>...</td>\n",
              "      <td>...</td>\n",
              "      <td>...</td>\n",
              "      <td>...</td>\n",
              "    </tr>\n",
              "    <tr>\n",
              "      <th>1353</th>\n",
              "      <td>0.0</td>\n",
              "      <td>0.0</td>\n",
              "      <td>1.0</td>\n",
              "      <td>0.561568</td>\n",
              "      <td>0.000</td>\n",
              "      <td>0.000000</td>\n",
              "      <td>0.051822</td>\n",
              "      <td>1.0</td>\n",
              "      <td>1.000000</td>\n",
              "    </tr>\n",
              "    <tr>\n",
              "      <th>1354</th>\n",
              "      <td>0.0</td>\n",
              "      <td>0.0</td>\n",
              "      <td>1.0</td>\n",
              "      <td>0.035450</td>\n",
              "      <td>0.000</td>\n",
              "      <td>0.000000</td>\n",
              "      <td>0.060508</td>\n",
              "      <td>1.0</td>\n",
              "      <td>1.000000</td>\n",
              "    </tr>\n",
              "    <tr>\n",
              "      <th>1355</th>\n",
              "      <td>0.0</td>\n",
              "      <td>1.0</td>\n",
              "      <td>1.0</td>\n",
              "      <td>0.523988</td>\n",
              "      <td>0.000</td>\n",
              "      <td>0.000000</td>\n",
              "      <td>0.051310</td>\n",
              "      <td>1.0</td>\n",
              "      <td>0.518519</td>\n",
              "    </tr>\n",
              "    <tr>\n",
              "      <th>1356</th>\n",
              "      <td>0.0</td>\n",
              "      <td>1.0</td>\n",
              "      <td>0.0</td>\n",
              "      <td>0.661781</td>\n",
              "      <td>0.000</td>\n",
              "      <td>0.000000</td>\n",
              "      <td>0.053571</td>\n",
              "      <td>0.0</td>\n",
              "      <td>0.629630</td>\n",
              "    </tr>\n",
              "    <tr>\n",
              "      <th>1357</th>\n",
              "      <td>0.0</td>\n",
              "      <td>1.0</td>\n",
              "      <td>1.0</td>\n",
              "      <td>0.448829</td>\n",
              "      <td>0.000</td>\n",
              "      <td>0.111111</td>\n",
              "      <td>1.000000</td>\n",
              "      <td>0.0</td>\n",
              "      <td>0.444444</td>\n",
              "    </tr>\n",
              "  </tbody>\n",
              "</table>\n",
              "<p>1358 rows × 9 columns</p>\n",
              "</div>"
            ],
            "text/plain": [
              "        0    1    2         3      4         5         6    7         8\n",
              "0     0.0  1.0  0.0  0.361142  0.000  0.000000  0.412503  1.0  0.407407\n",
              "1     0.0  1.0  1.0  0.009395  0.125  0.222222  0.295806  1.0  0.074074\n",
              "2     0.0  0.0  0.0  0.022924  0.125  0.222222  0.295806  1.0  1.000000\n",
              "3     0.0  0.0  1.0  0.373669  0.125  0.222222  0.295806  1.0  1.000000\n",
              "4     0.0  0.0  0.0  0.311036  0.125  0.222222  0.295806  1.0  1.000000\n",
              "...   ...  ...  ...       ...    ...       ...       ...  ...       ...\n",
              "1353  0.0  0.0  1.0  0.561568  0.000  0.000000  0.051822  1.0  1.000000\n",
              "1354  0.0  0.0  1.0  0.035450  0.000  0.000000  0.060508  1.0  1.000000\n",
              "1355  0.0  1.0  1.0  0.523988  0.000  0.000000  0.051310  1.0  0.518519\n",
              "1356  0.0  1.0  0.0  0.661781  0.000  0.000000  0.053571  0.0  0.629630\n",
              "1357  0.0  1.0  1.0  0.448829  0.000  0.111111  1.000000  0.0  0.444444\n",
              "\n",
              "[1358 rows x 9 columns]"
            ]
          },
          "metadata": {},
          "execution_count": 100
        }
      ]
    },
    {
      "cell_type": "markdown",
      "metadata": {
        "id": "n2F8ksSpz-Rp"
      },
      "source": [
        "Minmaxscaler is a form that is easy to use, therefore many people use minmaxscaler to carry out normalization. Minmaxscaler will scale the data from 0 to 1 inclusively. Guarantee all features have the same scale."
      ]
    },
    {
      "cell_type": "markdown",
      "metadata": {
        "id": "IEdkNNOqz-Rp"
      },
      "source": [
        "From the Titanic data and the answers above, the minimum and maximum values for each attribute vary. Therefore, normalization needs to be carried out because the Titanic classification has a diverse range of values."
      ]
    }
  ]
}